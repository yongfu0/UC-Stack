{
 "cells": [
  {
   "cell_type": "code",
   "execution_count": 7,
   "id": "e9ff8c16",
   "metadata": {},
   "outputs": [],
   "source": [
    "import numpy as np\n",
    "import matplotlib.pyplot as plt\n",
    "import pandas as pd\n",
    "from sklearn.metrics import confusion_matrix\n",
    "from sklearn.preprocessing import StandardScaler\n",
    "from sklearn.model_selection import train_test_split\n",
    "from sklearn.metrics import accuracy_score, recall_score, f1_score, precision_score\n",
    "from sklearn.model_selection import GridSearchCV\n",
    "from sklearn.svm import SVC\n",
    "from sklearn.metrics import accuracy_score, recall_score, f1_score, precision_score,roc_curve, auc \n",
    "import sklearn.metrics as sm\n",
    "\n",
    "from sklearn import metrics"
   ]
  },
  {
   "cell_type": "code",
   "execution_count": 8,
   "id": "2a954132",
   "metadata": {},
   "outputs": [],
   "source": [
    "dataset = pd.read_csv('output_test.csv')\n",
    "X= dataset.drop(['label'], axis=1)   # 取出用于建模的特征列X\n",
    "Y = dataset['label']   # 取出标签列Y\n",
    "\n",
    "X_train, X_test, Y_train, Y_test = train_test_split(X, Y, test_size=0.3, random_state=420)"
   ]
  },
  {
   "cell_type": "code",
   "execution_count": 9,
   "id": "c3ba7732",
   "metadata": {},
   "outputs": [],
   "source": [
    "sc = StandardScaler()\n",
    "X_train = sc.fit_transform(X_train)\n",
    "X_test = sc.transform(X_test)"
   ]
  },
  {
   "cell_type": "code",
   "execution_count": 10,
   "id": "1c83997f",
   "metadata": {},
   "outputs": [],
   "source": [
    "classifier = SVC(kernel='linear',class_weight=\"balanced\", random_state = 420, probability=True)"
   ]
  },
  {
   "cell_type": "code",
   "execution_count": 11,
   "id": "a29cd3e1",
   "metadata": {},
   "outputs": [
    {
     "name": "stdout",
     "output_type": "stream",
     "text": [
      "---------------分类报告\n",
      "               precision    recall  f1-score   support\n",
      "\n",
      "           0       0.55      0.31      0.40       149\n",
      "           1       0.22      0.41      0.29        51\n",
      "           2       0.29      0.30      0.29        84\n",
      "           3       0.42      0.53      0.47        76\n",
      "\n",
      "    accuracy                           0.37       360\n",
      "   macro avg       0.37      0.39      0.36       360\n",
      "weighted avg       0.42      0.37      0.37       360\n",
      "\n"
     ]
    }
   ],
   "source": [
    "classifier.fit(X_train, Y_train)\n",
    "\n",
    "y_pred = classifier.predict(X_test)\n",
    "cp = sm.classification_report(Y_test, y_pred)\n",
    "print(\"---------------分类报告\\n\", cp)"
   ]
  },
  {
   "cell_type": "code",
   "execution_count": 12,
   "id": "bdf41fe0",
   "metadata": {},
   "outputs": [
    {
     "name": "stdout",
     "output_type": "stream",
     "text": [
      "Accuracy score: 0.36666666666666664\n",
      "Recall: 0.36666666666666664\n",
      "F1-score: 0.37187333010442086\n",
      "Precision score: 0.4166386902722809\n"
     ]
    }
   ],
   "source": [
    "\n",
    "print('Accuracy score:', accuracy_score(Y_test, y_pred))\n",
    "print('Recall:', recall_score(Y_test, y_pred, average='weighted'))\n",
    "print('F1-score:', f1_score(Y_test, y_pred, average='weighted'))\n",
    "print('Precision score:', precision_score(Y_test, y_pred, average='weighted'))\n",
    "# y_test_proba_rfc =classifier.predict_proba(X_test)\n",
    "# false_positive_rate_rfc, recall_rfc, thresholds_rfc = roc_curve(Y_test, y_test_proba_rfc[:, 1])  \n",
    "# roc_auc_rfc = auc(false_positive_rate_rfc, recall_rfc)   \n",
    "# print(roc_auc_rfc )"
   ]
  },
  {
   "cell_type": "code",
   "execution_count": 7,
   "id": "36295173",
   "metadata": {},
   "outputs": [],
   "source": [
    "param_grid=[{\n",
    "            'gamma':[10, 5, 2.5, 1.5, 1.25, 0.625, 0.3125, 0.15, 0.05, 0.025, 0.0125],             \n",
    "            },\n",
    "           ]"
   ]
  },
  {
   "cell_type": "code",
   "execution_count": 8,
   "id": "8f28726d",
   "metadata": {},
   "outputs": [
    {
     "name": "stdout",
     "output_type": "stream",
     "text": [
      "Fitting 10 folds for each of 11 candidates, totalling 110 fits\n"
     ]
    },
    {
     "data": {
      "text/plain": [
       "0.8392857142857144"
      ]
     },
     "execution_count": 8,
     "metadata": {},
     "output_type": "execute_result"
    }
   ],
   "source": [
    "classifier1 = SVC(kernel='rbf',class_weight=\"balanced\", random_state = 420, probability=True)\n",
    "grid_search = GridSearchCV(classifier1, param_grid, n_jobs = -1, verbose = 1, cv=10)     \n",
    "grid_search.fit(X_train, Y_train)   \n",
    "classifier1 = grid_search.best_estimator_ \n",
    "grid_search.best_score_ "
   ]
  },
  {
   "cell_type": "code",
   "execution_count": 9,
   "id": "e06f0cec",
   "metadata": {},
   "outputs": [
    {
     "data": {
      "text/plain": [
       "{'gamma': 0.05}"
      ]
     },
     "execution_count": 9,
     "metadata": {},
     "output_type": "execute_result"
    }
   ],
   "source": [
    "grid_search.best_params_ "
   ]
  },
  {
   "cell_type": "code",
   "execution_count": 10,
   "id": "80432135",
   "metadata": {},
   "outputs": [
    {
     "name": "stdout",
     "output_type": "stream",
     "text": [
      "---------------分类报告\n",
      "               precision    recall  f1-score   support\n",
      "\n",
      "           0       0.89      0.83      0.86       149\n",
      "           1       0.69      0.88      0.78        51\n",
      "           2       0.79      0.82      0.81        84\n",
      "           3       0.80      0.72      0.76        76\n",
      "\n",
      "    accuracy                           0.81       360\n",
      "   macro avg       0.79      0.81      0.80       360\n",
      "weighted avg       0.82      0.81      0.81       360\n",
      "\n",
      "[[124   8  10   7]\n",
      " [  4  45   2   0]\n",
      " [  1   7  69   7]\n",
      " [ 10   5   6  55]]\n",
      "Accuracy score: 0.8138888888888889\n",
      "Recall: 0.8138888888888889\n",
      "F1-score: 0.8147754643633348\n",
      "Precision score: 0.8206359872698467\n"
     ]
    }
   ],
   "source": [
    "\n",
    "y_pred1 = classifier1.predict(X_test)\n",
    "cp = sm.classification_report(Y_test, y_pred1)\n",
    "print(\"---------------分类报告\\n\", cp)\n",
    "cm = confusion_matrix(Y_test, y_pred1)\n",
    "print(cm)\n",
    "print('Accuracy score:', accuracy_score(Y_test, y_pred1))\n",
    "print('Recall:', recall_score(Y_test, y_pred1, average='weighted'))\n",
    "print('F1-score:', f1_score(Y_test, y_pred1, average='weighted'))\n",
    "print('Precision score:', precision_score(Y_test, y_pred1, average='weighted'))\n",
    "# y_test_proba_rfc =classifier1.predict_proba(X_test)\n",
    "# false_positive_rate_rfc, recall_rfc, thresholds_rfc = roc_curve(Y_test, y_test_proba_rfc[:, 1])  \n",
    "# roc_auc_rfc = auc(false_positive_rate_rfc, recall_rfc)   \n",
    "# print(roc_auc_rfc )"
   ]
  },
  {
   "cell_type": "code",
   "execution_count": null,
   "id": "ac8c0b0d",
   "metadata": {},
   "outputs": [],
   "source": []
  },
  {
   "cell_type": "code",
   "execution_count": 11,
   "id": "278513b6",
   "metadata": {},
   "outputs": [],
   "source": [
    "param_grid=[{\n",
    "            'gamma':[1,2,3,4,5,6,7,8,9,10],  \n",
    "            'C':[0.0001,0.001,0.01,0.1,1,10,100,1000,10000], \n",
    "            },\n",
    "           ]"
   ]
  },
  {
   "cell_type": "code",
   "execution_count": 12,
   "id": "52156f30",
   "metadata": {},
   "outputs": [
    {
     "name": "stdout",
     "output_type": "stream",
     "text": [
      "Fitting 10 folds for each of 90 candidates, totalling 900 fits\n"
     ]
    },
    {
     "data": {
      "text/plain": [
       "0.6095238095238095"
      ]
     },
     "execution_count": 12,
     "metadata": {},
     "output_type": "execute_result"
    }
   ],
   "source": [
    "classifier2 = SVC(kernel='sigmoid',class_weight=\"balanced\", random_state = 420, probability=True)\n",
    "grid_search = GridSearchCV(classifier2, param_grid, n_jobs = -1, verbose = 1, cv=10)     \n",
    "grid_search.fit(X_train, Y_train)   \n",
    "classifier2 = grid_search.best_estimator_ \n",
    "grid_search.best_score_ "
   ]
  },
  {
   "cell_type": "code",
   "execution_count": 13,
   "id": "5b49c612",
   "metadata": {
    "scrolled": true
   },
   "outputs": [
    {
     "name": "stdout",
     "output_type": "stream",
     "text": [
      "---------------分类报告\n",
      "               precision    recall  f1-score   support\n",
      "\n",
      "           0       0.94      0.42      0.58       149\n",
      "           1       0.45      0.67      0.54        51\n",
      "           2       0.67      0.56      0.61        84\n",
      "           3       0.47      0.92      0.62        76\n",
      "\n",
      "    accuracy                           0.59       360\n",
      "   macro avg       0.63      0.64      0.59       360\n",
      "weighted avg       0.71      0.59      0.59       360\n",
      "\n",
      "Accuracy score: 0.5916666666666667\n",
      "Recall: 0.5916666666666667\n",
      "F1-score: 0.5889453039065442\n",
      "Precision score: 0.7088733193229838\n"
     ]
    }
   ],
   "source": [
    "\n",
    "y_pred2 = classifier2.predict(X_test)\n",
    "cp = sm.classification_report(Y_test, y_pred2)\n",
    "print(\"---------------分类报告\\n\", cp)\n",
    "from sklearn.metrics import accuracy_score, recall_score, f1_score, precision_score\n",
    "print('Accuracy score:', accuracy_score(Y_test, y_pred2))\n",
    "print('Recall:', recall_score(Y_test, y_pred2, average='weighted'))\n",
    "print('F1-score:', f1_score(Y_test, y_pred2, average='weighted'))\n",
    "print('Precision score:', precision_score(Y_test, y_pred2, average='weighted'))"
   ]
  },
  {
   "cell_type": "code",
   "execution_count": 17,
   "id": "ce688bcd",
   "metadata": {},
   "outputs": [],
   "source": []
  },
  {
   "cell_type": "code",
   "execution_count": 18,
   "id": "c6271b60",
   "metadata": {},
   "outputs": [
    {
     "data": {
      "text/plain": [
       "13"
      ]
     },
     "execution_count": 18,
     "metadata": {},
     "output_type": "execute_result"
    }
   ],
   "source": []
  },
  {
   "cell_type": "code",
   "execution_count": 7,
   "id": "9cf72c83",
   "metadata": {},
   "outputs": [
    {
     "name": "stdout",
     "output_type": "stream",
     "text": [
      "[[32  9]\n",
      " [17 17]]\n"
     ]
    }
   ],
   "source": [
    "cm = confusion_matrix(Y_test, y_pred)\n",
    "print(cm)"
   ]
  },
  {
   "cell_type": "code",
   "execution_count": 17,
   "id": "1ddf98bf",
   "metadata": {
    "scrolled": false
   },
   "outputs": [
    {
     "ename": "ValueError",
     "evalue": "multi_class must be in ('ovo', 'ovr')",
     "output_type": "error",
     "traceback": [
      "\u001b[1;31m---------------------------------------------------------------------------\u001b[0m",
      "\u001b[1;31mValueError\u001b[0m                                Traceback (most recent call last)",
      "Input \u001b[1;32mIn [17]\u001b[0m, in \u001b[0;36m<cell line: 3>\u001b[1;34m()\u001b[0m\n\u001b[0;32m     17\u001b[0m cm \u001b[38;5;241m=\u001b[39m confusion_matrix(Y_test, y_pred)   \n\u001b[0;32m     18\u001b[0m cm_updata \u001b[38;5;241m=\u001b[39m confusion_matrix(Y_train, y_updatapred)\n\u001b[1;32m---> 19\u001b[0m auc \u001b[38;5;241m=\u001b[39m \u001b[43mroc_auc_score\u001b[49m\u001b[43m(\u001b[49m\u001b[43mY_test\u001b[49m\u001b[43m,\u001b[49m\u001b[43m \u001b[49m\u001b[43my_pred\u001b[49m\u001b[43m)\u001b[49m\n\u001b[0;32m     20\u001b[0m auc_updata \u001b[38;5;241m=\u001b[39m roc_auc_score(Y_train, y_updatapred)\n\u001b[0;32m     21\u001b[0m a \u001b[38;5;241m=\u001b[39m cm[\u001b[38;5;241m0\u001b[39m,\u001b[38;5;241m0\u001b[39m]\n",
      "File \u001b[1;32mE:\\Anaconda1\\lib\\site-packages\\sklearn\\metrics\\_ranking.py:564\u001b[0m, in \u001b[0;36mroc_auc_score\u001b[1;34m(y_true, y_score, average, sample_weight, max_fpr, multi_class, labels)\u001b[0m\n\u001b[0;32m    557\u001b[0m         \u001b[38;5;28;01mraise\u001b[39;00m \u001b[38;5;167;01mValueError\u001b[39;00m(\n\u001b[0;32m    558\u001b[0m             \u001b[38;5;124m\"\u001b[39m\u001b[38;5;124mPartial AUC computation not available in \u001b[39m\u001b[38;5;124m\"\u001b[39m\n\u001b[0;32m    559\u001b[0m             \u001b[38;5;124m\"\u001b[39m\u001b[38;5;124mmulticlass setting, \u001b[39m\u001b[38;5;124m'\u001b[39m\u001b[38;5;124mmax_fpr\u001b[39m\u001b[38;5;124m'\u001b[39m\u001b[38;5;124m must be\u001b[39m\u001b[38;5;124m\"\u001b[39m\n\u001b[0;32m    560\u001b[0m             \u001b[38;5;124m\"\u001b[39m\u001b[38;5;124m set to `None`, received `max_fpr=\u001b[39m\u001b[38;5;132;01m{0}\u001b[39;00m\u001b[38;5;124m` \u001b[39m\u001b[38;5;124m\"\u001b[39m\n\u001b[0;32m    561\u001b[0m             \u001b[38;5;124m\"\u001b[39m\u001b[38;5;124minstead\u001b[39m\u001b[38;5;124m\"\u001b[39m\u001b[38;5;241m.\u001b[39mformat(max_fpr)\n\u001b[0;32m    562\u001b[0m         )\n\u001b[0;32m    563\u001b[0m     \u001b[38;5;28;01mif\u001b[39;00m multi_class \u001b[38;5;241m==\u001b[39m \u001b[38;5;124m\"\u001b[39m\u001b[38;5;124mraise\u001b[39m\u001b[38;5;124m\"\u001b[39m:\n\u001b[1;32m--> 564\u001b[0m         \u001b[38;5;28;01mraise\u001b[39;00m \u001b[38;5;167;01mValueError\u001b[39;00m(\u001b[38;5;124m\"\u001b[39m\u001b[38;5;124mmulti_class must be in (\u001b[39m\u001b[38;5;124m'\u001b[39m\u001b[38;5;124movo\u001b[39m\u001b[38;5;124m'\u001b[39m\u001b[38;5;124m, \u001b[39m\u001b[38;5;124m'\u001b[39m\u001b[38;5;124movr\u001b[39m\u001b[38;5;124m'\u001b[39m\u001b[38;5;124m)\u001b[39m\u001b[38;5;124m\"\u001b[39m)\n\u001b[0;32m    565\u001b[0m     \u001b[38;5;28;01mreturn\u001b[39;00m _multiclass_roc_auc_score(\n\u001b[0;32m    566\u001b[0m         y_true, y_score, labels, multi_class, average, sample_weight\n\u001b[0;32m    567\u001b[0m     )\n\u001b[0;32m    568\u001b[0m \u001b[38;5;28;01melif\u001b[39;00m y_type \u001b[38;5;241m==\u001b[39m \u001b[38;5;124m\"\u001b[39m\u001b[38;5;124mbinary\u001b[39m\u001b[38;5;124m\"\u001b[39m:\n",
      "\u001b[1;31mValueError\u001b[0m: multi_class must be in ('ovo', 'ovr')"
     ]
    }
   ],
   "source": [
    "empty = np.array([[0],[0],[0],[0],[0],[0],[0],[0],[0],[0],[0],[0],[0]])\n",
    "n=1\n",
    "while n < 51:\n",
    "    \n",
    "    \n",
    "    X_train, X_test, y_train, y_test = train_test_split(X, Y, test_size = 0.3, random_state =n)\n",
    "    sc = StandardScaler()\n",
    "    X_train = sc.fit_transform(X_train)\n",
    "    X_test = sc.transform(X_test)\n",
    "    \n",
    "    classifier = SVC(kernel='linear',class_weight=\"balanced\", random_state = 420, probability=True)\n",
    "    classifier.fit(X_train, Y_train)\n",
    "    \n",
    "    y_pred = classifier.predict(X_test)   \n",
    "    y_updatapred = classifier.predict(X_train)\n",
    "    from sklearn.metrics import confusion_matrix, roc_auc_score\n",
    "    cm = confusion_matrix(Y_test, y_pred)   \n",
    "    cm_updata = confusion_matrix(Y_train, y_updatapred)\n",
    "    auc = roc_auc_score(Y_test, y_pred,multi_class='ovo')\n",
    "    auc_updata = roc_auc_score(Y_train, y_updatapred)\n",
    "    a = cm[0,0]\n",
    "    b = cm[0,1]\n",
    "    c = cm[1,0]\n",
    "    d = cm[1,1]\n",
    "    sen = d/(d+c)\n",
    "    sep = a/(a+b)\n",
    "    acc = (a+d)/(a+b+c+d)\n",
    "    pre = a/(a+c)\n",
    "    F1 = (2*a)/(2*a+c+b)\n",
    "    \n",
    "    a_updata = cm_updata[0,0]\n",
    "    b_updata = cm_updata[0,1]\n",
    "    c_updata = cm_updata[1,0]\n",
    "    d_updata = cm_updata[1,1]\n",
    "    \n",
    "    sen_updata = d_updata/(d_updata + c_updata)\n",
    "    sep_updata = a_updata/(a_updata + b_updata)\n",
    "    \n",
    "    acc_updata = (a_updata+d_updata)/(a_updata+b_updata+c_updata+d_updata)\n",
    "    pre_updata = a_updata/(a_updata + c_updata)\n",
    "    F1_updata = (2*a_updata)/(2*a_updata+c_updata+b_updata)\n",
    "    \n",
    "    first = np.array([[n],[sen],[sep],[acc],[pre],[F1],[auc],[sen_updata],[sep_updata],[acc_updata],[pre_updata],[F1_updata],[auc_updata]])\n",
    "    second = np.hstack((empty,first))\n",
    "    empty = second\n",
    "    n = n + 1\n",
    "    print(n)\n",
    "final_par = np.delete(second,0,axis=1)\n",
    "print (final_par)\n",
    "final_parT = final_par.T\n",
    "np.savetxt('SVC_dr',final_parT,delimiter=',')"
   ]
  },
  {
   "cell_type": "code",
   "execution_count": null,
   "id": "0c57e71f",
   "metadata": {},
   "outputs": [],
   "source": []
  },
  {
   "cell_type": "code",
   "execution_count": null,
   "id": "a0de08b3",
   "metadata": {},
   "outputs": [],
   "source": []
  },
  {
   "cell_type": "code",
   "execution_count": null,
   "id": "3aa5c671",
   "metadata": {},
   "outputs": [],
   "source": []
  },
  {
   "cell_type": "code",
   "execution_count": null,
   "id": "5bfc68b4",
   "metadata": {},
   "outputs": [],
   "source": []
  },
  {
   "cell_type": "code",
   "execution_count": null,
   "id": "5f623fae",
   "metadata": {},
   "outputs": [],
   "source": []
  }
 ],
 "metadata": {
  "kernelspec": {
   "display_name": "base",
   "language": "python",
   "name": "base"
  },
  "language_info": {
   "codemirror_mode": {
    "name": "ipython",
    "version": 3
   },
   "file_extension": ".py",
   "mimetype": "text/x-python",
   "name": "python",
   "nbconvert_exporter": "python",
   "pygments_lexer": "ipython3",
   "version": "3.7.16"
  }
 },
 "nbformat": 4,
 "nbformat_minor": 5
}
