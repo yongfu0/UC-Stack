{
 "cells": [
  {
   "cell_type": "code",
   "execution_count": 1,
   "id": "7c621183",
   "metadata": {},
   "outputs": [],
   "source": [
    "import xgboost as xgb\n",
    "import numpy as np\n",
    "import matplotlib.pyplot as plt\n",
    "import pandas as pd\n",
    "from sklearn.metrics import confusion_matrix\n",
    "from sklearn.preprocessing import StandardScaler\n",
    "from sklearn.model_selection import train_test_split\n",
    "\n",
    "import sklearn.metrics as sm"
   ]
  },
  {
   "cell_type": "code",
   "execution_count": 2,
   "id": "bd78f509",
   "metadata": {},
   "outputs": [],
   "source": [
    "dataset = pd.read_csv('wrapper_63.csv')\n",
    "X= dataset.drop(['label'], axis=1)   # 取出用于建模的特征列X\n",
    "Y = dataset['label']   # 取出标签列Y\n",
    "\n",
    "X_train, X_test, Y_train, Y_test = train_test_split(X, Y, test_size=0.2, random_state=420)"
   ]
  },
  {
   "cell_type": "code",
   "execution_count": 3,
   "id": "f65e7376",
   "metadata": {},
   "outputs": [],
   "source": [
    "sc = StandardScaler()\n",
    "X_train = sc.fit_transform(X_train)\n",
    "X_test = sc.transform(X_test)"
   ]
  },
  {
   "cell_type": "code",
   "execution_count": 4,
   "id": "7c341e24",
   "metadata": {},
   "outputs": [],
   "source": [
    "param_grid=[{\n",
    "            'n_estimators':[i for i in range(40,150,10)],\n",
    "            'eta':[0.01,0.02,0.04,0.08,0.1,0.2,0.3],\n",
    "            'max_depth':[2,3,4,5,6,7,8],\n",
    "             'gamma':[0,0.1,1.0,2.0,3.0],\n",
    "            },\n",
    "           ]"
   ]
  },
  {
   "cell_type": "code",
   "execution_count": 5,
   "id": "3a0426f9",
   "metadata": {},
   "outputs": [],
   "source": [
    "boost = xgb.XGBClassifier(random_state = 420)"
   ]
  },
  {
   "cell_type": "code",
   "execution_count": 6,
   "id": "9903f118",
   "metadata": {},
   "outputs": [
    {
     "name": "stdout",
     "output_type": "stream",
     "text": [
      "Fitting 5 folds for each of 2695 candidates, totalling 13475 fits\n"
     ]
    },
    {
     "data": {
      "text/plain": [
       "{'eta': 0.08, 'gamma': 0.1, 'max_depth': 4, 'n_estimators': 60}"
      ]
     },
     "execution_count": 6,
     "metadata": {},
     "output_type": "execute_result"
    }
   ],
   "source": [
    "from sklearn.model_selection import GridSearchCV\n",
    "grid_search = GridSearchCV(boost, param_grid, n_jobs = -1, verbose = 1, cv=5)     \n",
    "grid_search.fit(X_train, Y_train)   \n",
    "boost = grid_search.best_estimator_ \n",
    "grid_search.best_params_ "
   ]
  },
  {
   "cell_type": "code",
   "execution_count": 7,
   "id": "01403e2c",
   "metadata": {},
   "outputs": [
    {
     "data": {
      "text/plain": [
       "XGBClassifier(base_score=0.5, booster='gbtree', callbacks=None,\n",
       "              colsample_bylevel=1, colsample_bynode=1, colsample_bytree=1,\n",
       "              early_stopping_rounds=None, enable_categorical=False, eta=0.08,\n",
       "              eval_metric=None, gamma=0.1, gpu_id=-1, grow_policy='depthwise',\n",
       "              importance_type=None, interaction_constraints='',\n",
       "              learning_rate=0.0799999982, max_bin=256, max_cat_to_onehot=4,\n",
       "              max_delta_step=0, max_depth=4, max_leaves=0, min_child_weight=1,\n",
       "              missing=nan, monotone_constraints='()', n_estimators=60, n_jobs=0,\n",
       "              num_parallel_tree=1, objective='multi:softprob', predictor='auto',\n",
       "              random_state=420, ...)"
      ]
     },
     "execution_count": 7,
     "metadata": {},
     "output_type": "execute_result"
    }
   ],
   "source": [
    "boost.fit(X_train, Y_train)"
   ]
  },
  {
   "cell_type": "code",
   "execution_count": 8,
   "id": "c6bd815d",
   "metadata": {},
   "outputs": [
    {
     "name": "stdout",
     "output_type": "stream",
     "text": [
      "---------------分类报告\n",
      "               precision    recall  f1-score   support\n",
      "\n",
      "           0       0.82      0.90      0.86       100\n",
      "           1       0.78      0.76      0.77        33\n",
      "           2       0.75      0.77      0.76        53\n",
      "           3       0.86      0.69      0.76        54\n",
      "\n",
      "    accuracy                           0.80       240\n",
      "   macro avg       0.80      0.78      0.79       240\n",
      "weighted avg       0.81      0.80      0.80       240\n",
      "\n"
     ]
    }
   ],
   "source": [
    "y_pred = boost.predict(X_test)\n",
    "cp = sm.classification_report(Y_test, y_pred)\n",
    "print(\"---------------分类报告\\n\", cp)"
   ]
  },
  {
   "cell_type": "code",
   "execution_count": 9,
   "id": "b6b33501",
   "metadata": {},
   "outputs": [
    {
     "name": "stdout",
     "output_type": "stream",
     "text": [
      "Accuracy score: 0.8041666666666667\n",
      "Recall: 0.8041666666666667\n",
      "F1-score: 0.8022313255345902\n",
      "Precision score: 0.8065568291930938\n"
     ]
    }
   ],
   "source": [
    "from sklearn.metrics import accuracy_score, recall_score, f1_score, precision_score,roc_curve, auc \n",
    "\n",
    "print('Accuracy score:', accuracy_score(Y_test, y_pred))\n",
    "print('Recall:', recall_score(Y_test, y_pred, average='weighted'))\n",
    "print('F1-score:', f1_score(Y_test, y_pred, average='weighted'))\n",
    "print('Precision score:', precision_score(Y_test, y_pred, average='weighted'))\n",
    "\n",
    "# y_test_proba_rfc = boost.predict_proba(X_test)\n",
    "# false_positive_rate_rfc, recall_rfc, thresholds_rfc = roc_curve(Y_test, y_test_proba_rfc[:, 1])  \n",
    "# roc_auc_rfc = auc(false_positive_rate_rfc, recall_rfc)   \n",
    "# print(\"---------------AUC\\n\", cp)\n",
    "# print(roc_auc_rfc )"
   ]
  },
  {
   "cell_type": "code",
   "execution_count": null,
   "id": "656ef208",
   "metadata": {},
   "outputs": [],
   "source": []
  },
  {
   "cell_type": "code",
   "execution_count": 10,
   "id": "4fc7ecb9",
   "metadata": {},
   "outputs": [],
   "source": [
    "param_grid=[{\n",
    "             'min_child_weight':[i for i in range(1,15,1)],\n",
    "             'max_delta_step':[i for i in range(1,15,1)],\n",
    "\n",
    "            },\n",
    "           ]"
   ]
  },
  {
   "cell_type": "code",
   "execution_count": 11,
   "id": "f094e387",
   "metadata": {},
   "outputs": [],
   "source": [
    "boost = xgb.XGBClassifier(eta=0.008,gamma=0.1,max_depth=4, n_estimators=60,random_state = 420)"
   ]
  },
  {
   "cell_type": "code",
   "execution_count": 12,
   "id": "d9e2ab39",
   "metadata": {},
   "outputs": [
    {
     "name": "stdout",
     "output_type": "stream",
     "text": [
      "Fitting 5 folds for each of 196 candidates, totalling 980 fits\n"
     ]
    },
    {
     "data": {
      "text/plain": [
       "{'max_delta_step': 2, 'min_child_weight': 9}"
      ]
     },
     "execution_count": 12,
     "metadata": {},
     "output_type": "execute_result"
    }
   ],
   "source": [
    "from sklearn.model_selection import GridSearchCV\n",
    "grid_search = GridSearchCV(boost, param_grid, n_jobs = -1, verbose = 1, cv=5)     \n",
    "grid_search.fit(X_train, Y_train)   \n",
    "boost = grid_search.best_estimator_ \n",
    "grid_search.best_params_ "
   ]
  },
  {
   "cell_type": "code",
   "execution_count": 13,
   "id": "597bfacf",
   "metadata": {},
   "outputs": [
    {
     "data": {
      "text/plain": [
       "XGBClassifier(base_score=0.5, booster='gbtree', callbacks=None,\n",
       "              colsample_bylevel=1, colsample_bynode=1, colsample_bytree=1,\n",
       "              early_stopping_rounds=None, enable_categorical=False, eta=0.008,\n",
       "              eval_metric=None, gamma=0.1, gpu_id=-1, grow_policy='depthwise',\n",
       "              importance_type=None, interaction_constraints='',\n",
       "              learning_rate=0.00800000038, max_bin=256, max_cat_to_onehot=4,\n",
       "              max_delta_step=2, max_depth=4, max_leaves=0, min_child_weight=9,\n",
       "              missing=nan, monotone_constraints='()', n_estimators=60, n_jobs=0,\n",
       "              num_parallel_tree=1, objective='multi:softprob', predictor='auto',\n",
       "              random_state=420, ...)"
      ]
     },
     "execution_count": 13,
     "metadata": {},
     "output_type": "execute_result"
    }
   ],
   "source": [
    "boost.fit(X_train, Y_train)"
   ]
  },
  {
   "cell_type": "code",
   "execution_count": 14,
   "id": "4c698078",
   "metadata": {},
   "outputs": [
    {
     "name": "stdout",
     "output_type": "stream",
     "text": [
      "---------------分类报告\n",
      "               precision    recall  f1-score   support\n",
      "\n",
      "           0       0.83      0.90      0.87       100\n",
      "           1       0.74      0.76      0.75        33\n",
      "           2       0.79      0.77      0.78        53\n",
      "           3       0.89      0.76      0.82        54\n",
      "\n",
      "    accuracy                           0.82       240\n",
      "   macro avg       0.81      0.80      0.80       240\n",
      "weighted avg       0.82      0.82      0.82       240\n",
      "\n"
     ]
    }
   ],
   "source": [
    "y_pred = boost.predict(X_test)\n",
    "from sklearn.metrics import confusion_matrix\n",
    "cp = sm.classification_report(Y_test, y_pred)\n",
    "print(\"---------------分类报告\\n\", cp)"
   ]
  },
  {
   "cell_type": "code",
   "execution_count": 15,
   "id": "058a556b",
   "metadata": {},
   "outputs": [
    {
     "name": "stdout",
     "output_type": "stream",
     "text": [
      "Accuracy score: 0.8208333333333333\n",
      "Recall: 0.8208333333333333\n",
      "F1-score: 0.8201491808357481\n",
      "Precision score: 0.8229872314031521\n"
     ]
    }
   ],
   "source": [
    "from sklearn.metrics import accuracy_score, recall_score, f1_score, precision_score,roc_curve, auc \n",
    "\n",
    "print('Accuracy score:', accuracy_score(Y_test, y_pred))\n",
    "print('Recall:', recall_score(Y_test, y_pred, average='weighted'))\n",
    "print('F1-score:', f1_score(Y_test, y_pred, average='weighted'))\n",
    "print('Precision score:', precision_score(Y_test, y_pred, average='weighted'))\n",
    "\n",
    "\n",
    "\n",
    "# y_test_proba_rfc = boost.predict_proba(X_test)\n",
    "# false_positive_rate_rfc, recall_rfc, thresholds_rfc = roc_curve(Y_test, y_test_proba_rfc[:, 1])  \n",
    "# roc_auc_rfc = auc(false_positive_rate_rfc, recall_rfc)   \n",
    "# print(\"---------------AUC\\n\", cp)\n",
    "# print(roc_auc_rfc )"
   ]
  },
  {
   "cell_type": "code",
   "execution_count": null,
   "id": "77c674d2",
   "metadata": {},
   "outputs": [],
   "source": []
  },
  {
   "cell_type": "code",
   "execution_count": 16,
   "id": "6d938680",
   "metadata": {},
   "outputs": [],
   "source": [
    "param_grid=[{\n",
    "            'subsample':[0.1,0.2,0.4,0.6,0.8,1.0], \n",
    "            'reg_alpha':[i for i in range(1,50,2)], \n",
    "            },\n",
    "           ]"
   ]
  },
  {
   "cell_type": "code",
   "execution_count": 16,
   "id": "dfbed145",
   "metadata": {},
   "outputs": [],
   "source": [
    "boost = xgb.XGBClassifier(eta=0.008,gamma=0.1,max_depth=4, n_estimators=60, max_delta_step=2,min_child_weight=9,random_state = 420)"
   ]
  },
  {
   "cell_type": "code",
   "execution_count": 17,
   "id": "764f0105",
   "metadata": {},
   "outputs": [
    {
     "name": "stdout",
     "output_type": "stream",
     "text": [
      "Fitting 5 folds for each of 196 candidates, totalling 980 fits\n"
     ]
    },
    {
     "data": {
      "text/plain": [
       "{'max_delta_step': 2, 'min_child_weight': 9}"
      ]
     },
     "execution_count": 17,
     "metadata": {},
     "output_type": "execute_result"
    }
   ],
   "source": [
    "from sklearn.model_selection import GridSearchCV\n",
    "grid_search = GridSearchCV(boost, param_grid, n_jobs = -1, verbose = 1, cv=5)     \n",
    "grid_search.fit(X_train, Y_train)   \n",
    "boost = grid_search.best_estimator_ \n",
    "grid_search.best_params_ "
   ]
  },
  {
   "cell_type": "code",
   "execution_count": 18,
   "id": "6366e695",
   "metadata": {},
   "outputs": [
    {
     "data": {
      "text/plain": [
       "XGBClassifier(base_score=0.5, booster='gbtree', callbacks=None,\n",
       "              colsample_bylevel=1, colsample_bynode=1, colsample_bytree=1,\n",
       "              early_stopping_rounds=None, enable_categorical=False, eta=0.008,\n",
       "              eval_metric=None, gamma=0.1, gpu_id=-1, grow_policy='depthwise',\n",
       "              importance_type=None, interaction_constraints='',\n",
       "              learning_rate=0.00800000038, max_bin=256, max_cat_to_onehot=4,\n",
       "              max_delta_step=2, max_depth=4, max_leaves=0, min_child_weight=9,\n",
       "              missing=nan, monotone_constraints='()', n_estimators=60, n_jobs=0,\n",
       "              num_parallel_tree=1, objective='multi:softprob', predictor='auto',\n",
       "              random_state=420, ...)"
      ]
     },
     "execution_count": 18,
     "metadata": {},
     "output_type": "execute_result"
    }
   ],
   "source": [
    "boost.fit(X_train, Y_train)"
   ]
  },
  {
   "cell_type": "code",
   "execution_count": 19,
   "id": "5aa0c55d",
   "metadata": {},
   "outputs": [
    {
     "name": "stdout",
     "output_type": "stream",
     "text": [
      "---------------分类报告\n",
      "               precision    recall  f1-score   support\n",
      "\n",
      "           0       0.83      0.90      0.87       100\n",
      "           1       0.74      0.76      0.75        33\n",
      "           2       0.79      0.77      0.78        53\n",
      "           3       0.89      0.76      0.82        54\n",
      "\n",
      "    accuracy                           0.82       240\n",
      "   macro avg       0.81      0.80      0.80       240\n",
      "weighted avg       0.82      0.82      0.82       240\n",
      "\n"
     ]
    }
   ],
   "source": [
    "y_pred = boost.predict(X_test)\n",
    "cp = sm.classification_report(Y_test, y_pred)\n",
    "print(\"---------------分类报告\\n\", cp)"
   ]
  },
  {
   "cell_type": "code",
   "execution_count": 20,
   "id": "e3d8884c",
   "metadata": {},
   "outputs": [
    {
     "name": "stdout",
     "output_type": "stream",
     "text": [
      "Accuracy score: 0.8208333333333333\n",
      "Recall: 0.8208333333333333\n",
      "F1-score: 0.8201491808357481\n",
      "Precision score: 0.8229872314031521\n"
     ]
    }
   ],
   "source": [
    "from sklearn.metrics import accuracy_score, recall_score, f1_score, precision_score,roc_curve, auc \n",
    "\n",
    "print('Accuracy score:', accuracy_score(Y_test, y_pred))\n",
    "print('Recall:', recall_score(Y_test, y_pred, average='weighted'))\n",
    "print('F1-score:', f1_score(Y_test, y_pred, average='weighted'))\n",
    "print('Precision score:', precision_score(Y_test, y_pred, average='weighted'))\n",
    "\n",
    "# y_test_proba_rfc = boost.predict_proba(X_test)\n",
    "# false_positive_rate_rfc, recall_rfc, thresholds_rfc = roc_curve(Y_test, y_test_proba_rfc[:, 1])  \n",
    "# roc_auc_rfc = auc(false_positive_rate_rfc, recall_rfc)   \n",
    "# print(\"---------------AUC\\n\", cp)\n",
    "# print(roc_auc_rfc )"
   ]
  },
  {
   "cell_type": "code",
   "execution_count": null,
   "id": "d3589fa4",
   "metadata": {},
   "outputs": [],
   "source": []
  },
  {
   "cell_type": "code",
   "execution_count": 23,
   "id": "16350f2a",
   "metadata": {},
   "outputs": [
    {
     "data": {
      "text/html": [
       "<style>#sk-container-id-4 {color: black;background-color: white;}#sk-container-id-4 pre{padding: 0;}#sk-container-id-4 div.sk-toggleable {background-color: white;}#sk-container-id-4 label.sk-toggleable__label {cursor: pointer;display: block;width: 100%;margin-bottom: 0;padding: 0.3em;box-sizing: border-box;text-align: center;}#sk-container-id-4 label.sk-toggleable__label-arrow:before {content: \"▸\";float: left;margin-right: 0.25em;color: #696969;}#sk-container-id-4 label.sk-toggleable__label-arrow:hover:before {color: black;}#sk-container-id-4 div.sk-estimator:hover label.sk-toggleable__label-arrow:before {color: black;}#sk-container-id-4 div.sk-toggleable__content {max-height: 0;max-width: 0;overflow: hidden;text-align: left;background-color: #f0f8ff;}#sk-container-id-4 div.sk-toggleable__content pre {margin: 0.2em;color: black;border-radius: 0.25em;background-color: #f0f8ff;}#sk-container-id-4 input.sk-toggleable__control:checked~div.sk-toggleable__content {max-height: 200px;max-width: 100%;overflow: auto;}#sk-container-id-4 input.sk-toggleable__control:checked~label.sk-toggleable__label-arrow:before {content: \"▾\";}#sk-container-id-4 div.sk-estimator input.sk-toggleable__control:checked~label.sk-toggleable__label {background-color: #d4ebff;}#sk-container-id-4 div.sk-label input.sk-toggleable__control:checked~label.sk-toggleable__label {background-color: #d4ebff;}#sk-container-id-4 input.sk-hidden--visually {border: 0;clip: rect(1px 1px 1px 1px);clip: rect(1px, 1px, 1px, 1px);height: 1px;margin: -1px;overflow: hidden;padding: 0;position: absolute;width: 1px;}#sk-container-id-4 div.sk-estimator {font-family: monospace;background-color: #f0f8ff;border: 1px dotted black;border-radius: 0.25em;box-sizing: border-box;margin-bottom: 0.5em;}#sk-container-id-4 div.sk-estimator:hover {background-color: #d4ebff;}#sk-container-id-4 div.sk-parallel-item::after {content: \"\";width: 100%;border-bottom: 1px solid gray;flex-grow: 1;}#sk-container-id-4 div.sk-label:hover label.sk-toggleable__label {background-color: #d4ebff;}#sk-container-id-4 div.sk-serial::before {content: \"\";position: absolute;border-left: 1px solid gray;box-sizing: border-box;top: 0;bottom: 0;left: 50%;z-index: 0;}#sk-container-id-4 div.sk-serial {display: flex;flex-direction: column;align-items: center;background-color: white;padding-right: 0.2em;padding-left: 0.2em;position: relative;}#sk-container-id-4 div.sk-item {position: relative;z-index: 1;}#sk-container-id-4 div.sk-parallel {display: flex;align-items: stretch;justify-content: center;background-color: white;position: relative;}#sk-container-id-4 div.sk-item::before, #sk-container-id-4 div.sk-parallel-item::before {content: \"\";position: absolute;border-left: 1px solid gray;box-sizing: border-box;top: 0;bottom: 0;left: 50%;z-index: -1;}#sk-container-id-4 div.sk-parallel-item {display: flex;flex-direction: column;z-index: 1;position: relative;background-color: white;}#sk-container-id-4 div.sk-parallel-item:first-child::after {align-self: flex-end;width: 50%;}#sk-container-id-4 div.sk-parallel-item:last-child::after {align-self: flex-start;width: 50%;}#sk-container-id-4 div.sk-parallel-item:only-child::after {width: 0;}#sk-container-id-4 div.sk-dashed-wrapped {border: 1px dashed gray;margin: 0 0.4em 0.5em 0.4em;box-sizing: border-box;padding-bottom: 0.4em;background-color: white;}#sk-container-id-4 div.sk-label label {font-family: monospace;font-weight: bold;display: inline-block;line-height: 1.2em;}#sk-container-id-4 div.sk-label-container {text-align: center;}#sk-container-id-4 div.sk-container {/* jupyter's `normalize.less` sets `[hidden] { display: none; }` but bootstrap.min.css set `[hidden] { display: none !important; }` so we also need the `!important` here to be able to override the default hidden behavior on the sphinx rendered scikit-learn.org. See: https://github.com/scikit-learn/scikit-learn/issues/21755 */display: inline-block !important;position: relative;}#sk-container-id-4 div.sk-text-repr-fallback {display: none;}</style><div id=\"sk-container-id-4\" class=\"sk-top-container\"><div class=\"sk-text-repr-fallback\"><pre>XGBClassifier(base_score=None, booster=None, callbacks=None,\n",
       "              colsample_bylevel=None, colsample_bynode=None,\n",
       "              colsample_bytree=None, early_stopping_rounds=None,\n",
       "              enable_categorical=False, eta=0.04, eval_metric=None,\n",
       "              feature_types=None, gamma=2, gpu_id=None, grow_policy=None,\n",
       "              importance_type=None, interaction_constraints=None,\n",
       "              learning_rate=None, max_bin=None, max_cat_threshold=None,\n",
       "              max_cat_to_onehot=None, max_delta_step=1, max_depth=6,\n",
       "              max_leaves=None, min_child_weight=7, missing=nan,\n",
       "              monotone_constraints=None, n_estimators=80, n_jobs=None,\n",
       "              num_parallel_tree=None, predictor=None, ...)</pre><b>In a Jupyter environment, please rerun this cell to show the HTML representation or trust the notebook. <br />On GitHub, the HTML representation is unable to render, please try loading this page with nbviewer.org.</b></div><div class=\"sk-container\" hidden><div class=\"sk-item\"><div class=\"sk-estimator sk-toggleable\"><input class=\"sk-toggleable__control sk-hidden--visually\" id=\"sk-estimator-id-4\" type=\"checkbox\" checked><label for=\"sk-estimator-id-4\" class=\"sk-toggleable__label sk-toggleable__label-arrow\">XGBClassifier</label><div class=\"sk-toggleable__content\"><pre>XGBClassifier(base_score=None, booster=None, callbacks=None,\n",
       "              colsample_bylevel=None, colsample_bynode=None,\n",
       "              colsample_bytree=None, early_stopping_rounds=None,\n",
       "              enable_categorical=False, eta=0.04, eval_metric=None,\n",
       "              feature_types=None, gamma=2, gpu_id=None, grow_policy=None,\n",
       "              importance_type=None, interaction_constraints=None,\n",
       "              learning_rate=None, max_bin=None, max_cat_threshold=None,\n",
       "              max_cat_to_onehot=None, max_delta_step=1, max_depth=6,\n",
       "              max_leaves=None, min_child_weight=7, missing=nan,\n",
       "              monotone_constraints=None, n_estimators=80, n_jobs=None,\n",
       "              num_parallel_tree=None, predictor=None, ...)</pre></div></div></div></div></div>"
      ],
      "text/plain": [
       "XGBClassifier(base_score=None, booster=None, callbacks=None,\n",
       "              colsample_bylevel=None, colsample_bynode=None,\n",
       "              colsample_bytree=None, early_stopping_rounds=None,\n",
       "              enable_categorical=False, eta=0.04, eval_metric=None,\n",
       "              feature_types=None, gamma=2, gpu_id=None, grow_policy=None,\n",
       "              importance_type=None, interaction_constraints=None,\n",
       "              learning_rate=None, max_bin=None, max_cat_threshold=None,\n",
       "              max_cat_to_onehot=None, max_delta_step=1, max_depth=6,\n",
       "              max_leaves=None, min_child_weight=7, missing=nan,\n",
       "              monotone_constraints=None, n_estimators=80, n_jobs=None,\n",
       "              num_parallel_tree=None, predictor=None, ...)"
      ]
     },
     "execution_count": 23,
     "metadata": {},
     "output_type": "execute_result"
    }
   ],
   "source": [
    "boost = xgb.XGBClassifier(eta=0.04,gamma=2,max_depth=6, n_estimators=80, max_delta_step=1,min_child_weight=12,reg_alpha=1, subsample=0.1,random_state = 420)\n",
    "boost.fit(X_train, Y_train)"
   ]
  },
  {
   "cell_type": "code",
   "execution_count": 24,
   "id": "1f7a7a81",
   "metadata": {},
   "outputs": [
    {
     "name": "stdout",
     "output_type": "stream",
     "text": [
      "---------------分类报告\n",
      "               precision    recall  f1-score   support\n",
      "\n",
      "           0       0.69      1.00      0.82        52\n",
      "           1       0.00      0.00      0.00        23\n",
      "\n",
      "    accuracy                           0.69        75\n",
      "   macro avg       0.35      0.50      0.41        75\n",
      "weighted avg       0.48      0.69      0.57        75\n",
      "\n"
     ]
    },
    {
     "name": "stderr",
     "output_type": "stream",
     "text": [
      "E:\\Anaconda1\\lib\\site-packages\\sklearn\\metrics\\_classification.py:1334: UndefinedMetricWarning: Precision and F-score are ill-defined and being set to 0.0 in labels with no predicted samples. Use `zero_division` parameter to control this behavior.\n",
      "  _warn_prf(average, modifier, msg_start, len(result))\n",
      "E:\\Anaconda1\\lib\\site-packages\\sklearn\\metrics\\_classification.py:1334: UndefinedMetricWarning: Precision and F-score are ill-defined and being set to 0.0 in labels with no predicted samples. Use `zero_division` parameter to control this behavior.\n",
      "  _warn_prf(average, modifier, msg_start, len(result))\n",
      "E:\\Anaconda1\\lib\\site-packages\\sklearn\\metrics\\_classification.py:1334: UndefinedMetricWarning: Precision and F-score are ill-defined and being set to 0.0 in labels with no predicted samples. Use `zero_division` parameter to control this behavior.\n",
      "  _warn_prf(average, modifier, msg_start, len(result))\n"
     ]
    }
   ],
   "source": [
    "y_pred = boost.predict(X_test)\n",
    "cp = sm.classification_report(Y_test, y_pred)\n",
    "print(\"---------------分类报告\\n\", cp)"
   ]
  },
  {
   "cell_type": "code",
   "execution_count": null,
   "id": "5dc78cf7",
   "metadata": {},
   "outputs": [],
   "source": []
  },
  {
   "cell_type": "code",
   "execution_count": 22,
   "id": "f7b2c8da",
   "metadata": {},
   "outputs": [
    {
     "name": "stdout",
     "output_type": "stream",
     "text": [
      "Accuracy score: 0.6933333333333334\n",
      "Recall: 0.6933333333333334\n",
      "F1-score: 0.5677690288713911\n",
      "Precision score: 0.48071111111111114\n",
      "---------------AUC\n",
      "               precision    recall  f1-score   support\n",
      "\n",
      "           0       0.69      1.00      0.82        52\n",
      "           1       0.00      0.00      0.00        23\n",
      "\n",
      "    accuracy                           0.69        75\n",
      "   macro avg       0.35      0.50      0.41        75\n",
      "weighted avg       0.48      0.69      0.57        75\n",
      "\n",
      "0.5\n",
      "..................................\n"
     ]
    },
    {
     "name": "stderr",
     "output_type": "stream",
     "text": [
      "E:\\Anaconda1\\lib\\site-packages\\sklearn\\metrics\\_classification.py:1334: UndefinedMetricWarning: Precision is ill-defined and being set to 0.0 in labels with no predicted samples. Use `zero_division` parameter to control this behavior.\n",
      "  _warn_prf(average, modifier, msg_start, len(result))\n"
     ]
    },
    {
     "name": "stdout",
     "output_type": "stream",
     "text": [
      "Train Accuracy score: [0.71666667 0.71666667 0.71666667 0.71666667 0.7       ]\n",
      "Test Accuracy score: [0.66666667 0.66666667 0.66666667 0.73333333 0.73333333]\n"
     ]
    }
   ],
   "source": [
    "\n",
    "\n",
    "from sklearn.metrics import accuracy_score, recall_score, f1_score, precision_score,roc_curve, auc \n",
    "from sklearn.model_selection import cross_val_score\n",
    "print('Accuracy score:', accuracy_score(Y_test, y_pred))\n",
    "print('Recall:', recall_score(Y_test, y_pred, average='weighted'))\n",
    "print('F1-score:', f1_score(Y_test, y_pred, average='weighted'))\n",
    "print('Precision score:', precision_score(Y_test, y_pred, average='weighted'))\n",
    "\n",
    "y_test_proba_rfc = boost.predict_proba(X_test)\n",
    "false_positive_rate_rfc, recall_rfc, thresholds_rfc = roc_curve(Y_test, y_test_proba_rfc[:, 1])  \n",
    "roc_auc_rfc = auc(false_positive_rate_rfc, recall_rfc)   \n",
    "print(\"---------------AUC\\n\", cp)\n",
    "print(roc_auc_rfc )\n",
    "\n",
    "print(\"..................................\")\n",
    "scores1 = cross_val_score(boost, X_train, Y_train, cv = 5, scoring = 'accuracy')\n",
    "scores2 = cross_val_score(boost, X_test, Y_test, cv = 5, scoring = 'accuracy')\n",
    "# 输出5次交叉验证的准确率\n",
    "print('Train Accuracy score:',scores1)\n",
    "print('Test Accuracy score:',scores2)"
   ]
  },
  {
   "cell_type": "code",
   "execution_count": 23,
   "id": "354181be",
   "metadata": {},
   "outputs": [
    {
     "data": {
      "image/png": "[encoded data removed]",
      "text/plain": [
       "<Figure size 432x288 with 1 Axes>"
      ]
     },
     "metadata": {
      "needs_background": "light"
     },
     "output_type": "display_data"
    }
   ],
   "source": [
    "# 画图 画出模型的ROC曲线\n",
    "plt.plot(false_positive_rate_rfc, recall_rfc, color='orange', label='AUC_rfc=%0.3f' % roc_auc_rfc)  \n",
    "plt.legend(loc='best', fontsize=15, frameon=False)  \n",
    "plt.plot([0, 1], [0, 1], 'r--')  \n",
    "plt.xlim([0.0, 1.0])  \n",
    "plt.ylim([0.0, 1.0])  \n",
    "plt.ylabel('Recall')  \n",
    "plt.xlabel('Fall-out')  \n",
    "plt.show()"
   ]
  },
  {
   "cell_type": "code",
   "execution_count": 25,
   "id": "85cf7bc6",
   "metadata": {},
   "outputs": [
    {
     "name": "stdout",
     "output_type": "stream",
     "text": [
      "2\n",
      "3\n",
      "4\n",
      "5\n",
      "6\n",
      "7\n",
      "8\n",
      "9\n",
      "10\n",
      "11\n",
      "12\n",
      "13\n",
      "14\n",
      "15\n",
      "16\n",
      "17\n",
      "18\n",
      "19\n",
      "20\n",
      "21\n",
      "22\n",
      "23\n",
      "24\n",
      "25\n",
      "26\n",
      "27\n",
      "28\n",
      "29\n",
      "30\n",
      "31\n",
      "32\n",
      "33\n",
      "34\n",
      "35\n",
      "36\n",
      "37\n",
      "38\n",
      "39\n",
      "40\n",
      "41\n",
      "42\n",
      "43\n",
      "44\n",
      "45\n",
      "46\n",
      "47\n",
      "48\n",
      "49\n",
      "50\n",
      "51\n",
      "[[1.00000000e+00 2.00000000e+00 3.00000000e+00 4.00000000e+00\n",
      "  5.00000000e+00 6.00000000e+00 7.00000000e+00 8.00000000e+00\n",
      "  9.00000000e+00 1.00000000e+01 1.10000000e+01 1.20000000e+01\n",
      "  1.30000000e+01 1.40000000e+01 1.50000000e+01 1.60000000e+01\n",
      "  1.70000000e+01 1.80000000e+01 1.90000000e+01 2.00000000e+01\n",
      "  2.10000000e+01 2.20000000e+01 2.30000000e+01 2.40000000e+01\n",
      "  2.50000000e+01 2.60000000e+01 2.70000000e+01 2.80000000e+01\n",
      "  2.90000000e+01 3.00000000e+01 3.10000000e+01 3.20000000e+01\n",
      "  3.30000000e+01 3.40000000e+01 3.50000000e+01 3.60000000e+01\n",
      "  3.70000000e+01 3.80000000e+01 3.90000000e+01 4.00000000e+01\n",
      "  4.10000000e+01 4.20000000e+01 4.30000000e+01 4.40000000e+01\n",
      "  4.50000000e+01 4.60000000e+01 4.70000000e+01 4.80000000e+01\n",
      "  4.90000000e+01 5.00000000e+01]\n",
      " [0.00000000e+00 1.30434783e-01 0.00000000e+00 0.00000000e+00\n",
      "  0.00000000e+00 0.00000000e+00 8.69565217e-02 0.00000000e+00\n",
      "  0.00000000e+00 0.00000000e+00 0.00000000e+00 0.00000000e+00\n",
      "  4.34782609e-02 0.00000000e+00 0.00000000e+00 0.00000000e+00\n",
      "  0.00000000e+00 0.00000000e+00 0.00000000e+00 0.00000000e+00\n",
      "  0.00000000e+00 0.00000000e+00 0.00000000e+00 0.00000000e+00\n",
      "  0.00000000e+00 0.00000000e+00 4.34782609e-02 0.00000000e+00\n",
      "  4.34782609e-02 0.00000000e+00 0.00000000e+00 0.00000000e+00\n",
      "  0.00000000e+00 0.00000000e+00 2.17391304e-01 0.00000000e+00\n",
      "  0.00000000e+00 0.00000000e+00 8.69565217e-02 2.60869565e-01\n",
      "  0.00000000e+00 0.00000000e+00 0.00000000e+00 0.00000000e+00\n",
      "  0.00000000e+00 0.00000000e+00 0.00000000e+00 0.00000000e+00\n",
      "  0.00000000e+00 0.00000000e+00]\n",
      " [1.00000000e+00 9.23076923e-01 1.00000000e+00 1.00000000e+00\n",
      "  1.00000000e+00 1.00000000e+00 1.00000000e+00 1.00000000e+00\n",
      "  1.00000000e+00 1.00000000e+00 1.00000000e+00 1.00000000e+00\n",
      "  1.00000000e+00 1.00000000e+00 1.00000000e+00 1.00000000e+00\n",
      "  1.00000000e+00 1.00000000e+00 1.00000000e+00 1.00000000e+00\n",
      "  1.00000000e+00 1.00000000e+00 1.00000000e+00 1.00000000e+00\n",
      "  1.00000000e+00 1.00000000e+00 1.00000000e+00 1.00000000e+00\n",
      "  9.61538462e-01 1.00000000e+00 1.00000000e+00 1.00000000e+00\n",
      "  1.00000000e+00 1.00000000e+00 8.84615385e-01 1.00000000e+00\n",
      "  1.00000000e+00 1.00000000e+00 9.42307692e-01 7.88461538e-01\n",
      "  1.00000000e+00 1.00000000e+00 1.00000000e+00 1.00000000e+00\n",
      "  1.00000000e+00 1.00000000e+00 1.00000000e+00 1.00000000e+00\n",
      "  1.00000000e+00 1.00000000e+00]\n",
      " [6.93333333e-01 6.80000000e-01 6.93333333e-01 6.93333333e-01\n",
      "  6.93333333e-01 6.93333333e-01 7.20000000e-01 6.93333333e-01\n",
      "  6.93333333e-01 6.93333333e-01 6.93333333e-01 6.93333333e-01\n",
      "  7.06666667e-01 6.93333333e-01 6.93333333e-01 6.93333333e-01\n",
      "  6.93333333e-01 6.93333333e-01 6.93333333e-01 6.93333333e-01\n",
      "  6.93333333e-01 6.93333333e-01 6.93333333e-01 6.93333333e-01\n",
      "  6.93333333e-01 6.93333333e-01 7.06666667e-01 6.93333333e-01\n",
      "  6.80000000e-01 6.93333333e-01 6.93333333e-01 6.93333333e-01\n",
      "  6.93333333e-01 6.93333333e-01 6.80000000e-01 6.93333333e-01\n",
      "  6.93333333e-01 6.93333333e-01 6.80000000e-01 6.26666667e-01\n",
      "  6.93333333e-01 6.93333333e-01 6.93333333e-01 6.93333333e-01\n",
      "  6.93333333e-01 6.93333333e-01 6.93333333e-01 6.93333333e-01\n",
      "  6.93333333e-01 6.93333333e-01]\n",
      " [6.93333333e-01 7.05882353e-01 6.93333333e-01 6.93333333e-01\n",
      "  6.93333333e-01 6.93333333e-01 7.12328767e-01 6.93333333e-01\n",
      "  6.93333333e-01 6.93333333e-01 6.93333333e-01 6.93333333e-01\n",
      "  7.02702703e-01 6.93333333e-01 6.93333333e-01 6.93333333e-01\n",
      "  6.93333333e-01 6.93333333e-01 6.93333333e-01 6.93333333e-01\n",
      "  6.93333333e-01 6.93333333e-01 6.93333333e-01 6.93333333e-01\n",
      "  6.93333333e-01 6.93333333e-01 7.02702703e-01 6.93333333e-01\n",
      "  6.94444444e-01 6.93333333e-01 6.93333333e-01 6.93333333e-01\n",
      "  6.93333333e-01 6.93333333e-01 7.18750000e-01 6.93333333e-01\n",
      "  6.93333333e-01 6.93333333e-01 7.00000000e-01 7.06896552e-01\n",
      "  6.93333333e-01 6.93333333e-01 6.93333333e-01 6.93333333e-01\n",
      "  6.93333333e-01 6.93333333e-01 6.93333333e-01 6.93333333e-01\n",
      "  6.93333333e-01 6.93333333e-01]\n",
      " [8.18897638e-01 8.00000000e-01 8.18897638e-01 8.18897638e-01\n",
      "  8.18897638e-01 8.18897638e-01 8.32000000e-01 8.18897638e-01\n",
      "  8.18897638e-01 8.18897638e-01 8.18897638e-01 8.18897638e-01\n",
      "  8.25396825e-01 8.18897638e-01 8.18897638e-01 8.18897638e-01\n",
      "  8.18897638e-01 8.18897638e-01 8.18897638e-01 8.18897638e-01\n",
      "  8.18897638e-01 8.18897638e-01 8.18897638e-01 8.18897638e-01\n",
      "  8.18897638e-01 8.18897638e-01 8.25396825e-01 8.18897638e-01\n",
      "  8.06451613e-01 8.18897638e-01 8.18897638e-01 8.18897638e-01\n",
      "  8.18897638e-01 8.18897638e-01 7.93103448e-01 8.18897638e-01\n",
      "  8.18897638e-01 8.18897638e-01 8.03278689e-01 7.45454545e-01\n",
      "  8.18897638e-01 8.18897638e-01 8.18897638e-01 8.18897638e-01\n",
      "  8.18897638e-01 8.18897638e-01 8.18897638e-01 8.18897638e-01\n",
      "  8.18897638e-01 8.18897638e-01]\n",
      " [5.00000000e-01 5.26755853e-01 5.00000000e-01 5.00000000e-01\n",
      "  5.00000000e-01 5.00000000e-01 5.43478261e-01 5.00000000e-01\n",
      "  5.00000000e-01 5.00000000e-01 5.00000000e-01 5.00000000e-01\n",
      "  5.21739130e-01 5.00000000e-01 5.00000000e-01 5.00000000e-01\n",
      "  5.00000000e-01 5.00000000e-01 5.00000000e-01 5.00000000e-01\n",
      "  5.00000000e-01 5.00000000e-01 5.00000000e-01 5.00000000e-01\n",
      "  5.00000000e-01 5.00000000e-01 5.21739130e-01 5.00000000e-01\n",
      "  5.02508361e-01 5.00000000e-01 5.00000000e-01 5.00000000e-01\n",
      "  5.00000000e-01 5.00000000e-01 5.51003344e-01 5.00000000e-01\n",
      "  5.00000000e-01 5.00000000e-01 5.14632107e-01 5.24665552e-01\n",
      "  5.00000000e-01 5.00000000e-01 5.00000000e-01 5.00000000e-01\n",
      "  5.00000000e-01 5.00000000e-01 5.00000000e-01 5.00000000e-01\n",
      "  5.00000000e-01 5.00000000e-01]\n",
      " [0.00000000e+00 2.55813953e-01 0.00000000e+00 0.00000000e+00\n",
      "  0.00000000e+00 0.00000000e+00 1.39534884e-01 0.00000000e+00\n",
      "  0.00000000e+00 0.00000000e+00 0.00000000e+00 0.00000000e+00\n",
      "  4.65116279e-02 0.00000000e+00 0.00000000e+00 0.00000000e+00\n",
      "  0.00000000e+00 0.00000000e+00 0.00000000e+00 0.00000000e+00\n",
      "  0.00000000e+00 0.00000000e+00 0.00000000e+00 0.00000000e+00\n",
      "  0.00000000e+00 0.00000000e+00 5.81395349e-02 0.00000000e+00\n",
      "  1.97674419e-01 0.00000000e+00 0.00000000e+00 0.00000000e+00\n",
      "  0.00000000e+00 3.48837209e-02 2.55813953e-01 0.00000000e+00\n",
      "  0.00000000e+00 0.00000000e+00 1.74418605e-01 2.20930233e-01\n",
      "  0.00000000e+00 0.00000000e+00 0.00000000e+00 0.00000000e+00\n",
      "  0.00000000e+00 0.00000000e+00 0.00000000e+00 0.00000000e+00\n",
      "  0.00000000e+00 0.00000000e+00]\n",
      " [1.00000000e+00 9.06542056e-01 1.00000000e+00 1.00000000e+00\n",
      "  1.00000000e+00 1.00000000e+00 9.67289720e-01 1.00000000e+00\n",
      "  1.00000000e+00 1.00000000e+00 1.00000000e+00 1.00000000e+00\n",
      "  9.90654206e-01 1.00000000e+00 1.00000000e+00 1.00000000e+00\n",
      "  1.00000000e+00 1.00000000e+00 1.00000000e+00 1.00000000e+00\n",
      "  1.00000000e+00 1.00000000e+00 1.00000000e+00 1.00000000e+00\n",
      "  1.00000000e+00 1.00000000e+00 9.95327103e-01 1.00000000e+00\n",
      "  9.25233645e-01 1.00000000e+00 1.00000000e+00 1.00000000e+00\n",
      "  1.00000000e+00 9.95327103e-01 9.06542056e-01 1.00000000e+00\n",
      "  1.00000000e+00 1.00000000e+00 9.76635514e-01 9.25233645e-01\n",
      "  1.00000000e+00 1.00000000e+00 1.00000000e+00 1.00000000e+00\n",
      "  1.00000000e+00 1.00000000e+00 1.00000000e+00 1.00000000e+00\n",
      "  1.00000000e+00 1.00000000e+00]\n",
      " [7.13333333e-01 7.20000000e-01 7.13333333e-01 7.13333333e-01\n",
      "  7.13333333e-01 7.13333333e-01 7.30000000e-01 7.13333333e-01\n",
      "  7.13333333e-01 7.13333333e-01 7.13333333e-01 7.13333333e-01\n",
      "  7.20000000e-01 7.13333333e-01 7.13333333e-01 7.13333333e-01\n",
      "  7.13333333e-01 7.13333333e-01 7.13333333e-01 7.13333333e-01\n",
      "  7.13333333e-01 7.13333333e-01 7.13333333e-01 7.13333333e-01\n",
      "  7.13333333e-01 7.13333333e-01 7.26666667e-01 7.13333333e-01\n",
      "  7.16666667e-01 7.13333333e-01 7.13333333e-01 7.13333333e-01\n",
      "  7.13333333e-01 7.20000000e-01 7.20000000e-01 7.13333333e-01\n",
      "  7.13333333e-01 7.13333333e-01 7.46666667e-01 7.23333333e-01\n",
      "  7.13333333e-01 7.13333333e-01 7.13333333e-01 7.13333333e-01\n",
      "  7.13333333e-01 7.13333333e-01 7.13333333e-01 7.13333333e-01\n",
      "  7.13333333e-01 7.13333333e-01]\n",
      " [7.13333333e-01 7.51937984e-01 7.13333333e-01 7.13333333e-01\n",
      "  7.13333333e-01 7.13333333e-01 7.36654804e-01 7.13333333e-01\n",
      "  7.13333333e-01 7.13333333e-01 7.13333333e-01 7.13333333e-01\n",
      "  7.21088435e-01 7.13333333e-01 7.13333333e-01 7.13333333e-01\n",
      "  7.13333333e-01 7.13333333e-01 7.13333333e-01 7.13333333e-01\n",
      "  7.13333333e-01 7.13333333e-01 7.13333333e-01 7.13333333e-01\n",
      "  7.13333333e-01 7.13333333e-01 7.24489796e-01 7.13333333e-01\n",
      "  7.41573034e-01 7.13333333e-01 7.13333333e-01 7.13333333e-01\n",
      "  7.13333333e-01 7.19594595e-01 7.51937984e-01 7.13333333e-01\n",
      "  7.13333333e-01 7.13333333e-01 7.46428571e-01 7.47169811e-01\n",
      "  7.13333333e-01 7.13333333e-01 7.13333333e-01 7.13333333e-01\n",
      "  7.13333333e-01 7.13333333e-01 7.13333333e-01 7.13333333e-01\n",
      "  7.13333333e-01 7.13333333e-01]\n",
      " [8.32684825e-01 8.22033898e-01 8.32684825e-01 8.32684825e-01\n",
      "  8.32684825e-01 8.32684825e-01 8.36363636e-01 8.32684825e-01\n",
      "  8.32684825e-01 8.32684825e-01 8.32684825e-01 8.32684825e-01\n",
      "  8.34645669e-01 8.32684825e-01 8.32684825e-01 8.32684825e-01\n",
      "  8.32684825e-01 8.32684825e-01 8.32684825e-01 8.32684825e-01\n",
      "  8.32684825e-01 8.32684825e-01 8.32684825e-01 8.32684825e-01\n",
      "  8.32684825e-01 8.32684825e-01 8.38582677e-01 8.32684825e-01\n",
      "  8.23284823e-01 8.32684825e-01 8.32684825e-01 8.32684825e-01\n",
      "  8.32684825e-01 8.35294118e-01 8.22033898e-01 8.32684825e-01\n",
      "  8.32684825e-01 8.32684825e-01 8.46153846e-01 8.26722338e-01\n",
      "  8.32684825e-01 8.32684825e-01 8.32684825e-01 8.32684825e-01\n",
      "  8.32684825e-01 8.32684825e-01 8.32684825e-01 8.32684825e-01\n",
      "  8.32684825e-01 8.32684825e-01]\n",
      " [5.00000000e-01 5.81178005e-01 5.00000000e-01 5.00000000e-01\n",
      "  5.00000000e-01 5.00000000e-01 5.53412302e-01 5.00000000e-01\n",
      "  5.00000000e-01 5.00000000e-01 5.00000000e-01 5.00000000e-01\n",
      "  5.18582917e-01 5.00000000e-01 5.00000000e-01 5.00000000e-01\n",
      "  5.00000000e-01 5.00000000e-01 5.00000000e-01 5.00000000e-01\n",
      "  5.00000000e-01 5.00000000e-01 5.00000000e-01 5.00000000e-01\n",
      "  5.00000000e-01 5.00000000e-01 5.26733319e-01 5.00000000e-01\n",
      "  5.61454032e-01 5.00000000e-01 5.00000000e-01 5.00000000e-01\n",
      "  5.00000000e-01 5.15105412e-01 5.81178005e-01 5.00000000e-01\n",
      "  5.00000000e-01 5.00000000e-01 5.75527059e-01 5.73081939e-01\n",
      "  5.00000000e-01 5.00000000e-01 5.00000000e-01 5.00000000e-01\n",
      "  5.00000000e-01 5.00000000e-01 5.00000000e-01 5.00000000e-01\n",
      "  5.00000000e-01 5.00000000e-01]]\n"
     ]
    }
   ],
   "source": [
    "empty = np.array([[0],[0],[0],[0],[0],[0],[0],[0],[0],[0],[0],[0],[0]])\n",
    "n=1\n",
    "while n < 51:\n",
    "    \n",
    "    X_train, X_test, y_train, y_test = train_test_split(X, Y, test_size = 0.2, random_state = n)\n",
    "    sc = StandardScaler()\n",
    "    X_train = sc.fit_transform(X_train)\n",
    "    X_test = sc.transform(X_test)\n",
    "    \n",
    "    boost= xgb.XGBClassifier(eta=0.01,gamma=0,max_depth=3, n_estimators=60, max_delta_step=1,min_child_weight=8,random_state = 420)\n",
    "    boost.fit(X_train, Y_train)\n",
    "    \n",
    "    y_pred = boost.predict(X_test)   \n",
    "    y_updatapred = boost.predict(X_train)\n",
    "    from sklearn.metrics import confusion_matrix, roc_auc_score\n",
    "    cm = confusion_matrix(Y_test, y_pred)   \n",
    "    cm_updata = confusion_matrix(Y_train, y_updatapred)\n",
    "    auc = roc_auc_score(Y_test, y_pred)\n",
    "    auc_updata = roc_auc_score(Y_train, y_updatapred)\n",
    "    a = cm[0,0]\n",
    "    b = cm[0,1]\n",
    "    c = cm[1,0]\n",
    "    d = cm[1,1]\n",
    "    sen = d/(d+c)\n",
    "    sep = a/(a+b)\n",
    "    acc = (a+d)/(a+b+c+d)\n",
    "    pre = a/(a+c)\n",
    "    F1 = (2*a)/(2*a+c+b)\n",
    "    \n",
    "    a_updata = cm_updata[0,0]\n",
    "    b_updata = cm_updata[0,1]\n",
    "    c_updata = cm_updata[1,0]\n",
    "    d_updata = cm_updata[1,1]\n",
    "    \n",
    "    sen_updata = d_updata/(d_updata + c_updata)\n",
    "    sep_updata = a_updata/(a_updata + b_updata)\n",
    "    acc_updata = (a_updata+d_updata)/(a_updata+b_updata+c_updata+d_updata)\n",
    "    pre_updata = a_updata/(a_updata + c_updata)\n",
    "    F1_updata = (2*a_updata)/(2*a_updata+c_updata+b_updata)\n",
    "    \n",
    "    first = np.array([[n],[sen],[sep],[acc],[pre],[F1],[auc],[sen_updata],[sep_updata],[acc_updata],[pre_updata],[F1_updata],[auc_updata]])\n",
    "    second = np.hstack((empty,first))\n",
    "    empty = second\n",
    "    empty = second\n",
    "    n = n + 1\n",
    "    print(n)\n",
    "final_par = np.delete(second,0,axis=1)\n",
    "print (final_par)\n",
    "final_parT = final_par.T\n",
    "np.savetxt('XGboost_Cocr',final_parT,delimiter=',')"
   ]
  },
  {
   "cell_type": "code",
   "execution_count": null,
   "id": "1de22607",
   "metadata": {},
   "outputs": [],
   "source": []
  },
  {
   "cell_type": "code",
   "execution_count": null,
   "id": "11505f08",
   "metadata": {},
   "outputs": [],
   "source": []
  },
  {
   "cell_type": "code",
   "execution_count": null,
   "id": "75024b85",
   "metadata": {},
   "outputs": [],
   "source": []
  },
  {
   "cell_type": "code",
   "execution_count": null,
   "id": "047663c0",
   "metadata": {},
   "outputs": [],
   "source": []
  },
  {
   "cell_type": "code",
   "execution_count": null,
   "id": "f6e51c06",
   "metadata": {},
   "outputs": [],
   "source": []
  }
 ],
 "metadata": {
  "kernelspec": {
   "display_name": "base",
   "language": "python",
   "name": "base"
  },
  "language_info": {
   "codemirror_mode": {
    "name": "ipython",
    "version": 3
   },
   "file_extension": ".py",
   "mimetype": "text/x-python",
   "name": "python",
   "nbconvert_exporter": "python",
   "pygments_lexer": "ipython3",
   "version": "3.7.13"
  }
 },
 "nbformat": 4,
 "nbformat_minor": 5
}
