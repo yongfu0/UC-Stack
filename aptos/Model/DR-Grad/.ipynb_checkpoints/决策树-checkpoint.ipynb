{
 "cells": [
  {
   "cell_type": "code",
   "execution_count": 1,
   "id": "0272e719",
   "metadata": {},
   "outputs": [],
   "source": [
    "import numpy as np\n",
    "import matplotlib.pyplot as plt\n",
    "import pandas as pd\n",
    "from sklearn.metrics import confusion_matrix\n",
    "from sklearn.tree import DecisionTreeClassifier\n",
    "from sklearn.preprocessing import StandardScaler\n",
    "from sklearn.model_selection import train_test_split\n",
    "from sklearn.metrics import roc_curve, auc \n",
    "from sklearn.metrics import accuracy_score, recall_score, f1_score, precision_score,roc_curve, auc \n",
    "from sklearn.tree import DecisionTreeClassifier\n",
    "import seaborn as sns\n",
    "import sklearn.metrics as sm"
   ]
  },
  {
   "cell_type": "code",
   "execution_count": 10,
   "id": "3deccfd0",
   "metadata": {},
   "outputs": [],
   "source": [
    "dataset = pd.read_csv('output.csv')\n",
    "X= dataset.drop(['label'], axis=1)   # 取出用于建模的特征列X\n",
    "Y = dataset['label']   # 取出标签列Y\n",
    "\n",
    "X_train, X_test, Y_train, Y_test = train_test_split(X, Y, test_size=0.2, random_state=420)"
   ]
  },
  {
   "cell_type": "code",
   "execution_count": 11,
   "id": "ace744da",
   "metadata": {},
   "outputs": [],
   "source": [
    "sc = StandardScaler()\n",
    "X_train = sc.fit_transform(X_train)\n",
    "X_test = sc.transform(X_test)"
   ]
  },
  {
   "cell_type": "code",
   "execution_count": 12,
   "id": "9fb09ae4",
   "metadata": {},
   "outputs": [],
   "source": [
    "classifier = DecisionTreeClassifier(random_state = 420)"
   ]
  },
  {
   "cell_type": "code",
   "execution_count": 13,
   "id": "763a9a40",
   "metadata": {},
   "outputs": [],
   "source": [
    "param_grid=[{\n",
    "            'criterion':['gini','entropy'],\n",
    "            'max_depth':[i for i in range(2,20)],\n",
    "            'min_samples_split':[i for i in range(2,10)],\n",
    "            'min_samples_leaf':[i for i in range(1,8)],\n",
    "            },\n",
    "           ]"
   ]
  },
  {
   "cell_type": "code",
   "execution_count": 14,
   "id": "84dc96a1",
   "metadata": {},
   "outputs": [
    {
     "name": "stdout",
     "output_type": "stream",
     "text": [
      "Fitting 10 folds for each of 2016 candidates, totalling 20160 fits\n"
     ]
    },
    {
     "data": {
      "text/plain": [
       "{'criterion': 'gini',\n",
       " 'max_depth': 9,\n",
       " 'min_samples_leaf': 2,\n",
       " 'min_samples_split': 6}"
      ]
     },
     "execution_count": 14,
     "metadata": {},
     "output_type": "execute_result"
    }
   ],
   "source": [
    "from sklearn.model_selection import GridSearchCV\n",
    "\n",
    "grid_search = GridSearchCV(classifier, param_grid, scoring='roc_auc', n_jobs = -1, verbose = 1,cv=10)   \n",
    "grid_search.fit(X_train, Y_train)  \n",
    "classifier = grid_search.best_estimator_ \n",
    "grid_search.best_params_ "
   ]
  },
  {
   "cell_type": "code",
   "execution_count": 15,
   "id": "af8bb706",
   "metadata": {
    "scrolled": true
   },
   "outputs": [
    {
     "data": {
      "text/html": [
       "<style>#sk-container-id-2 {color: black;background-color: white;}#sk-container-id-2 pre{padding: 0;}#sk-container-id-2 div.sk-toggleable {background-color: white;}#sk-container-id-2 label.sk-toggleable__label {cursor: pointer;display: block;width: 100%;margin-bottom: 0;padding: 0.3em;box-sizing: border-box;text-align: center;}#sk-container-id-2 label.sk-toggleable__label-arrow:before {content: \"▸\";float: left;margin-right: 0.25em;color: #696969;}#sk-container-id-2 label.sk-toggleable__label-arrow:hover:before {color: black;}#sk-container-id-2 div.sk-estimator:hover label.sk-toggleable__label-arrow:before {color: black;}#sk-container-id-2 div.sk-toggleable__content {max-height: 0;max-width: 0;overflow: hidden;text-align: left;background-color: #f0f8ff;}#sk-container-id-2 div.sk-toggleable__content pre {margin: 0.2em;color: black;border-radius: 0.25em;background-color: #f0f8ff;}#sk-container-id-2 input.sk-toggleable__control:checked~div.sk-toggleable__content {max-height: 200px;max-width: 100%;overflow: auto;}#sk-container-id-2 input.sk-toggleable__control:checked~label.sk-toggleable__label-arrow:before {content: \"▾\";}#sk-container-id-2 div.sk-estimator input.sk-toggleable__control:checked~label.sk-toggleable__label {background-color: #d4ebff;}#sk-container-id-2 div.sk-label input.sk-toggleable__control:checked~label.sk-toggleable__label {background-color: #d4ebff;}#sk-container-id-2 input.sk-hidden--visually {border: 0;clip: rect(1px 1px 1px 1px);clip: rect(1px, 1px, 1px, 1px);height: 1px;margin: -1px;overflow: hidden;padding: 0;position: absolute;width: 1px;}#sk-container-id-2 div.sk-estimator {font-family: monospace;background-color: #f0f8ff;border: 1px dotted black;border-radius: 0.25em;box-sizing: border-box;margin-bottom: 0.5em;}#sk-container-id-2 div.sk-estimator:hover {background-color: #d4ebff;}#sk-container-id-2 div.sk-parallel-item::after {content: \"\";width: 100%;border-bottom: 1px solid gray;flex-grow: 1;}#sk-container-id-2 div.sk-label:hover label.sk-toggleable__label {background-color: #d4ebff;}#sk-container-id-2 div.sk-serial::before {content: \"\";position: absolute;border-left: 1px solid gray;box-sizing: border-box;top: 0;bottom: 0;left: 50%;z-index: 0;}#sk-container-id-2 div.sk-serial {display: flex;flex-direction: column;align-items: center;background-color: white;padding-right: 0.2em;padding-left: 0.2em;position: relative;}#sk-container-id-2 div.sk-item {position: relative;z-index: 1;}#sk-container-id-2 div.sk-parallel {display: flex;align-items: stretch;justify-content: center;background-color: white;position: relative;}#sk-container-id-2 div.sk-item::before, #sk-container-id-2 div.sk-parallel-item::before {content: \"\";position: absolute;border-left: 1px solid gray;box-sizing: border-box;top: 0;bottom: 0;left: 50%;z-index: -1;}#sk-container-id-2 div.sk-parallel-item {display: flex;flex-direction: column;z-index: 1;position: relative;background-color: white;}#sk-container-id-2 div.sk-parallel-item:first-child::after {align-self: flex-end;width: 50%;}#sk-container-id-2 div.sk-parallel-item:last-child::after {align-self: flex-start;width: 50%;}#sk-container-id-2 div.sk-parallel-item:only-child::after {width: 0;}#sk-container-id-2 div.sk-dashed-wrapped {border: 1px dashed gray;margin: 0 0.4em 0.5em 0.4em;box-sizing: border-box;padding-bottom: 0.4em;background-color: white;}#sk-container-id-2 div.sk-label label {font-family: monospace;font-weight: bold;display: inline-block;line-height: 1.2em;}#sk-container-id-2 div.sk-label-container {text-align: center;}#sk-container-id-2 div.sk-container {/* jupyter's `normalize.less` sets `[hidden] { display: none; }` but bootstrap.min.css set `[hidden] { display: none !important; }` so we also need the `!important` here to be able to override the default hidden behavior on the sphinx rendered scikit-learn.org. See: https://github.com/scikit-learn/scikit-learn/issues/21755 */display: inline-block !important;position: relative;}#sk-container-id-2 div.sk-text-repr-fallback {display: none;}</style><div id=\"sk-container-id-2\" class=\"sk-top-container\"><div class=\"sk-text-repr-fallback\"><pre>DecisionTreeClassifier(max_depth=9, min_samples_leaf=2, min_samples_split=6,\n",
       "                       random_state=420)</pre><b>In a Jupyter environment, please rerun this cell to show the HTML representation or trust the notebook. <br />On GitHub, the HTML representation is unable to render, please try loading this page with nbviewer.org.</b></div><div class=\"sk-container\" hidden><div class=\"sk-item\"><div class=\"sk-estimator sk-toggleable\"><input class=\"sk-toggleable__control sk-hidden--visually\" id=\"sk-estimator-id-2\" type=\"checkbox\" checked><label for=\"sk-estimator-id-2\" class=\"sk-toggleable__label sk-toggleable__label-arrow\">DecisionTreeClassifier</label><div class=\"sk-toggleable__content\"><pre>DecisionTreeClassifier(max_depth=9, min_samples_leaf=2, min_samples_split=6,\n",
       "                       random_state=420)</pre></div></div></div></div></div>"
      ],
      "text/plain": [
       "DecisionTreeClassifier(max_depth=9, min_samples_leaf=2, min_samples_split=6,\n",
       "                       random_state=420)"
      ]
     },
     "execution_count": 15,
     "metadata": {},
     "output_type": "execute_result"
    }
   ],
   "source": [
    "classifier.fit(X_train, Y_train)"
   ]
  },
  {
   "cell_type": "code",
   "execution_count": 16,
   "id": "4cdd9b49",
   "metadata": {},
   "outputs": [
    {
     "name": "stdout",
     "output_type": "stream",
     "text": [
      "[0.08104997 0.         0.         0.058101   0.         0.02732651\n",
      " 0.         0.         0.03106616 0.08785903 0.02644241 0.12513048\n",
      " 0.11778267 0.18854827 0.0834984  0.07345401 0.0997411 ]\n"
     ]
    }
   ],
   "source": [
    "importances =classifier.feature_importances_\n",
    "print(importances)"
   ]
  },
  {
   "cell_type": "code",
   "execution_count": 17,
   "id": "e41c7b6f",
   "metadata": {},
   "outputs": [
    {
     "name": "stdout",
     "output_type": "stream",
     "text": [
      "[(0.08104996525781237, 'Age'), (0.0, 'BMI'), (0.0, 'Nation'), (0.05810100174853281, 'Marriage'), (0.0, 'Occupation'), (0.02732651205668821, 'Income'), (0.0, 'Smoking'), (0.0, 'Drinking'), (0.03106616419669261, 'Education'), (0.08785903047800118, 'Ba_Cr'), (0.026442411462443447, 'Mn_Cr'), (0.1251304792607597, 'Sr_Cr'), (0.11778266655391355, 'V_Cr'), (0.18854826696151347, 'Cd_Cr'), (0.08349839561259069, 'Cu_Cr'), (0.07345400651669266, 'Fe_Cr'), (0.09974109989435925, 'Co_Cr')]\n"
     ]
    }
   ],
   "source": [
    "importances =classifier.feature_importances_\n",
    "features = X.columns\n",
    "data_ = list(zip(importances,features))\n",
    "print(data_)"
   ]
  },
  {
   "cell_type": "code",
   "execution_count": 18,
   "id": "db8e793f",
   "metadata": {},
   "outputs": [],
   "source": [
    "data =pd.DataFrame(data_,columns=['importances','features'])\n",
    "data = data.sort_values('importances',ascending=False )"
   ]
  },
  {
   "cell_type": "code",
   "execution_count": 19,
   "id": "06e15bce",
   "metadata": {
    "scrolled": true
   },
   "outputs": [
    {
     "data": {
      "text/plain": [
       "Text(0.5, 1.0, 'features_importances')"
      ]
     },
     "execution_count": 19,
     "metadata": {},
     "output_type": "execute_result"
    },
    {
     "data": {
      "image/png": "[encoded data removed]",
      "text/plain": [
       "<Figure size 1152x360 with 1 Axes>"
      ]
     },
     "metadata": {
      "needs_background": "light"
     },
     "output_type": "display_data"
    }
   ],
   "source": [
    "figure = plt.figure(figsize=(16, 5))\n",
    "ax = sns.barplot(x=data['importances'], y=data['features'],)\n",
    "ax.set_title('features_importances')"
   ]
  },
  {
   "cell_type": "code",
   "execution_count": null,
   "id": "008237d2",
   "metadata": {},
   "outputs": [],
   "source": []
  },
  {
   "cell_type": "code",
   "execution_count": null,
   "id": "f61a0b51",
   "metadata": {},
   "outputs": [],
   "source": []
  },
  {
   "cell_type": "code",
   "execution_count": 8,
   "id": "8ee5257c",
   "metadata": {},
   "outputs": [],
   "source": [
    "y_pred = classifier.predict(X_test)"
   ]
  },
  {
   "cell_type": "code",
   "execution_count": 9,
   "id": "c5464146",
   "metadata": {},
   "outputs": [
    {
     "name": "stdout",
     "output_type": "stream",
     "text": [
      "[[36 16]\n",
      " [15  8]]\n",
      "---------------分类报告\n",
      "               precision    recall  f1-score   support\n",
      "\n",
      "           0       0.71      0.69      0.70        52\n",
      "           1       0.33      0.35      0.34        23\n",
      "\n",
      "    accuracy                           0.59        75\n",
      "   macro avg       0.52      0.52      0.52        75\n",
      "weighted avg       0.59      0.59      0.59        75\n",
      "\n"
     ]
    }
   ],
   "source": [
    "cm = confusion_matrix(Y_test, y_pred)\n",
    "print(cm)\n",
    "cp = sm.classification_report(Y_test, y_pred)\n",
    "print(\"---------------分类报告\\n\", cp)"
   ]
  },
  {
   "cell_type": "code",
   "execution_count": 10,
   "id": "b6470ff4",
   "metadata": {
    "scrolled": false
   },
   "outputs": [
    {
     "name": "stdout",
     "output_type": "stream",
     "text": [
      "Accuracy score: 0.5866666666666667\n",
      "Recall: 0.5866666666666667\n",
      "F1-score: 0.5890573572953247\n",
      "Precision score: 0.5916339869281046\n",
      "---------------AUC\n",
      "               precision    recall  f1-score   support\n",
      "\n",
      "           0       0.71      0.69      0.70        52\n",
      "           1       0.33      0.35      0.34        23\n",
      "\n",
      "    accuracy                           0.59        75\n",
      "   macro avg       0.52      0.52      0.52        75\n",
      "weighted avg       0.59      0.59      0.59        75\n",
      "\n",
      "0.5171404682274247\n"
     ]
    }
   ],
   "source": [
    "from sklearn.metrics import accuracy_score, recall_score, f1_score, precision_score\n",
    "print('Accuracy score:', accuracy_score(Y_test, y_pred))\n",
    "print('Recall:', recall_score(Y_test, y_pred, average='weighted'))\n",
    "print('F1-score:', f1_score(Y_test, y_pred, average='weighted'))\n",
    "print('Precision score:', precision_score(Y_test, y_pred, average='weighted'))\n",
    "\n",
    "y_test_proba_rfc = classifier.predict_proba(X_test)\n",
    "false_positive_rate_rfc, recall_rfc, thresholds_rfc = roc_curve(Y_test, y_test_proba_rfc[:, 1])  \n",
    "roc_auc_rfc = auc(false_positive_rate_rfc, recall_rfc)   \n",
    "print(\"---------------AUC\\n\", cp)\n",
    "print(roc_auc_rfc )"
   ]
  },
  {
   "cell_type": "code",
   "execution_count": 12,
   "id": "02b31011",
   "metadata": {
    "scrolled": true
   },
   "outputs": [
    {
     "name": "stdout",
     "output_type": "stream",
     "text": [
      "2\n",
      "3\n",
      "4\n",
      "5\n",
      "6\n",
      "7\n",
      "8\n",
      "9\n",
      "10\n",
      "11\n",
      "12\n",
      "13\n",
      "14\n",
      "15\n",
      "16\n",
      "17\n",
      "18\n",
      "19\n",
      "20\n",
      "21\n",
      "22\n",
      "23\n",
      "24\n",
      "25\n",
      "26\n",
      "27\n",
      "28\n",
      "29\n",
      "30\n",
      "31\n",
      "32\n",
      "33\n",
      "34\n",
      "35\n",
      "36\n",
      "37\n",
      "38\n",
      "39\n",
      "40\n",
      "41\n",
      "42\n",
      "43\n",
      "44\n",
      "45\n",
      "46\n",
      "47\n",
      "48\n",
      "49\n",
      "50\n",
      "51\n",
      "[[ 1.          2.          3.          4.          5.          6.\n",
      "   7.          8.          9.         10.         11.         12.\n",
      "  13.         14.         15.         16.         17.         18.\n",
      "  19.         20.         21.         22.         23.         24.\n",
      "  25.         26.         27.         28.         29.         30.\n",
      "  31.         32.         33.         34.         35.         36.\n",
      "  37.         38.         39.         40.         41.         42.\n",
      "  43.         44.         45.         46.         47.         48.\n",
      "  49.         50.        ]\n",
      " [ 0.30434783  0.26086957  0.08695652  0.08695652  0.26086957  0.2173913\n",
      "   0.30434783  0.34782609  0.17391304  0.17391304  0.26086957  0.34782609\n",
      "   0.13043478  0.30434783  0.34782609  0.39130435  0.39130435  0.26086957\n",
      "   0.2173913   0.08695652  0.34782609  0.2173913   0.13043478  0.17391304\n",
      "   0.26086957  0.26086957  0.43478261  0.17391304  0.2173913   0.17391304\n",
      "   0.17391304  0.17391304  0.08695652  0.17391304  0.13043478  0.26086957\n",
      "   0.34782609  0.30434783  0.13043478  0.2173913   0.13043478  0.30434783\n",
      "   0.17391304  0.34782609  0.26086957  0.2173913   0.30434783  0.30434783\n",
      "   0.34782609  0.26086957]\n",
      " [ 0.73076923  0.82692308  0.78846154  0.71153846  0.78846154  0.76923077\n",
      "   0.80769231  0.65384615  0.73076923  0.76923077  0.82692308  0.76923077\n",
      "   0.84615385  0.75        0.76923077  0.80769231  0.57692308  0.69230769\n",
      "   0.69230769  0.82692308  0.76923077  0.86538462  0.78846154  0.84615385\n",
      "   0.90384615  0.76923077  0.71153846  0.69230769  0.69230769  0.80769231\n",
      "   0.80769231  0.82692308  0.78846154  0.90384615  0.78846154  0.59615385\n",
      "   0.75        0.59615385  0.73076923  0.71153846  0.76923077  0.76923077\n",
      "   0.76923077  0.84615385  0.82692308  0.80769231  0.67307692  0.82692308\n",
      "   0.73076923  0.80769231]\n",
      " [ 0.6         0.65333333  0.57333333  0.52        0.62666667  0.6\n",
      "   0.65333333  0.56        0.56        0.58666667  0.65333333  0.64\n",
      "   0.62666667  0.61333333  0.64        0.68        0.52        0.56\n",
      "   0.54666667  0.6         0.64        0.66666667  0.58666667  0.64\n",
      "   0.70666667  0.61333333  0.62666667  0.53333333  0.54666667  0.61333333\n",
      "   0.61333333  0.62666667  0.57333333  0.68        0.58666667  0.49333333\n",
      "   0.62666667  0.50666667  0.54666667  0.56        0.57333333  0.62666667\n",
      "   0.58666667  0.69333333  0.65333333  0.62666667  0.56        0.66666667\n",
      "   0.61333333  0.64      ]\n",
      " [ 0.7037037   0.71666667  0.66129032  0.63793103  0.70689655  0.68965517\n",
      "   0.72413793  0.69387755  0.66666667  0.6779661   0.71666667  0.72727273\n",
      "   0.6875      0.70909091  0.72727273  0.75        0.68181818  0.67924528\n",
      "   0.66666667  0.671875    0.72727273  0.71428571  0.67213115  0.6984127\n",
      "   0.734375    0.70175439  0.74        0.65454545  0.66666667  0.68852459\n",
      "   0.68852459  0.69354839  0.66129032  0.71212121  0.67213115  0.64583333\n",
      "   0.72222222  0.65957447  0.65517241  0.67272727  0.66666667  0.71428571\n",
      "   0.6779661   0.74576271  0.71666667  0.7         0.68627451  0.72881356\n",
      "   0.71698113  0.71186441]\n",
      " [ 0.71698113  0.76785714  0.71929825  0.67272727  0.74545455  0.72727273\n",
      "   0.76363636  0.67326733  0.69724771  0.72072072  0.76785714  0.74766355\n",
      "   0.75862069  0.72897196  0.74766355  0.77777778  0.625       0.68571429\n",
      "   0.67924528  0.74137931  0.74766355  0.7826087   0.72566372  0.76521739\n",
      "   0.81034483  0.73394495  0.7254902   0.6728972   0.67924528  0.74336283\n",
      "   0.74336283  0.75438596  0.71929825  0.79661017  0.72566372  0.62\n",
      "   0.73584906  0.62626263  0.69090909  0.69158879  0.71428571  0.74074074\n",
      "   0.72072072  0.79279279  0.76785714  0.75        0.67961165  0.77477477\n",
      "   0.72380952  0.75675676]\n",
      " [ 0.51755853  0.54389632  0.43770903  0.39924749  0.52466555  0.49331104\n",
      "   0.55602007  0.50083612  0.45234114  0.47157191  0.54389632  0.55852843\n",
      "   0.48829431  0.52717391  0.55852843  0.59949833  0.48411371  0.47658863\n",
      "   0.4548495   0.4569398   0.55852843  0.54138796  0.45944816  0.51003344\n",
      "   0.58235786  0.51505017  0.57316054  0.43311037  0.4548495   0.49080268\n",
      "   0.49080268  0.50041806  0.43770903  0.5388796   0.45944816  0.42851171\n",
      "   0.54891304  0.45025084  0.43060201  0.46446488  0.44983278  0.5367893\n",
      "   0.47157191  0.59698997  0.54389632  0.51254181  0.48871237  0.56563545\n",
      "   0.53929766  0.53428094]\n",
      " [ 0.8255814   0.51162791  0.62790698  0.79069767  0.8255814   0.68604651\n",
      "   0.6744186   0.61627907  0.74418605  0.75581395  0.86046512  0.69767442\n",
      "   0.77906977  0.77906977  0.88372093  0.56976744  0.76744186  0.61627907\n",
      "   0.73255814  0.63953488  0.68604651  0.40697674  0.76744186  0.72093023\n",
      "   0.62790698  0.73255814  0.8372093   0.72093023  0.77906977  0.68604651\n",
      "   0.58139535  0.45348837  0.47674419  0.43023256  0.58139535  0.72093023\n",
      "   0.62790698  0.79069767  0.84883721  0.59302326  0.8372093   0.88372093\n",
      "   0.58139535  0.81395349  0.60465116  0.68604651  0.76744186  0.6627907\n",
      "   0.80232558  0.5       ]\n",
      " [ 0.98598131  0.97196262  0.97196262  0.90186916  0.95327103  0.95794393\n",
      "   0.95327103  0.95794393  0.97196262  0.96728972  0.96261682  0.98598131\n",
      "   0.98598131  0.98598131  0.96728972  0.98130841  0.95327103  0.92523364\n",
      "   0.99065421  0.9953271   0.97663551  0.99065421  0.96728972  0.97196262\n",
      "   0.99065421  0.94392523  0.97663551  0.89252336  0.96728972  0.96728972\n",
      "   0.96261682  0.99065421  0.98130841  0.98598131  0.97663551  0.94392523\n",
      "   0.9953271   0.93457944  0.97196262  0.97663551  0.96261682  0.95794393\n",
      "   0.96728972  0.96261682  0.96728972  0.98130841  0.92523364  0.96728972\n",
      "   0.98130841  0.98130841]\n",
      " [ 0.94        0.84        0.87333333  0.87        0.91666667  0.88\n",
      "   0.87333333  0.86        0.90666667  0.90666667  0.93333333  0.90333333\n",
      "   0.92666667  0.92666667  0.94333333  0.86333333  0.9         0.83666667\n",
      "   0.91666667  0.89333333  0.89333333  0.82333333  0.91        0.9\n",
      "   0.88666667  0.88333333  0.93666667  0.84333333  0.91333333  0.88666667\n",
      "   0.85333333  0.83666667  0.83666667  0.82666667  0.86333333  0.88\n",
      "   0.89        0.89333333  0.93666667  0.86666667  0.92666667  0.93666667\n",
      "   0.85666667  0.92        0.86333333  0.89666667  0.88        0.88\n",
      "   0.93        0.84333333]\n",
      " [ 0.93362832  0.832       0.86666667  0.91469194  0.93150685  0.88362069\n",
      "   0.87931034  0.86134454  0.90434783  0.90789474  0.94495413  0.89029536\n",
      "   0.9173913   0.9173913   0.95391705  0.85020243  0.91071429  0.85714286\n",
      "   0.90212766  0.87295082  0.88559322  0.80608365  0.91189427  0.89655172\n",
      "   0.86885246  0.89777778  0.93721973  0.88837209  0.9159292   0.88461538\n",
      "   0.85123967  0.81853282  0.82352941  0.81153846  0.85306122  0.89380531\n",
      "   0.86938776  0.91743119  0.94117647  0.85655738  0.93636364  0.95348837\n",
      "   0.85185185  0.92792793  0.85892116  0.88607595  0.90825688  0.87711864\n",
      "   0.92511013  0.83003953]\n",
      " [ 0.95909091  0.89655172  0.91629956  0.90823529  0.94226328  0.91928251\n",
      "   0.91479821  0.90707965  0.93693694  0.93665158  0.9537037   0.93569845\n",
      "   0.95045045  0.95045045  0.96055684  0.91106291  0.93150685  0.88988764\n",
      "   0.94432071  0.930131    0.92888889  0.88888889  0.93877551  0.93273543\n",
      "   0.92576419  0.92027335  0.95652174  0.89044289  0.94090909  0.92410714\n",
      "   0.90350877  0.89640592  0.89552239  0.89029536  0.91067538  0.91818182\n",
      "   0.92810458  0.92592593  0.95632184  0.91266376  0.94930876  0.95571096\n",
      "   0.9059081   0.94495413  0.90989011  0.93126386  0.91666667  0.92\n",
      "   0.95238095  0.8993576 ]\n",
      " [ 0.90578135  0.74179526  0.7999348   0.84628342  0.88942621  0.82199522\n",
      "   0.81384482  0.7871115   0.85807433  0.86155184  0.91154097  0.84182786\n",
      "   0.88252554  0.88252554  0.92550532  0.77553793  0.86035644  0.77075636\n",
      "   0.86160617  0.81743099  0.83134101  0.69881547  0.86736579  0.84644642\n",
      "   0.80928059  0.83824169  0.90692241  0.8067268   0.87317974  0.82666812\n",
      "   0.77200609  0.72207129  0.7290263   0.70810693  0.77901543  0.83242773\n",
      "   0.81161704  0.86263856  0.91039991  0.78482938  0.89991306  0.92083243\n",
      "   0.77434253  0.88828516  0.78597044  0.83367746  0.84633775  0.81504021\n",
      "   0.891817    0.74065421]]\n"
     ]
    }
   ],
   "source": [
    "empty = np.array([[0],[0],[0],[0],[0],[0],[0],[0],[0],[0],[0],[0],[0]])\n",
    "n=1\n",
    "while n < 51:\n",
    "    \n",
    "    \n",
    "    X_train, X_test, y_train, y_test = train_test_split(X, Y, test_size = 0.2, random_state = n)\n",
    "    sc = StandardScaler()\n",
    "    X_train = sc.fit_transform(X_train)\n",
    "    X_test = sc.transform(X_test)\n",
    "    \n",
    "    classifier = DecisionTreeClassifier(max_depth=9, min_samples_leaf=2, min_samples_split=6,\n",
    "                       random_state=420)\n",
    "    classifier.fit(X_train, Y_train)\n",
    "    \n",
    "    y_pred = classifier.predict(X_test)   \n",
    "    y_updatapred = classifier.predict(X_train)\n",
    "    from sklearn.metrics import confusion_matrix, roc_auc_score\n",
    "    cm = confusion_matrix(Y_test, y_pred)   \n",
    "    cm_updata = confusion_matrix(Y_train, y_updatapred)\n",
    "    auc = roc_auc_score(Y_test, y_pred)\n",
    "    auc_updata = roc_auc_score(Y_train, y_updatapred)\n",
    "    a = cm[0,0]\n",
    "    b = cm[0,1]\n",
    "    c = cm[1,0]\n",
    "    d = cm[1,1]\n",
    "    sen = d/(d+c)\n",
    "    sep = a/(a+b)\n",
    "    acc = (a+d)/(a+b+c+d)\n",
    "    pre = a/(a+c)\n",
    "    F1 = (2*a)/(2*a+c+b)\n",
    "    \n",
    "    a_updata = cm_updata[0,0]\n",
    "    b_updata = cm_updata[0,1]\n",
    "    c_updata = cm_updata[1,0]\n",
    "    d_updata = cm_updata[1,1]\n",
    "    \n",
    "    sen_updata = d_updata/(d_updata + c_updata)\n",
    "    sep_updata = a_updata/(a_updata + b_updata)\n",
    "    \n",
    "    acc_updata = (a_updata+d_updata)/(a_updata+b_updata+c_updata+d_updata)\n",
    "    pre_updata = a_updata/(a_updata + c_updata)\n",
    "    F1_updata = (2*a_updata)/(2*a_updata+c_updata+b_updata)\n",
    "    \n",
    "    first = np.array([[n],[sen],[sep],[acc],[pre],[F1],[auc],[sen_updata],[sep_updata],[acc_updata],[pre_updata],[F1_updata],[auc_updata]])\n",
    "    second = np.hstack((empty,first))\n",
    "    empty = second\n",
    "    n = n + 1\n",
    "    print(n)\n",
    "final_par = np.delete(second,0,axis=1)\n",
    "print (final_par)\n",
    "final_parT = final_par.T\n",
    "np.savetxt('DecisionTreeClassifier_zongcr',final_parT,delimiter=',')"
   ]
  },
  {
   "cell_type": "code",
   "execution_count": null,
   "id": "442394b5",
   "metadata": {},
   "outputs": [],
   "source": []
  }
 ],
 "metadata": {
  "kernelspec": {
   "display_name": "sklearn",
   "language": "python",
   "name": "sklearn"
  },
  "language_info": {
   "codemirror_mode": {
    "name": "ipython",
    "version": 3
   },
   "file_extension": ".py",
   "mimetype": "text/x-python",
   "name": "python",
   "nbconvert_exporter": "python",
   "pygments_lexer": "ipython3",
   "version": "3.9.12"
  }
 },
 "nbformat": 4,
 "nbformat_minor": 5
}
