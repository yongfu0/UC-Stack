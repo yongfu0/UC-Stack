{
 "cells": [
  {
   "cell_type": "code",
   "execution_count": null,
   "id": "bf36844c",
   "metadata": {},
   "outputs": [],
   "source": [
    "\n",
    "import numpy as np\n",
    "import matplotlib.pyplot as plt\n",
    "import pandas as pd\n",
    "from sklearn.metrics import confusion_matrix\n",
    "from sklearn.neighbors import KNeighborsClassifier\n",
    "from sklearn.preprocessing import StandardScaler\n",
    "from sklearn.model_selection import train_test_split\n",
    "from sklearn.metrics import accuracy_score, recall_score, f1_score, precision_score,roc_curve, auc \n",
    "import sklearn.metrics as sm"
   ]
  },
  {
   "cell_type": "code",
   "execution_count": 2,
   "id": "91deaa98",
   "metadata": {},
   "outputs": [],
   "source": [
    "dataset = pd.read_csv('output.csv')\n",
    "X= dataset.drop(['state'], axis=1)   # 取出用于建模的特征列X\n",
    "Y = dataset['state']   # 取出标签列Y\n",
    "\n",
    "X_train, X_test, Y_train, Y_test = train_test_split(X, Y, test_size=0.2, random_state=420)"
   ]
  },
  {
   "cell_type": "code",
   "execution_count": 3,
   "id": "b389c2a3",
   "metadata": {},
   "outputs": [],
   "source": [
    "sc = StandardScaler()\n",
    "X_train = sc.fit_transform(X_train)\n",
    "X_test = sc.transform(X_test)"
   ]
  },
  {
   "cell_type": "code",
   "execution_count": 4,
   "id": "94824acb",
   "metadata": {},
   "outputs": [],
   "source": [
    "classifier = KNeighborsClassifier()"
   ]
  },
  {
   "cell_type": "code",
   "execution_count": 5,
   "id": "e2f0141c",
   "metadata": {},
   "outputs": [],
   "source": [
    "param_grid=[\n",
    "            {\n",
    "             'weights':['uniform'],\n",
    "             'n_neighbors':[3,5,7,9,11,13]\n",
    "            },\n",
    "            {\n",
    "             'weights':['distance'],\n",
    "             'n_neighbors':[3,5,7,9,11,13],\n",
    "             'p':[i for i in range(1,4)]\n",
    "            },       \n",
    "            ]"
   ]
  },
  {
   "cell_type": "code",
   "execution_count": 6,
   "id": "f5198f5d",
   "metadata": {},
   "outputs": [
    {
     "name": "stdout",
     "output_type": "stream",
     "text": [
      "Fitting 10 folds for each of 24 candidates, totalling 240 fits\n"
     ]
    },
    {
     "data": {
      "text/plain": [
       "{'n_neighbors': 9, 'p': 3, 'weights': 'distance'}"
      ]
     },
     "execution_count": 6,
     "metadata": {},
     "output_type": "execute_result"
    }
   ],
   "source": [
    "from sklearn.model_selection import GridSearchCV\n",
    "\n",
    "grid_search = GridSearchCV(classifier, param_grid, scoring='roc_auc', n_jobs = -1, verbose = 1,cv=10)   \n",
    "grid_search.fit(X_train, Y_train)  \n",
    "classifier = grid_search.best_estimator_ \n",
    "grid_search.best_params_ "
   ]
  },
  {
   "cell_type": "code",
   "execution_count": 7,
   "id": "a5422b01",
   "metadata": {},
   "outputs": [
    {
     "data": {
      "text/html": [
       "<style>#sk-container-id-1 {color: black;background-color: white;}#sk-container-id-1 pre{padding: 0;}#sk-container-id-1 div.sk-toggleable {background-color: white;}#sk-container-id-1 label.sk-toggleable__label {cursor: pointer;display: block;width: 100%;margin-bottom: 0;padding: 0.3em;box-sizing: border-box;text-align: center;}#sk-container-id-1 label.sk-toggleable__label-arrow:before {content: \"▸\";float: left;margin-right: 0.25em;color: #696969;}#sk-container-id-1 label.sk-toggleable__label-arrow:hover:before {color: black;}#sk-container-id-1 div.sk-estimator:hover label.sk-toggleable__label-arrow:before {color: black;}#sk-container-id-1 div.sk-toggleable__content {max-height: 0;max-width: 0;overflow: hidden;text-align: left;background-color: #f0f8ff;}#sk-container-id-1 div.sk-toggleable__content pre {margin: 0.2em;color: black;border-radius: 0.25em;background-color: #f0f8ff;}#sk-container-id-1 input.sk-toggleable__control:checked~div.sk-toggleable__content {max-height: 200px;max-width: 100%;overflow: auto;}#sk-container-id-1 input.sk-toggleable__control:checked~label.sk-toggleable__label-arrow:before {content: \"▾\";}#sk-container-id-1 div.sk-estimator input.sk-toggleable__control:checked~label.sk-toggleable__label {background-color: #d4ebff;}#sk-container-id-1 div.sk-label input.sk-toggleable__control:checked~label.sk-toggleable__label {background-color: #d4ebff;}#sk-container-id-1 input.sk-hidden--visually {border: 0;clip: rect(1px 1px 1px 1px);clip: rect(1px, 1px, 1px, 1px);height: 1px;margin: -1px;overflow: hidden;padding: 0;position: absolute;width: 1px;}#sk-container-id-1 div.sk-estimator {font-family: monospace;background-color: #f0f8ff;border: 1px dotted black;border-radius: 0.25em;box-sizing: border-box;margin-bottom: 0.5em;}#sk-container-id-1 div.sk-estimator:hover {background-color: #d4ebff;}#sk-container-id-1 div.sk-parallel-item::after {content: \"\";width: 100%;border-bottom: 1px solid gray;flex-grow: 1;}#sk-container-id-1 div.sk-label:hover label.sk-toggleable__label {background-color: #d4ebff;}#sk-container-id-1 div.sk-serial::before {content: \"\";position: absolute;border-left: 1px solid gray;box-sizing: border-box;top: 0;bottom: 0;left: 50%;z-index: 0;}#sk-container-id-1 div.sk-serial {display: flex;flex-direction: column;align-items: center;background-color: white;padding-right: 0.2em;padding-left: 0.2em;position: relative;}#sk-container-id-1 div.sk-item {position: relative;z-index: 1;}#sk-container-id-1 div.sk-parallel {display: flex;align-items: stretch;justify-content: center;background-color: white;position: relative;}#sk-container-id-1 div.sk-item::before, #sk-container-id-1 div.sk-parallel-item::before {content: \"\";position: absolute;border-left: 1px solid gray;box-sizing: border-box;top: 0;bottom: 0;left: 50%;z-index: -1;}#sk-container-id-1 div.sk-parallel-item {display: flex;flex-direction: column;z-index: 1;position: relative;background-color: white;}#sk-container-id-1 div.sk-parallel-item:first-child::after {align-self: flex-end;width: 50%;}#sk-container-id-1 div.sk-parallel-item:last-child::after {align-self: flex-start;width: 50%;}#sk-container-id-1 div.sk-parallel-item:only-child::after {width: 0;}#sk-container-id-1 div.sk-dashed-wrapped {border: 1px dashed gray;margin: 0 0.4em 0.5em 0.4em;box-sizing: border-box;padding-bottom: 0.4em;background-color: white;}#sk-container-id-1 div.sk-label label {font-family: monospace;font-weight: bold;display: inline-block;line-height: 1.2em;}#sk-container-id-1 div.sk-label-container {text-align: center;}#sk-container-id-1 div.sk-container {/* jupyter's `normalize.less` sets `[hidden] { display: none; }` but bootstrap.min.css set `[hidden] { display: none !important; }` so we also need the `!important` here to be able to override the default hidden behavior on the sphinx rendered scikit-learn.org. See: https://github.com/scikit-learn/scikit-learn/issues/21755 */display: inline-block !important;position: relative;}#sk-container-id-1 div.sk-text-repr-fallback {display: none;}</style><div id=\"sk-container-id-1\" class=\"sk-top-container\"><div class=\"sk-text-repr-fallback\"><pre>KNeighborsClassifier(n_neighbors=9, p=3, weights=&#x27;distance&#x27;)</pre><b>In a Jupyter environment, please rerun this cell to show the HTML representation or trust the notebook. <br />On GitHub, the HTML representation is unable to render, please try loading this page with nbviewer.org.</b></div><div class=\"sk-container\" hidden><div class=\"sk-item\"><div class=\"sk-estimator sk-toggleable\"><input class=\"sk-toggleable__control sk-hidden--visually\" id=\"sk-estimator-id-1\" type=\"checkbox\" checked><label for=\"sk-estimator-id-1\" class=\"sk-toggleable__label sk-toggleable__label-arrow\">KNeighborsClassifier</label><div class=\"sk-toggleable__content\"><pre>KNeighborsClassifier(n_neighbors=9, p=3, weights=&#x27;distance&#x27;)</pre></div></div></div></div></div>"
      ],
      "text/plain": [
       "KNeighborsClassifier(n_neighbors=9, p=3, weights='distance')"
      ]
     },
     "execution_count": 7,
     "metadata": {},
     "output_type": "execute_result"
    }
   ],
   "source": [
    "classifier.fit(X_train, Y_train)"
   ]
  },
  {
   "cell_type": "code",
   "execution_count": 8,
   "id": "c8632daa",
   "metadata": {},
   "outputs": [
    {
     "ename": "AttributeError",
     "evalue": "'KNeighborsClassifier' object has no attribute 'feature_importances_'",
     "output_type": "error",
     "traceback": [
      "\u001b[1;31m---------------------------------------------------------------------------\u001b[0m",
      "\u001b[1;31mAttributeError\u001b[0m                            Traceback (most recent call last)",
      "Input \u001b[1;32mIn [8]\u001b[0m, in \u001b[0;36m<cell line: 1>\u001b[1;34m()\u001b[0m\n\u001b[1;32m----> 1\u001b[0m importances \u001b[38;5;241m=\u001b[39m\u001b[43mclassifier\u001b[49m\u001b[38;5;241;43m.\u001b[39;49m\u001b[43mfeature_importances_\u001b[49m\n\u001b[0;32m      2\u001b[0m \u001b[38;5;28mprint\u001b[39m(importances)\n",
      "\u001b[1;31mAttributeError\u001b[0m: 'KNeighborsClassifier' object has no attribute 'feature_importances_'"
     ]
    }
   ],
   "source": [
    "importances =classifier.feature_importances_\n",
    "print(importances)"
   ]
  },
  {
   "cell_type": "code",
   "execution_count": null,
   "id": "525d439c",
   "metadata": {},
   "outputs": [],
   "source": []
  },
  {
   "cell_type": "code",
   "execution_count": 8,
   "id": "b67ee81a",
   "metadata": {},
   "outputs": [],
   "source": [
    "y_pred = classifier.predict(X_test)"
   ]
  },
  {
   "cell_type": "code",
   "execution_count": 9,
   "id": "9290d816",
   "metadata": {},
   "outputs": [
    {
     "name": "stdout",
     "output_type": "stream",
     "text": [
      "[[46  6]\n",
      " [21  2]]\n"
     ]
    }
   ],
   "source": [
    "cm = confusion_matrix(Y_test, y_pred)\n",
    "print(cm)"
   ]
  },
  {
   "cell_type": "code",
   "execution_count": 10,
   "id": "2a46fb52",
   "metadata": {},
   "outputs": [
    {
     "name": "stdout",
     "output_type": "stream",
     "text": [
      "---------------分类报告\n",
      "               precision    recall  f1-score   support\n",
      "\n",
      "           0       0.69      0.88      0.77        52\n",
      "           1       0.25      0.09      0.13        23\n",
      "\n",
      "    accuracy                           0.64        75\n",
      "   macro avg       0.47      0.49      0.45        75\n",
      "weighted avg       0.55      0.64      0.58        75\n",
      "\n"
     ]
    }
   ],
   "source": [
    "cp = sm.classification_report(Y_test, y_pred)\n",
    "print(\"---------------分类报告\\n\", cp)\n"
   ]
  },
  {
   "cell_type": "code",
   "execution_count": 11,
   "id": "cb419f84",
   "metadata": {},
   "outputs": [
    {
     "name": "stdout",
     "output_type": "stream",
     "text": [
      "Accuracy score: 0.64\n",
      "Recall: 0.64\n",
      "F1-score: 0.5755923014367037\n",
      "Precision score: 0.5526865671641791\n",
      "0.5108695652173914\n"
     ]
    }
   ],
   "source": [
    "from sklearn.metrics import accuracy_score, recall_score, f1_score, precision_score\n",
    "print('Accuracy score:', accuracy_score(Y_test, y_pred))\n",
    "print('Recall:', recall_score(Y_test, y_pred, average='weighted'))\n",
    "print('F1-score:', f1_score(Y_test, y_pred, average='weighted'))\n",
    "print('Precision score:', precision_score(Y_test, y_pred, average='weighted'))\n",
    "y_test_proba_rfc =classifier.predict_proba(X_test)\n",
    "false_positive_rate_rfc, recall_rfc, thresholds_rfc = roc_curve(Y_test, y_test_proba_rfc[:, 1])  \n",
    "roc_auc_rfc = auc(false_positive_rate_rfc, recall_rfc)   \n",
    "print(roc_auc_rfc )"
   ]
  },
  {
   "cell_type": "code",
   "execution_count": 12,
   "id": "723be9dd",
   "metadata": {
    "scrolled": false
   },
   "outputs": [
    {
     "name": "stdout",
     "output_type": "stream",
     "text": [
      "2\n",
      "3\n",
      "4\n",
      "5\n",
      "6\n",
      "7\n",
      "8\n",
      "9\n",
      "10\n",
      "11\n",
      "12\n",
      "13\n",
      "14\n",
      "15\n",
      "16\n",
      "17\n",
      "18\n",
      "19\n",
      "20\n",
      "21\n",
      "22\n",
      "23\n",
      "24\n",
      "25\n",
      "26\n",
      "27\n",
      "28\n",
      "29\n",
      "30\n",
      "31\n",
      "32\n",
      "33\n",
      "34\n",
      "35\n",
      "36\n",
      "37\n",
      "38\n",
      "39\n",
      "40\n",
      "41\n",
      "42\n",
      "43\n",
      "44\n",
      "45\n",
      "46\n",
      "47\n",
      "48\n",
      "49\n",
      "50\n",
      "51\n",
      "[[1.00000000e+00 2.00000000e+00 3.00000000e+00 4.00000000e+00\n",
      "  5.00000000e+00 6.00000000e+00 7.00000000e+00 8.00000000e+00\n",
      "  9.00000000e+00 1.00000000e+01 1.10000000e+01 1.20000000e+01\n",
      "  1.30000000e+01 1.40000000e+01 1.50000000e+01 1.60000000e+01\n",
      "  1.70000000e+01 1.80000000e+01 1.90000000e+01 2.00000000e+01\n",
      "  2.10000000e+01 2.20000000e+01 2.30000000e+01 2.40000000e+01\n",
      "  2.50000000e+01 2.60000000e+01 2.70000000e+01 2.80000000e+01\n",
      "  2.90000000e+01 3.00000000e+01 3.10000000e+01 3.20000000e+01\n",
      "  3.30000000e+01 3.40000000e+01 3.50000000e+01 3.60000000e+01\n",
      "  3.70000000e+01 3.80000000e+01 3.90000000e+01 4.00000000e+01\n",
      "  4.10000000e+01 4.20000000e+01 4.30000000e+01 4.40000000e+01\n",
      "  4.50000000e+01 4.60000000e+01 4.70000000e+01 4.80000000e+01\n",
      "  4.90000000e+01 5.00000000e+01]\n",
      " [8.69565217e-02 4.34782609e-02 4.34782609e-02 1.30434783e-01\n",
      "  4.34782609e-02 4.34782609e-02 4.34782609e-02 1.30434783e-01\n",
      "  4.34782609e-02 0.00000000e+00 4.34782609e-02 1.73913043e-01\n",
      "  8.69565217e-02 8.69565217e-02 1.73913043e-01 4.34782609e-02\n",
      "  1.30434783e-01 8.69565217e-02 4.34782609e-02 0.00000000e+00\n",
      "  0.00000000e+00 0.00000000e+00 4.34782609e-02 2.17391304e-01\n",
      "  4.34782609e-02 4.34782609e-02 4.34782609e-02 2.17391304e-01\n",
      "  8.69565217e-02 4.34782609e-02 8.69565217e-02 2.60869565e-01\n",
      "  1.30434783e-01 4.34782609e-02 8.69565217e-02 8.69565217e-02\n",
      "  0.00000000e+00 4.34782609e-02 4.34782609e-02 8.69565217e-02\n",
      "  8.69565217e-02 2.17391304e-01 1.30434783e-01 8.69565217e-02\n",
      "  1.30434783e-01 8.69565217e-02 0.00000000e+00 0.00000000e+00\n",
      "  2.17391304e-01 4.34782609e-02]\n",
      " [8.84615385e-01 9.80769231e-01 8.46153846e-01 8.65384615e-01\n",
      "  9.23076923e-01 9.80769231e-01 9.03846154e-01 9.03846154e-01\n",
      "  8.65384615e-01 8.84615385e-01 9.23076923e-01 9.42307692e-01\n",
      "  9.80769231e-01 8.46153846e-01 9.23076923e-01 9.80769231e-01\n",
      "  9.23076923e-01 9.42307692e-01 8.84615385e-01 9.03846154e-01\n",
      "  9.61538462e-01 9.42307692e-01 8.84615385e-01 9.42307692e-01\n",
      "  9.61538462e-01 1.00000000e+00 9.03846154e-01 9.23076923e-01\n",
      "  9.23076923e-01 9.61538462e-01 9.80769231e-01 9.23076923e-01\n",
      "  1.00000000e+00 9.61538462e-01 9.23076923e-01 1.00000000e+00\n",
      "  9.80769231e-01 9.42307692e-01 8.07692308e-01 9.03846154e-01\n",
      "  8.84615385e-01 9.80769231e-01 8.46153846e-01 9.42307692e-01\n",
      "  9.61538462e-01 9.42307692e-01 9.42307692e-01 9.42307692e-01\n",
      "  9.61538462e-01 9.03846154e-01]\n",
      " [6.40000000e-01 6.93333333e-01 6.00000000e-01 6.40000000e-01\n",
      "  6.53333333e-01 6.93333333e-01 6.40000000e-01 6.66666667e-01\n",
      "  6.13333333e-01 6.13333333e-01 6.53333333e-01 7.06666667e-01\n",
      "  7.06666667e-01 6.13333333e-01 6.93333333e-01 6.93333333e-01\n",
      "  6.80000000e-01 6.80000000e-01 6.26666667e-01 6.26666667e-01\n",
      "  6.66666667e-01 6.53333333e-01 6.26666667e-01 7.20000000e-01\n",
      "  6.80000000e-01 7.06666667e-01 6.40000000e-01 7.06666667e-01\n",
      "  6.66666667e-01 6.80000000e-01 7.06666667e-01 7.20000000e-01\n",
      "  7.33333333e-01 6.80000000e-01 6.66666667e-01 7.20000000e-01\n",
      "  6.80000000e-01 6.66666667e-01 5.73333333e-01 6.53333333e-01\n",
      "  6.40000000e-01 7.46666667e-01 6.26666667e-01 6.80000000e-01\n",
      "  7.06666667e-01 6.80000000e-01 6.53333333e-01 6.53333333e-01\n",
      "  7.33333333e-01 6.40000000e-01]\n",
      " [6.86567164e-01 6.98630137e-01 6.66666667e-01 6.92307692e-01\n",
      "  6.85714286e-01 6.98630137e-01 6.81159420e-01 7.01492537e-01\n",
      "  6.71641791e-01 6.66666667e-01 6.85714286e-01 7.20588235e-01\n",
      "  7.08333333e-01 6.76923077e-01 7.16417910e-01 6.98630137e-01\n",
      "  7.05882353e-01 7.00000000e-01 6.76470588e-01 6.71428571e-01\n",
      "  6.84931507e-01 6.80555556e-01 6.76470588e-01 7.31343284e-01\n",
      "  6.94444444e-01 7.02702703e-01 6.81159420e-01 7.27272727e-01\n",
      "  6.95652174e-01 6.94444444e-01 7.08333333e-01 7.38461538e-01\n",
      "  7.22222222e-01 6.94444444e-01 6.95652174e-01 7.12328767e-01\n",
      "  6.89189189e-01 6.90140845e-01 6.56250000e-01 6.91176471e-01\n",
      "  6.86567164e-01 7.39130435e-01 6.87500000e-01 7.00000000e-01\n",
      "  7.14285714e-01 7.00000000e-01 6.80555556e-01 6.80555556e-01\n",
      "  7.35294118e-01 6.81159420e-01]\n",
      " [7.73109244e-01 8.16000000e-01 7.45762712e-01 7.69230769e-01\n",
      "  7.86885246e-01 8.16000000e-01 7.76859504e-01 7.89915966e-01\n",
      "  7.56302521e-01 7.60330579e-01 7.86885246e-01 8.16666667e-01\n",
      "  8.22580645e-01 7.52136752e-01 8.06722689e-01 8.16000000e-01\n",
      "  8.00000000e-01 8.03278689e-01 7.66666667e-01 7.70491803e-01\n",
      "  8.00000000e-01 7.90322581e-01 7.66666667e-01 8.23529412e-01\n",
      "  8.06451613e-01 8.25396825e-01 7.76859504e-01 8.13559322e-01\n",
      "  7.93388430e-01 8.06451613e-01 8.22580645e-01 8.20512821e-01\n",
      "  8.38709677e-01 8.06451613e-01 7.93388430e-01 8.32000000e-01\n",
      "  8.09523810e-01 7.96747967e-01 7.24137931e-01 7.83333333e-01\n",
      "  7.73109244e-01 8.42975207e-01 7.58620690e-01 8.03278689e-01\n",
      "  8.19672131e-01 8.03278689e-01 7.90322581e-01 7.90322581e-01\n",
      "  8.33333333e-01 7.76859504e-01]\n",
      " [4.85785953e-01 5.12123746e-01 4.44816054e-01 4.97909699e-01\n",
      "  4.83277592e-01 5.12123746e-01 4.73662207e-01 5.17140468e-01\n",
      "  4.54431438e-01 4.42307692e-01 4.83277592e-01 5.58110368e-01\n",
      "  5.33862876e-01 4.66555184e-01 5.48494983e-01 5.12123746e-01\n",
      "  5.26755853e-01 5.14632107e-01 4.64046823e-01 4.51923077e-01\n",
      "  4.80769231e-01 4.71153846e-01 4.64046823e-01 5.79849498e-01\n",
      "  5.02508361e-01 5.21739130e-01 4.73662207e-01 5.70234114e-01\n",
      "  5.05016722e-01 5.02508361e-01 5.33862876e-01 5.91973244e-01\n",
      "  5.65217391e-01 5.02508361e-01 5.05016722e-01 5.43478261e-01\n",
      "  4.90384615e-01 4.92892977e-01 4.25585284e-01 4.95401338e-01\n",
      "  4.85785953e-01 5.99080268e-01 4.88294314e-01 5.14632107e-01\n",
      "  5.45986622e-01 5.14632107e-01 4.71153846e-01 4.71153846e-01\n",
      "  5.89464883e-01 4.73662207e-01]\n",
      " [1.00000000e+00 1.00000000e+00 1.00000000e+00 1.00000000e+00\n",
      "  1.00000000e+00 1.00000000e+00 1.00000000e+00 1.00000000e+00\n",
      "  1.00000000e+00 1.00000000e+00 1.00000000e+00 1.00000000e+00\n",
      "  1.00000000e+00 1.00000000e+00 1.00000000e+00 1.00000000e+00\n",
      "  1.00000000e+00 1.00000000e+00 1.00000000e+00 1.00000000e+00\n",
      "  1.00000000e+00 1.00000000e+00 1.00000000e+00 1.00000000e+00\n",
      "  1.00000000e+00 1.00000000e+00 1.00000000e+00 1.00000000e+00\n",
      "  1.00000000e+00 1.00000000e+00 1.00000000e+00 1.00000000e+00\n",
      "  1.00000000e+00 1.00000000e+00 1.00000000e+00 1.00000000e+00\n",
      "  1.00000000e+00 1.00000000e+00 1.00000000e+00 1.00000000e+00\n",
      "  1.00000000e+00 1.00000000e+00 1.00000000e+00 1.00000000e+00\n",
      "  1.00000000e+00 1.00000000e+00 1.00000000e+00 1.00000000e+00\n",
      "  1.00000000e+00 1.00000000e+00]\n",
      " [1.00000000e+00 1.00000000e+00 1.00000000e+00 1.00000000e+00\n",
      "  1.00000000e+00 1.00000000e+00 1.00000000e+00 1.00000000e+00\n",
      "  1.00000000e+00 1.00000000e+00 1.00000000e+00 1.00000000e+00\n",
      "  1.00000000e+00 1.00000000e+00 1.00000000e+00 1.00000000e+00\n",
      "  1.00000000e+00 1.00000000e+00 1.00000000e+00 1.00000000e+00\n",
      "  1.00000000e+00 1.00000000e+00 1.00000000e+00 1.00000000e+00\n",
      "  1.00000000e+00 1.00000000e+00 1.00000000e+00 1.00000000e+00\n",
      "  1.00000000e+00 1.00000000e+00 1.00000000e+00 1.00000000e+00\n",
      "  1.00000000e+00 1.00000000e+00 1.00000000e+00 1.00000000e+00\n",
      "  1.00000000e+00 1.00000000e+00 1.00000000e+00 1.00000000e+00\n",
      "  1.00000000e+00 1.00000000e+00 1.00000000e+00 1.00000000e+00\n",
      "  1.00000000e+00 1.00000000e+00 1.00000000e+00 1.00000000e+00\n",
      "  1.00000000e+00 1.00000000e+00]\n",
      " [1.00000000e+00 1.00000000e+00 1.00000000e+00 1.00000000e+00\n",
      "  1.00000000e+00 1.00000000e+00 1.00000000e+00 1.00000000e+00\n",
      "  1.00000000e+00 1.00000000e+00 1.00000000e+00 1.00000000e+00\n",
      "  1.00000000e+00 1.00000000e+00 1.00000000e+00 1.00000000e+00\n",
      "  1.00000000e+00 1.00000000e+00 1.00000000e+00 1.00000000e+00\n",
      "  1.00000000e+00 1.00000000e+00 1.00000000e+00 1.00000000e+00\n",
      "  1.00000000e+00 1.00000000e+00 1.00000000e+00 1.00000000e+00\n",
      "  1.00000000e+00 1.00000000e+00 1.00000000e+00 1.00000000e+00\n",
      "  1.00000000e+00 1.00000000e+00 1.00000000e+00 1.00000000e+00\n",
      "  1.00000000e+00 1.00000000e+00 1.00000000e+00 1.00000000e+00\n",
      "  1.00000000e+00 1.00000000e+00 1.00000000e+00 1.00000000e+00\n",
      "  1.00000000e+00 1.00000000e+00 1.00000000e+00 1.00000000e+00\n",
      "  1.00000000e+00 1.00000000e+00]\n",
      " [1.00000000e+00 1.00000000e+00 1.00000000e+00 1.00000000e+00\n",
      "  1.00000000e+00 1.00000000e+00 1.00000000e+00 1.00000000e+00\n",
      "  1.00000000e+00 1.00000000e+00 1.00000000e+00 1.00000000e+00\n",
      "  1.00000000e+00 1.00000000e+00 1.00000000e+00 1.00000000e+00\n",
      "  1.00000000e+00 1.00000000e+00 1.00000000e+00 1.00000000e+00\n",
      "  1.00000000e+00 1.00000000e+00 1.00000000e+00 1.00000000e+00\n",
      "  1.00000000e+00 1.00000000e+00 1.00000000e+00 1.00000000e+00\n",
      "  1.00000000e+00 1.00000000e+00 1.00000000e+00 1.00000000e+00\n",
      "  1.00000000e+00 1.00000000e+00 1.00000000e+00 1.00000000e+00\n",
      "  1.00000000e+00 1.00000000e+00 1.00000000e+00 1.00000000e+00\n",
      "  1.00000000e+00 1.00000000e+00 1.00000000e+00 1.00000000e+00\n",
      "  1.00000000e+00 1.00000000e+00 1.00000000e+00 1.00000000e+00\n",
      "  1.00000000e+00 1.00000000e+00]\n",
      " [1.00000000e+00 1.00000000e+00 1.00000000e+00 1.00000000e+00\n",
      "  1.00000000e+00 1.00000000e+00 1.00000000e+00 1.00000000e+00\n",
      "  1.00000000e+00 1.00000000e+00 1.00000000e+00 1.00000000e+00\n",
      "  1.00000000e+00 1.00000000e+00 1.00000000e+00 1.00000000e+00\n",
      "  1.00000000e+00 1.00000000e+00 1.00000000e+00 1.00000000e+00\n",
      "  1.00000000e+00 1.00000000e+00 1.00000000e+00 1.00000000e+00\n",
      "  1.00000000e+00 1.00000000e+00 1.00000000e+00 1.00000000e+00\n",
      "  1.00000000e+00 1.00000000e+00 1.00000000e+00 1.00000000e+00\n",
      "  1.00000000e+00 1.00000000e+00 1.00000000e+00 1.00000000e+00\n",
      "  1.00000000e+00 1.00000000e+00 1.00000000e+00 1.00000000e+00\n",
      "  1.00000000e+00 1.00000000e+00 1.00000000e+00 1.00000000e+00\n",
      "  1.00000000e+00 1.00000000e+00 1.00000000e+00 1.00000000e+00\n",
      "  1.00000000e+00 1.00000000e+00]\n",
      " [1.00000000e+00 1.00000000e+00 1.00000000e+00 1.00000000e+00\n",
      "  1.00000000e+00 1.00000000e+00 1.00000000e+00 1.00000000e+00\n",
      "  1.00000000e+00 1.00000000e+00 1.00000000e+00 1.00000000e+00\n",
      "  1.00000000e+00 1.00000000e+00 1.00000000e+00 1.00000000e+00\n",
      "  1.00000000e+00 1.00000000e+00 1.00000000e+00 1.00000000e+00\n",
      "  1.00000000e+00 1.00000000e+00 1.00000000e+00 1.00000000e+00\n",
      "  1.00000000e+00 1.00000000e+00 1.00000000e+00 1.00000000e+00\n",
      "  1.00000000e+00 1.00000000e+00 1.00000000e+00 1.00000000e+00\n",
      "  1.00000000e+00 1.00000000e+00 1.00000000e+00 1.00000000e+00\n",
      "  1.00000000e+00 1.00000000e+00 1.00000000e+00 1.00000000e+00\n",
      "  1.00000000e+00 1.00000000e+00 1.00000000e+00 1.00000000e+00\n",
      "  1.00000000e+00 1.00000000e+00 1.00000000e+00 1.00000000e+00\n",
      "  1.00000000e+00 1.00000000e+00]]\n"
     ]
    }
   ],
   "source": [
    "empty = np.array([[0],[0],[0],[0],[0],[0],[0],[0],[0],[0],[0],[0],[0]])\n",
    "n=1\n",
    "while n < 51:\n",
    "    X_train, X_test, y_train, y_test = train_test_split(X, Y, test_size = 0.2, random_state = n)\n",
    "    sc = StandardScaler()\n",
    "    X_train = sc.fit_transform(X_train)\n",
    "    X_test = sc.transform(X_test)\n",
    "    \n",
    "    classifier = KNeighborsClassifier(n_neighbors=13, weights='distance')\n",
    "    classifier.fit(X_train, Y_train)\n",
    "    \n",
    "    y_pred = classifier.predict(X_test)   \n",
    "    y_updatapred = classifier.predict(X_train)\n",
    "    from sklearn.metrics import confusion_matrix, roc_auc_score\n",
    "    cm = confusion_matrix(Y_test, y_pred)   \n",
    "    cm_updata = confusion_matrix(Y_train, y_updatapred)\n",
    "    auc = roc_auc_score(Y_test, y_pred)\n",
    "    auc_updata = roc_auc_score(Y_train, y_updatapred)\n",
    "    a = cm[0,0]\n",
    "    b = cm[0,1]\n",
    "    c = cm[1,0]\n",
    "    d = cm[1,1]\n",
    "    sen = d/(d+c)\n",
    "    sep = a/(a+b)\n",
    "    acc = (a+d)/(a+b+c+d)\n",
    "    pre = a/(a+c)\n",
    "    F1 = (2*a)/(2*a+c+b)\n",
    "    \n",
    "    a_updata = cm_updata[0,0]\n",
    "    b_updata = cm_updata[0,1]\n",
    "    c_updata = cm_updata[1,0]\n",
    "    d_updata = cm_updata[1,1]\n",
    "    \n",
    "    sen_updata = d_updata/(d_updata + c_updata)\n",
    "    sep_updata = a_updata/(a_updata + b_updata)\n",
    "    acc_updata = (a_updata+d_updata)/(a_updata+b_updata+c_updata+d_updata)\n",
    "    pre_updata = a_updata/(a_updata + c_updata)\n",
    "    F1_updata = (2*a_updata)/(2*a_updata+c_updata+b_updata)\n",
    "    \n",
    "    first = np.array([[n],[sen],[sep],[acc],[pre],[F1],[auc],[sen_updata],[sep_updata],[acc_updata],[pre_updata],[F1_updata],[auc_updata]])\n",
    "    second = np.hstack((empty,first))\n",
    "    empty = second\n",
    "    n = n + 1\n",
    "    print(n)\n",
    "final_par = np.delete(second,0,axis=1)\n",
    "print (final_par)\n",
    "final_parT = final_par.T\n",
    "np.savetxt('KNN_Cocr',final_parT,delimiter=',')"
   ]
  },
  {
   "cell_type": "code",
   "execution_count": null,
   "id": "3f4d763f",
   "metadata": {},
   "outputs": [],
   "source": []
  }
 ],
 "metadata": {
  "kernelspec": {
   "display_name": "sklearn",
   "language": "python",
   "name": "sklearn"
  },
  "language_info": {
   "codemirror_mode": {
    "name": "ipython",
    "version": 3
   },
   "file_extension": ".py",
   "mimetype": "text/x-python",
   "name": "python",
   "nbconvert_exporter": "python",
   "pygments_lexer": "ipython3",
   "version": "3.9.12"
  }
 },
 "nbformat": 4,
 "nbformat_minor": 5
}
