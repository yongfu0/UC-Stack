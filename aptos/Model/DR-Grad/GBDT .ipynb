{
 "cells": [
  {
   "cell_type": "code",
   "execution_count": 1,
   "id": "a07f449c",
   "metadata": {},
   "outputs": [],
   "source": [
    "import numpy as np\n",
    "import matplotlib.pyplot as plt\n",
    "import pandas as pd\n",
    "from sklearn.metrics import confusion_matrix,roc_curve,auc\n",
    "from sklearn.preprocessing import StandardScaler\n",
    "from sklearn.model_selection import train_test_split,KFold,cross_validate\n",
    "from sklearn.metrics import accuracy_score, recall_score, f1_score, precision_score,roc_auc_score\n",
    "from sklearn.model_selection import GridSearchCV\n",
    "from sklearn.ensemble import GradientBoostingClassifier\n",
    "import sklearn.metrics as sm"
   ]
  },
  {
   "cell_type": "code",
   "execution_count": 2,
   "id": "2a40c01a",
   "metadata": {},
   "outputs": [],
   "source": [
    "dataset = pd.read_csv('wrapper_63.csv')\n",
    "X= dataset.drop(['label'], axis=1)   # 取出用于建模的特征列X\n",
    "Y = dataset['label']   # 取出标签列Y\n",
    "\n",
    "X_train, X_test, Y_train, Y_test = train_test_split(X, Y, test_size=0.2, random_state=420)"
   ]
  },
  {
   "cell_type": "code",
   "execution_count": 3,
   "id": "ee1c4216",
   "metadata": {},
   "outputs": [],
   "source": [
    "sc = StandardScaler()\n",
    "X_train = sc.fit_transform(X_train)\n",
    "X_test = sc.transform(X_test)"
   ]
  },
  {
   "cell_type": "code",
   "execution_count": 4,
   "id": "daf84d93",
   "metadata": {},
   "outputs": [],
   "source": [
    "model_GB = GradientBoostingClassifier(random_state = 420)"
   ]
  },
  {
   "cell_type": "code",
   "execution_count": 5,
   "id": "9368ba6f",
   "metadata": {},
   "outputs": [],
   "source": [
    "param_grid = { 'n_estimators': np.arange(50, 130, 10), 'max_depth':  np.arange(4, 20,2 ), \n",
    "              'learning_rate': [0.3,0.1,0.08,0.05,0.03 ,0.01,0.001],'min_samples_leaf':[1,2,3,4,5] } "
   ]
  },
  {
   "cell_type": "code",
   "execution_count": 6,
   "id": "9539400e",
   "metadata": {},
   "outputs": [
    {
     "name": "stdout",
     "output_type": "stream",
     "text": [
      "Fitting 10 folds for each of 2240 candidates, totalling 22400 fits\n"
     ]
    },
    {
     "data": {
      "text/plain": [
       "{'learning_rate': 0.3,\n",
       " 'max_depth': 4,\n",
       " 'min_samples_leaf': 3,\n",
       " 'n_estimators': 70}"
      ]
     },
     "execution_count": 6,
     "metadata": {},
     "output_type": "execute_result"
    }
   ],
   "source": [
    "from sklearn.model_selection import GridSearchCV\n",
    "grid_search = GridSearchCV(model_GB, param_grid, n_jobs = -1, verbose = 1, cv=10)     \n",
    "grid_search.fit(X_train, Y_train)   \n",
    "classifier = grid_search.best_estimator_ \n",
    "grid_search.best_params_ "
   ]
  },
  {
   "cell_type": "code",
   "execution_count": 7,
   "id": "534d6736",
   "metadata": {
    "scrolled": true
   },
   "outputs": [
    {
     "data": {
      "text/plain": [
       "GradientBoostingClassifier(learning_rate=0.3, max_depth=4, min_samples_leaf=3,\n",
       "                           n_estimators=70, random_state=420)"
      ]
     },
     "execution_count": 7,
     "metadata": {},
     "output_type": "execute_result"
    }
   ],
   "source": [
    "classifier.fit(X_train, Y_train)"
   ]
  },
  {
   "cell_type": "code",
   "execution_count": null,
   "id": "d90a368e",
   "metadata": {},
   "outputs": [],
   "source": []
  },
  {
   "cell_type": "code",
   "execution_count": 8,
   "id": "b9afbc80",
   "metadata": {},
   "outputs": [],
   "source": [
    "y_pred = classifier.predict(X_test)"
   ]
  },
  {
   "cell_type": "code",
   "execution_count": 9,
   "id": "f69563ed",
   "metadata": {},
   "outputs": [
    {
     "name": "stdout",
     "output_type": "stream",
     "text": [
      "---------------分类报告\n",
      "               precision    recall  f1-score   support\n",
      "\n",
      "           0       0.83      0.91      0.87       100\n",
      "           1       0.83      0.76      0.79        33\n",
      "           2       0.75      0.79      0.77        53\n",
      "           3       0.89      0.74      0.81        54\n",
      "\n",
      "    accuracy                           0.82       240\n",
      "   macro avg       0.83      0.80      0.81       240\n",
      "weighted avg       0.83      0.82      0.82       240\n",
      "\n"
     ]
    }
   ],
   "source": [
    "cp = sm.classification_report(Y_test, y_pred)\n",
    "print(\"---------------分类报告\\n\", cp)"
   ]
  },
  {
   "cell_type": "code",
   "execution_count": 10,
   "id": "8c6ce69e",
   "metadata": {},
   "outputs": [
    {
     "name": "stdout",
     "output_type": "stream",
     "text": [
      "Accuracy score: 0.825\n",
      "Recall: 0.825\n",
      "F1-score: 0.8239675676541924\n",
      "Precision score: 0.8280676605504588\n"
     ]
    }
   ],
   "source": [
    "print('Accuracy score:', accuracy_score(Y_test, y_pred))\n",
    "print('Recall:', recall_score(Y_test, y_pred, average='weighted'))\n",
    "print('F1-score:', f1_score(Y_test, y_pred, average='weighted'))\n",
    "print('Precision score:', precision_score(Y_test, y_pred, average='weighted'))\n",
    "# y_test_proba_rfc =classifier.predict_proba(X_test)\n",
    "# false_positive_rate_rfc, recall_rfc, thresholds_rfc = roc_curve(Y_test, y_test_proba_rfc[:, 1])  \n",
    "# roc_auc_rfc = auc(false_positive_rate_rfc, recall_rfc)   \n",
    "# print(roc_auc_rfc )"
   ]
  },
  {
   "cell_type": "code",
   "execution_count": null,
   "id": "0f40e075",
   "metadata": {},
   "outputs": [],
   "source": []
  },
  {
   "cell_type": "code",
   "execution_count": 11,
   "id": "b2d7962f",
   "metadata": {},
   "outputs": [],
   "source": [
    "def bootstrap_auc(y, pred, classes, bootstraps = 100, fold_size = 1000):\n",
    "    statistics = np.zeros((len(classes), bootstraps))\n",
    "\n",
    "    for c in range(len(classes)):\n",
    "        df = pd.DataFrame(columns=['y', 'pred'])\n",
    "        # df.\n",
    "        df.loc[:, 'y'] = y\n",
    "        df.loc[:, 'pred'] = pred\n",
    "        df_pos = df[df.y == 1]\n",
    "        df_neg = df[df.y == 0]\n",
    "        prevalence = len(df_pos) / len(df)\n",
    "        for i in range(bootstraps):\n",
    "            pos_sample = df_pos.sample(n = int(fold_size * prevalence), replace=True)\n",
    "            neg_sample = df_neg.sample(n = int(fold_size * (1-prevalence)), replace=True)\n",
    "\n",
    "            y_sample = np.concatenate([pos_sample.y.values, neg_sample.y.values])\n",
    "            pred_sample = np.concatenate([pos_sample.pred.values, neg_sample.pred.values])\n",
    "            score = roc_auc_score(y_sample, pred_sample)\n",
    "            statistics[c][i] = score\n",
    "    return statistics"
   ]
  },
  {
   "cell_type": "code",
   "execution_count": 12,
   "id": "48bc7d54",
   "metadata": {},
   "outputs": [
    {
     "name": "stdout",
     "output_type": "stream",
     "text": [
      "均值: [0.83463679 0.83476852]\n",
      "最大值: [0.86133157 0.86469356]\n",
      "最小值: [0.80368166 0.80390212]\n"
     ]
    }
   ],
   "source": [
    "statistics = bootstrap_auc(Y_test, y_pred,[0,1])\n",
    "print(\"均值:\",np.mean(statistics,axis=1))\n",
    "print(\"最大值:\",np.max(statistics,axis=1))\n",
    "print(\"最小值:\",np.min(statistics,axis=1))"
   ]
  },
  {
   "cell_type": "code",
   "execution_count": 13,
   "id": "7299ea14",
   "metadata": {},
   "outputs": [],
   "source": [
    "import math\n",
    "from scipy.stats import norm\n",
    "def calculate_confidence_intervals(tp, fp, tn, fn, confidence=0.95): \n",
    "    alpha = 1 - confidence       \n",
    "# Calculate sensitivity and its confidence interval    \n",
    "    sensitivity = tp / (tp + fn)   \n",
    "    se_sensitivity = math.sqrt(sensitivity * (1 - sensitivity) / (tp + fn))  \n",
    "    z_score = norm.ppf(1 - alpha / 2)   \n",
    "    ci_sensitivity = (sensitivity - z_score * se_sensitivity, sensitivity + z_score * se_sensitivity)      \n",
    "# Calculate specificity and its confidence interval    \n",
    "    specificity = tn / (tn + fp)   \n",
    "    se_specificity = math.sqrt(specificity * (1 - specificity) / (tn + fp))  \n",
    "    ci_specificity = (specificity - z_score * se_specificity, specificity + z_score * se_specificity)    \n",
    "# Calculate PPV and its confidence interval   \n",
    "    ppv = tp / (tp + fp)  \n",
    "    se_ppv = math.sqrt(ppv * (1 - ppv) / (tp + fp))   \n",
    "    ci_ppv = (ppv - z_score * se_ppv, ppv + z_score * se_ppv)        \n",
    "# Calculate NPV and its confidence interval   \n",
    "\n",
    "    npv = tn / (tn + fn)    \n",
    "    se_npv = math.sqrt(npv * (1 - npv) / (tn + fn))    \n",
    "    ci_npv = (npv - z_score * se_npv, npv + z_score * se_npv)       \n",
    "    return ci_sensitivity, ci_specificity, ci_ppv, ci_npv"
   ]
  },
  {
   "cell_type": "code",
   "execution_count": 14,
   "id": "d16dc145",
   "metadata": {},
   "outputs": [
    {
     "name": "stdout",
     "output_type": "stream",
     "text": [
      "Sensitivity: 0.81 (95% CI: 0.62, 1.00)\n",
      "Specificity: 0.86 (95% CI: 0.71, 1.01)\n",
      "PPV: 0.81 (95% CI: 0.62, 1.00)\n",
      "NPV: 0.86 (95% CI: 0.71, 1.01)\n"
     ]
    }
   ],
   "source": [
    "tn, fp, fn, tp = confusion_matrix(Y_test, y_pred).ravel()\n",
    "ci_sensitivity, ci_specificity, ci_ppv, ci_npv = calculate_confidence_intervals(tp, fp, tn, fn)\n",
    "print(\"Sensitivity: {:.2f} (95% CI: {:.2f}, {:.2f})\".format(tp / (tp + fn), ci_sensitivity[0], ci_sensitivity[1]))\n",
    "print(\"Specificity: {:.2f} (95% CI: {:.2f}, {:.2f})\".format(tn / (tn + fp), ci_specificity[0], ci_specificity[1]))\n",
    "print(\"PPV: {:.2f} (95% CI: {:.2f}, {:.2f})\".format(tp / (tp + fp), ci_ppv[0], ci_ppv[1]))\n",
    "print(\"NPV: {:.2f} (95% CI: {:.2f}, {:.2f})\".format(tn / (tn + fn), ci_npv[0], ci_npv[1]))"
   ]
  },
  {
   "cell_type": "code",
   "execution_count": null,
   "id": "74afc20b",
   "metadata": {},
   "outputs": [],
   "source": []
  },
  {
   "cell_type": "code",
   "execution_count": null,
   "id": "8ee33a34",
   "metadata": {},
   "outputs": [],
   "source": []
  }
 ],
 "metadata": {
  "kernelspec": {
   "display_name": "base",
   "language": "python",
   "name": "base"
  },
  "language_info": {
   "codemirror_mode": {
    "name": "ipython",
    "version": 3
   },
   "file_extension": ".py",
   "mimetype": "text/x-python",
   "name": "python",
   "nbconvert_exporter": "python",
   "pygments_lexer": "ipython3",
   "version": "3.7.16"
  }
 },
 "nbformat": 4,
 "nbformat_minor": 5
}
