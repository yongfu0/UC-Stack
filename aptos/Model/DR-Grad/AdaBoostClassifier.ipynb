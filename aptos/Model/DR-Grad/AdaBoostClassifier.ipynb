{
 "cells": [
  {
   "cell_type": "code",
   "execution_count": 1,
   "id": "d38953fa",
   "metadata": {},
   "outputs": [],
   "source": [
    "import numpy as np\n",
    "import matplotlib.pyplot as plt\n",
    "import pandas as pd\n",
    "from sklearn.metrics import confusion_matrix\n",
    "from sklearn.ensemble import AdaBoostClassifier\n",
    "from sklearn.preprocessing import StandardScaler\n",
    "from sklearn.model_selection import train_test_split\n",
    "\n",
    "import sklearn.metrics as sm"
   ]
  },
  {
   "cell_type": "code",
   "execution_count": 2,
   "id": "12d7a412",
   "metadata": {},
   "outputs": [],
   "source": [
    "dataset = pd.read_csv('wrapper_63.csv')\n",
    "X= dataset.drop(['label'], axis=1)   # 取出用于建模的特征列X\n",
    "Y = dataset['label']   # 取出标签列Y\n",
    "\n",
    "X_train, X_test, Y_train, Y_test = train_test_split(X, Y, test_size=0.3, random_state=420)"
   ]
  },
  {
   "cell_type": "code",
   "execution_count": 3,
   "id": "47ff5618",
   "metadata": {},
   "outputs": [],
   "source": [
    "sc = StandardScaler()\n",
    "X_train = sc.fit_transform(X_train)\n",
    "X_test = sc.transform(X_test)"
   ]
  },
  {
   "cell_type": "code",
   "execution_count": 17,
   "id": "91430726",
   "metadata": {
    "scrolled": true
   },
   "outputs": [],
   "source": [
    "classifier = AdaBoostClassifier(random_state = 420)"
   ]
  },
  {
   "cell_type": "code",
   "execution_count": 18,
   "id": "05894e3b",
   "metadata": {},
   "outputs": [],
   "source": [
    "param_grid=[{\n",
    "            'algorithm':['SAMME','SAMME.R'],\n",
    "            'n_estimators':[i for i in range(10,100,10)],\n",
    "            'learning_rate':[0.1,0.2,0.4,0.6,0.8,1.0],\n",
    "            },\n",
    "           ]"
   ]
  },
  {
   "cell_type": "code",
   "execution_count": 19,
   "id": "ab518052",
   "metadata": {},
   "outputs": [
    {
     "name": "stdout",
     "output_type": "stream",
     "text": [
      "Fitting 10 folds for each of 108 candidates, totalling 1080 fits\n"
     ]
    },
    {
     "data": {
      "text/plain": [
       "{'algorithm': 'SAMME.R', 'learning_rate': 0.2, 'n_estimators': 20}"
      ]
     },
     "execution_count": 19,
     "metadata": {},
     "output_type": "execute_result"
    }
   ],
   "source": [
    "from sklearn.model_selection import GridSearchCV\n",
    "grid_search = GridSearchCV(classifier, param_grid, n_jobs = -1, verbose = 1, cv=10)     \n",
    "grid_search.fit(X_train, Y_train)   \n",
    "classifier = grid_search.best_estimator_ \n",
    "grid_search.best_params_ "
   ]
  },
  {
   "cell_type": "code",
   "execution_count": 20,
   "id": "69d8b4e3",
   "metadata": {},
   "outputs": [
    {
     "data": {
      "text/plain": [
       "AdaBoostClassifier(learning_rate=0.2, n_estimators=20, random_state=420)"
      ]
     },
     "execution_count": 20,
     "metadata": {},
     "output_type": "execute_result"
    }
   ],
   "source": [
    "classifier.fit(X_train, Y_train)"
   ]
  },
  {
   "cell_type": "code",
   "execution_count": 21,
   "id": "e17217c4",
   "metadata": {},
   "outputs": [
    {
     "name": "stdout",
     "output_type": "stream",
     "text": [
      "---------------分类报告\n",
      "               precision    recall  f1-score   support\n",
      "\n",
      "           0       0.81      0.94      0.87       149\n",
      "           1       0.83      0.78      0.81        51\n",
      "           2       0.84      0.79      0.81        84\n",
      "           3       0.84      0.67      0.74        76\n",
      "\n",
      "    accuracy                           0.82       360\n",
      "   macro avg       0.83      0.80      0.81       360\n",
      "weighted avg       0.83      0.82      0.82       360\n",
      "\n"
     ]
    }
   ],
   "source": [
    "y_pred = classifier.predict(X_test)\n",
    "cp = sm.classification_report(Y_test, y_pred)\n",
    "print(\"---------------分类报告\\n\", cp)"
   ]
  },
  {
   "cell_type": "code",
   "execution_count": 9,
   "id": "4234fa1c",
   "metadata": {
    "scrolled": true
   },
   "outputs": [
    {
     "name": "stdout",
     "output_type": "stream",
     "text": [
      "Accuracy score: 0.825\n",
      "Recall: 0.825\n",
      "F1-score: 0.8216373612424616\n",
      "Precision score: 0.8263813015663131\n"
     ]
    }
   ],
   "source": [
    "\n",
    "from sklearn.metrics import accuracy_score, recall_score, f1_score, precision_score,roc_curve, auc \n",
    "\n",
    "\n",
    "print('Accuracy score:', accuracy_score(Y_test, y_pred))\n",
    "print('Recall:', recall_score(Y_test, y_pred, average='weighted'))\n",
    "print('F1-score:', f1_score(Y_test, y_pred, average='weighted'))\n",
    "print('Precision score:', precision_score(Y_test, y_pred, average='weighted'))\n",
    "\n",
    "# y_test_proba_rfc = classifier.predict_proba(X_test)\n",
    "# false_positive_rate_rfc, recall_rfc, thresholds_rfc = roc_curve(Y_test, y_test_proba_rfc[:, 1])  \n",
    "# roc_auc_rfc = auc(false_positive_rate_rfc, recall_rfc)   \n",
    "# print(\"---------------AUC\\n\", cp)\n",
    "# print(roc_auc_rfc )"
   ]
  },
  {
   "cell_type": "code",
   "execution_count": null,
   "id": "a865d069",
   "metadata": {},
   "outputs": [],
   "source": []
  },
  {
   "cell_type": "code",
   "execution_count": 10,
   "id": "55dfceed",
   "metadata": {},
   "outputs": [],
   "source": [
    "from sklearn.tree import DecisionTreeClassifier\n",
    "classifier1 = AdaBoostClassifier(DecisionTreeClassifier(max_depth=2, min_samples_leaf=7, random_state=420),random_state = 420)"
   ]
  },
  {
   "cell_type": "code",
   "execution_count": 11,
   "id": "039a17ee",
   "metadata": {},
   "outputs": [],
   "source": [
    "param_grid=[{\n",
    "            'algorithm':['SAMME','SAMME.R'],\n",
    "            'n_estimators':[i for i in range(10,60,5)],\n",
    "            'learning_rate':[0.1,0.2,0.4,0.6,0.8,1.0],\n",
    "            },\n",
    "           ]"
   ]
  },
  {
   "cell_type": "code",
   "execution_count": 12,
   "id": "4efcfa18",
   "metadata": {},
   "outputs": [
    {
     "name": "stdout",
     "output_type": "stream",
     "text": [
      "Fitting 10 folds for each of 120 candidates, totalling 1200 fits\n"
     ]
    },
    {
     "data": {
      "text/plain": [
       "{'algorithm': 'SAMME', 'learning_rate': 0.6, 'n_estimators': 50}"
      ]
     },
     "execution_count": 12,
     "metadata": {},
     "output_type": "execute_result"
    }
   ],
   "source": [
    "from sklearn.model_selection import GridSearchCV\n",
    "grid_search1 = GridSearchCV(classifier1, param_grid, n_jobs = -1, verbose = 1, cv=10)     \n",
    "grid_search1.fit(X_train, Y_train)   \n",
    "classifier1 = grid_search.best_estimator_ \n",
    "grid_search1.best_params_ "
   ]
  },
  {
   "cell_type": "code",
   "execution_count": 13,
   "id": "063ae62d",
   "metadata": {},
   "outputs": [
    {
     "data": {
      "text/plain": [
       "AdaBoostClassifier(learning_rate=0.2, n_estimators=20, random_state=420)"
      ]
     },
     "execution_count": 13,
     "metadata": {},
     "output_type": "execute_result"
    }
   ],
   "source": [
    "classifier1.fit(X_train, Y_train)"
   ]
  },
  {
   "cell_type": "code",
   "execution_count": 14,
   "id": "26a9f7e2",
   "metadata": {},
   "outputs": [
    {
     "name": "stdout",
     "output_type": "stream",
     "text": [
      "Accuracy score: 0.825\n",
      "Recall: 0.825\n",
      "F1-score: 0.8216373612424616\n",
      "Precision score: 0.8263813015663131\n"
     ]
    }
   ],
   "source": [
    "\n",
    "y_pred1 = classifier1.predict(X_test)\n",
    "from sklearn.metrics import accuracy_score, recall_score, f1_score, precision_score,roc_curve, auc \n",
    "\n",
    "print('Accuracy score:', accuracy_score(Y_test, y_pred1))\n",
    "print('Recall:', recall_score(Y_test, y_pred1, average='weighted'))\n",
    "print('F1-score:', f1_score(Y_test, y_pred1, average='weighted'))\n",
    "print('Precision score:', precision_score(Y_test, y_pred1, average='weighted'))\n",
    "\n",
    "# y_test_proba_rfc1= classifier1.predict_proba(X_test)\n",
    "# false_positive_rate_rfc1, recall_rfc1, thresholds_rfc1 = roc_curve(Y_test, y_test_proba_rfc1[:, 1])  \n",
    "# roc_auc_rfc1 = auc(false_positive_rate_rfc1, recall_rfc1)   \n",
    "# print(\"---------------AUC\\n\", cp)\n",
    "# print(roc_auc_rfc1 )"
   ]
  },
  {
   "cell_type": "code",
   "execution_count": null,
   "id": "98233345",
   "metadata": {},
   "outputs": [],
   "source": []
  },
  {
   "cell_type": "code",
   "execution_count": null,
   "id": "72052b7b",
   "metadata": {},
   "outputs": [],
   "source": []
  },
  {
   "cell_type": "code",
   "execution_count": null,
   "id": "428745d6",
   "metadata": {},
   "outputs": [],
   "source": []
  },
  {
   "cell_type": "code",
   "execution_count": 15,
   "id": "fca2afec",
   "metadata": {},
   "outputs": [
    {
     "name": "stdout",
     "output_type": "stream",
     "text": [
      "Accuracy score: 0.68\n",
      "Recall: 0.68\n",
      "F1-score: 0.5612698412698413\n",
      "Precision score: 0.47783783783783784\n",
      "---------------AUC\n",
      "               precision    recall  f1-score   support\n",
      "\n",
      "           0       0.69      0.98      0.81        52\n",
      "           1       0.00      0.00      0.00        23\n",
      "\n",
      "    accuracy                           0.68        75\n",
      "   macro avg       0.34      0.49      0.40        75\n",
      "weighted avg       0.48      0.68      0.56        75\n",
      "\n",
      "0.4439799331103679\n",
      "..................................\n",
      "Train Accuracy score: [0.7        0.71666667 0.71666667 0.71666667 0.68333333]\n",
      "Test Accuracy score: [0.66666667 0.66666667 0.66666667 0.73333333 0.66666667]\n"
     ]
    }
   ],
   "source": [
    "from sklearn.metrics import accuracy_score, recall_score, f1_score, precision_score,roc_curve, auc \n",
    "from sklearn.model_selection import cross_val_score\n",
    "print('Accuracy score:', accuracy_score(Y_test, y_pred))\n",
    "print('Recall:', recall_score(Y_test, y_pred, average='weighted'))\n",
    "print('F1-score:', f1_score(Y_test, y_pred, average='weighted'))\n",
    "print('Precision score:', precision_score(Y_test, y_pred, average='weighted'))\n",
    "\n",
    "y_test_proba_rfc = classifier.predict_proba(X_test)\n",
    "false_positive_rate_rfc, recall_rfc, thresholds_rfc = roc_curve(Y_test, y_test_proba_rfc[:, 1])  \n",
    "roc_auc_rfc = auc(false_positive_rate_rfc, recall_rfc)   \n",
    "print(\"---------------AUC\\n\", cp)\n",
    "print(roc_auc_rfc )\n",
    "\n",
    "print(\"..................................\")\n",
    "scores1 = cross_val_score(classifier, X_train, Y_train, cv = 5, scoring = 'accuracy')\n",
    "scores2 = cross_val_score(classifier, X_test, Y_test, cv = 5, scoring = 'accuracy')\n",
    "# 输出5次交叉验证的准确率\n",
    "print('Train Accuracy score:',scores1)\n",
    "print('Test Accuracy score:',scores2)"
   ]
  },
  {
   "cell_type": "code",
   "execution_count": 16,
   "id": "5f900ac3",
   "metadata": {},
   "outputs": [
    {
     "data": {
      "image/png": "[encoded data removed]",
      "text/plain": [
       "<Figure size 432x288 with 1 Axes>"
      ]
     },
     "metadata": {
      "needs_background": "light"
     },
     "output_type": "display_data"
    }
   ],
   "source": [
    "# 画图 画出模型的ROC曲线\n",
    "plt.plot(false_positive_rate_rfc, recall_rfc, color='orange', label='AUC_rfc=%0.3f' % roc_auc_rfc)  \n",
    "plt.legend(loc='best', fontsize=15, frameon=False)  \n",
    "plt.plot([0, 1], [0, 1], 'r--')  \n",
    "plt.xlim([0.0, 1.0])  \n",
    "plt.ylim([0.0, 1.0])  \n",
    "plt.ylabel('Recall')  \n",
    "plt.xlabel('Fall-out')  \n",
    "plt.show()"
   ]
  },
  {
   "cell_type": "code",
   "execution_count": 15,
   "id": "c12f42a2",
   "metadata": {},
   "outputs": [
    {
     "name": "stdout",
     "output_type": "stream",
     "text": [
      "2\n",
      "3\n",
      "4\n",
      "5\n",
      "6\n",
      "7\n",
      "8\n",
      "9\n",
      "10\n",
      "11\n",
      "12\n",
      "13\n",
      "14\n",
      "15\n",
      "16\n",
      "17\n",
      "18\n",
      "19\n",
      "20\n",
      "21\n",
      "22\n",
      "23\n",
      "24\n",
      "25\n",
      "26\n",
      "27\n",
      "28\n",
      "29\n",
      "30\n",
      "31\n",
      "32\n",
      "33\n",
      "34\n",
      "35\n",
      "36\n",
      "37\n",
      "38\n",
      "39\n",
      "40\n",
      "41\n",
      "42\n",
      "43\n",
      "44\n",
      "45\n",
      "46\n",
      "47\n",
      "48\n",
      "49\n",
      "50\n",
      "51\n",
      "[[1.00000000e+00 2.00000000e+00 3.00000000e+00 4.00000000e+00\n",
      "  5.00000000e+00 6.00000000e+00 7.00000000e+00 8.00000000e+00\n",
      "  9.00000000e+00 1.00000000e+01 1.10000000e+01 1.20000000e+01\n",
      "  1.30000000e+01 1.40000000e+01 1.50000000e+01 1.60000000e+01\n",
      "  1.70000000e+01 1.80000000e+01 1.90000000e+01 2.00000000e+01\n",
      "  2.10000000e+01 2.20000000e+01 2.30000000e+01 2.40000000e+01\n",
      "  2.50000000e+01 2.60000000e+01 2.70000000e+01 2.80000000e+01\n",
      "  2.90000000e+01 3.00000000e+01 3.10000000e+01 3.20000000e+01\n",
      "  3.30000000e+01 3.40000000e+01 3.50000000e+01 3.60000000e+01\n",
      "  3.70000000e+01 3.80000000e+01 3.90000000e+01 4.00000000e+01\n",
      "  4.10000000e+01 4.20000000e+01 4.30000000e+01 4.40000000e+01\n",
      "  4.50000000e+01 4.60000000e+01 4.70000000e+01 4.80000000e+01\n",
      "  4.90000000e+01 5.00000000e+01]\n",
      " [0.00000000e+00 0.00000000e+00 0.00000000e+00 0.00000000e+00\n",
      "  0.00000000e+00 0.00000000e+00 0.00000000e+00 0.00000000e+00\n",
      "  0.00000000e+00 0.00000000e+00 0.00000000e+00 4.34782609e-02\n",
      "  0.00000000e+00 0.00000000e+00 0.00000000e+00 0.00000000e+00\n",
      "  0.00000000e+00 4.34782609e-02 0.00000000e+00 0.00000000e+00\n",
      "  0.00000000e+00 0.00000000e+00 0.00000000e+00 0.00000000e+00\n",
      "  0.00000000e+00 8.69565217e-02 0.00000000e+00 0.00000000e+00\n",
      "  0.00000000e+00 0.00000000e+00 0.00000000e+00 0.00000000e+00\n",
      "  0.00000000e+00 0.00000000e+00 0.00000000e+00 0.00000000e+00\n",
      "  0.00000000e+00 0.00000000e+00 0.00000000e+00 2.60869565e-01\n",
      "  0.00000000e+00 0.00000000e+00 0.00000000e+00 0.00000000e+00\n",
      "  0.00000000e+00 0.00000000e+00 0.00000000e+00 4.34782609e-02\n",
      "  0.00000000e+00 0.00000000e+00]\n",
      " [1.00000000e+00 1.00000000e+00 1.00000000e+00 1.00000000e+00\n",
      "  1.00000000e+00 9.23076923e-01 1.00000000e+00 1.00000000e+00\n",
      "  9.80769231e-01 1.00000000e+00 1.00000000e+00 9.80769231e-01\n",
      "  1.00000000e+00 1.00000000e+00 1.00000000e+00 1.00000000e+00\n",
      "  1.00000000e+00 9.80769231e-01 9.80769231e-01 1.00000000e+00\n",
      "  1.00000000e+00 1.00000000e+00 1.00000000e+00 1.00000000e+00\n",
      "  1.00000000e+00 9.23076923e-01 1.00000000e+00 1.00000000e+00\n",
      "  1.00000000e+00 1.00000000e+00 9.61538462e-01 1.00000000e+00\n",
      "  1.00000000e+00 1.00000000e+00 9.61538462e-01 1.00000000e+00\n",
      "  1.00000000e+00 1.00000000e+00 1.00000000e+00 7.88461538e-01\n",
      "  1.00000000e+00 1.00000000e+00 1.00000000e+00 1.00000000e+00\n",
      "  9.80769231e-01 9.80769231e-01 1.00000000e+00 1.00000000e+00\n",
      "  1.00000000e+00 1.00000000e+00]\n",
      " [6.93333333e-01 6.93333333e-01 6.93333333e-01 6.93333333e-01\n",
      "  6.93333333e-01 6.40000000e-01 6.93333333e-01 6.93333333e-01\n",
      "  6.80000000e-01 6.93333333e-01 6.93333333e-01 6.93333333e-01\n",
      "  6.93333333e-01 6.93333333e-01 6.93333333e-01 6.93333333e-01\n",
      "  6.93333333e-01 6.93333333e-01 6.80000000e-01 6.93333333e-01\n",
      "  6.93333333e-01 6.93333333e-01 6.93333333e-01 6.93333333e-01\n",
      "  6.93333333e-01 6.66666667e-01 6.93333333e-01 6.93333333e-01\n",
      "  6.93333333e-01 6.93333333e-01 6.66666667e-01 6.93333333e-01\n",
      "  6.93333333e-01 6.93333333e-01 6.66666667e-01 6.93333333e-01\n",
      "  6.93333333e-01 6.93333333e-01 6.93333333e-01 6.26666667e-01\n",
      "  6.93333333e-01 6.93333333e-01 6.93333333e-01 6.93333333e-01\n",
      "  6.80000000e-01 6.80000000e-01 6.93333333e-01 7.06666667e-01\n",
      "  6.93333333e-01 6.93333333e-01]\n",
      " [6.93333333e-01 6.93333333e-01 6.93333333e-01 6.93333333e-01\n",
      "  6.93333333e-01 6.76056338e-01 6.93333333e-01 6.93333333e-01\n",
      "  6.89189189e-01 6.93333333e-01 6.93333333e-01 6.98630137e-01\n",
      "  6.93333333e-01 6.93333333e-01 6.93333333e-01 6.93333333e-01\n",
      "  6.93333333e-01 6.98630137e-01 6.89189189e-01 6.93333333e-01\n",
      "  6.93333333e-01 6.93333333e-01 6.93333333e-01 6.93333333e-01\n",
      "  6.93333333e-01 6.95652174e-01 6.93333333e-01 6.93333333e-01\n",
      "  6.93333333e-01 6.93333333e-01 6.84931507e-01 6.93333333e-01\n",
      "  6.93333333e-01 6.93333333e-01 6.84931507e-01 6.93333333e-01\n",
      "  6.93333333e-01 6.93333333e-01 6.93333333e-01 7.06896552e-01\n",
      "  6.93333333e-01 6.93333333e-01 6.93333333e-01 6.93333333e-01\n",
      "  6.89189189e-01 6.89189189e-01 6.93333333e-01 7.02702703e-01\n",
      "  6.93333333e-01 6.93333333e-01]\n",
      " [8.18897638e-01 8.18897638e-01 8.18897638e-01 8.18897638e-01\n",
      "  8.18897638e-01 7.80487805e-01 8.18897638e-01 8.18897638e-01\n",
      "  8.09523810e-01 8.18897638e-01 8.18897638e-01 8.16000000e-01\n",
      "  8.18897638e-01 8.18897638e-01 8.18897638e-01 8.18897638e-01\n",
      "  8.18897638e-01 8.16000000e-01 8.09523810e-01 8.18897638e-01\n",
      "  8.18897638e-01 8.18897638e-01 8.18897638e-01 8.18897638e-01\n",
      "  8.18897638e-01 7.93388430e-01 8.18897638e-01 8.18897638e-01\n",
      "  8.18897638e-01 8.18897638e-01 8.00000000e-01 8.18897638e-01\n",
      "  8.18897638e-01 8.18897638e-01 8.00000000e-01 8.18897638e-01\n",
      "  8.18897638e-01 8.18897638e-01 8.18897638e-01 7.45454545e-01\n",
      "  8.18897638e-01 8.18897638e-01 8.18897638e-01 8.18897638e-01\n",
      "  8.09523810e-01 8.09523810e-01 8.18897638e-01 8.25396825e-01\n",
      "  8.18897638e-01 8.18897638e-01]\n",
      " [5.00000000e-01 5.00000000e-01 5.00000000e-01 5.00000000e-01\n",
      "  5.00000000e-01 4.61538462e-01 5.00000000e-01 5.00000000e-01\n",
      "  4.90384615e-01 5.00000000e-01 5.00000000e-01 5.12123746e-01\n",
      "  5.00000000e-01 5.00000000e-01 5.00000000e-01 5.00000000e-01\n",
      "  5.00000000e-01 5.12123746e-01 4.90384615e-01 5.00000000e-01\n",
      "  5.00000000e-01 5.00000000e-01 5.00000000e-01 5.00000000e-01\n",
      "  5.00000000e-01 5.05016722e-01 5.00000000e-01 5.00000000e-01\n",
      "  5.00000000e-01 5.00000000e-01 4.80769231e-01 5.00000000e-01\n",
      "  5.00000000e-01 5.00000000e-01 4.80769231e-01 5.00000000e-01\n",
      "  5.00000000e-01 5.00000000e-01 5.00000000e-01 5.24665552e-01\n",
      "  5.00000000e-01 5.00000000e-01 5.00000000e-01 5.00000000e-01\n",
      "  4.90384615e-01 4.90384615e-01 5.00000000e-01 5.21739130e-01\n",
      "  5.00000000e-01 5.00000000e-01]\n",
      " [0.00000000e+00 0.00000000e+00 0.00000000e+00 0.00000000e+00\n",
      "  0.00000000e+00 3.48837209e-02 1.16279070e-02 6.97674419e-02\n",
      "  6.97674419e-02 0.00000000e+00 0.00000000e+00 1.16279070e-01\n",
      "  0.00000000e+00 0.00000000e+00 0.00000000e+00 0.00000000e+00\n",
      "  0.00000000e+00 2.32558140e-02 1.16279070e-01 0.00000000e+00\n",
      "  0.00000000e+00 0.00000000e+00 0.00000000e+00 0.00000000e+00\n",
      "  0.00000000e+00 8.13953488e-02 0.00000000e+00 0.00000000e+00\n",
      "  0.00000000e+00 0.00000000e+00 9.30232558e-02 0.00000000e+00\n",
      "  0.00000000e+00 0.00000000e+00 1.16279070e-02 0.00000000e+00\n",
      "  0.00000000e+00 0.00000000e+00 0.00000000e+00 2.20930233e-01\n",
      "  0.00000000e+00 0.00000000e+00 0.00000000e+00 0.00000000e+00\n",
      "  0.00000000e+00 2.32558140e-02 0.00000000e+00 3.48837209e-02\n",
      "  0.00000000e+00 3.48837209e-02]\n",
      " [1.00000000e+00 1.00000000e+00 1.00000000e+00 1.00000000e+00\n",
      "  1.00000000e+00 9.85981308e-01 1.00000000e+00 9.85981308e-01\n",
      "  9.81308411e-01 1.00000000e+00 1.00000000e+00 9.90654206e-01\n",
      "  1.00000000e+00 1.00000000e+00 1.00000000e+00 1.00000000e+00\n",
      "  1.00000000e+00 9.95327103e-01 9.76635514e-01 1.00000000e+00\n",
      "  1.00000000e+00 1.00000000e+00 1.00000000e+00 1.00000000e+00\n",
      "  1.00000000e+00 9.81308411e-01 1.00000000e+00 1.00000000e+00\n",
      "  1.00000000e+00 1.00000000e+00 9.76635514e-01 1.00000000e+00\n",
      "  1.00000000e+00 1.00000000e+00 9.85981308e-01 1.00000000e+00\n",
      "  1.00000000e+00 1.00000000e+00 1.00000000e+00 9.34579439e-01\n",
      "  1.00000000e+00 1.00000000e+00 1.00000000e+00 1.00000000e+00\n",
      "  1.00000000e+00 1.00000000e+00 1.00000000e+00 1.00000000e+00\n",
      "  1.00000000e+00 1.00000000e+00]\n",
      " [7.13333333e-01 7.13333333e-01 7.13333333e-01 7.13333333e-01\n",
      "  7.13333333e-01 7.13333333e-01 7.16666667e-01 7.23333333e-01\n",
      "  7.20000000e-01 7.13333333e-01 7.13333333e-01 7.40000000e-01\n",
      "  7.13333333e-01 7.13333333e-01 7.13333333e-01 7.13333333e-01\n",
      "  7.13333333e-01 7.16666667e-01 7.30000000e-01 7.13333333e-01\n",
      "  7.13333333e-01 7.13333333e-01 7.13333333e-01 7.13333333e-01\n",
      "  7.13333333e-01 7.23333333e-01 7.13333333e-01 7.13333333e-01\n",
      "  7.13333333e-01 7.13333333e-01 7.23333333e-01 7.13333333e-01\n",
      "  7.13333333e-01 7.13333333e-01 7.06666667e-01 7.13333333e-01\n",
      "  7.13333333e-01 7.13333333e-01 7.13333333e-01 7.30000000e-01\n",
      "  7.13333333e-01 7.13333333e-01 7.13333333e-01 7.13333333e-01\n",
      "  7.13333333e-01 7.20000000e-01 7.13333333e-01 7.23333333e-01\n",
      "  7.13333333e-01 7.23333333e-01]\n",
      " [7.13333333e-01 7.13333333e-01 7.13333333e-01 7.13333333e-01\n",
      "  7.13333333e-01 7.17687075e-01 7.15719064e-01 7.25085911e-01\n",
      "  7.24137931e-01 7.13333333e-01 7.13333333e-01 7.36111111e-01\n",
      "  7.13333333e-01 7.13333333e-01 7.13333333e-01 7.13333333e-01\n",
      "  7.13333333e-01 7.17171717e-01 7.33333333e-01 7.13333333e-01\n",
      "  7.13333333e-01 7.13333333e-01 7.13333333e-01 7.13333333e-01\n",
      "  7.13333333e-01 7.26643599e-01 7.13333333e-01 7.13333333e-01\n",
      "  7.13333333e-01 7.13333333e-01 7.28222997e-01 7.13333333e-01\n",
      "  7.13333333e-01 7.13333333e-01 7.12837838e-01 7.13333333e-01\n",
      "  7.13333333e-01 7.13333333e-01 7.13333333e-01 7.49063670e-01\n",
      "  7.13333333e-01 7.13333333e-01 7.13333333e-01 7.13333333e-01\n",
      "  7.13333333e-01 7.18120805e-01 7.13333333e-01 7.20538721e-01\n",
      "  7.13333333e-01 7.20538721e-01]\n",
      " [8.32684825e-01 8.32684825e-01 8.32684825e-01 8.32684825e-01\n",
      "  8.32684825e-01 8.30708661e-01 8.34307992e-01 8.35643564e-01\n",
      "  8.33333333e-01 8.32684825e-01 8.32684825e-01 8.44621514e-01\n",
      "  8.32684825e-01 8.32684825e-01 8.32684825e-01 8.32684825e-01\n",
      "  8.32684825e-01 8.33659491e-01 8.37675351e-01 8.32684825e-01\n",
      "  8.32684825e-01 8.32684825e-01 8.32684825e-01 8.32684825e-01\n",
      "  8.32684825e-01 8.34990060e-01 8.32684825e-01 8.32684825e-01\n",
      "  8.32684825e-01 8.32684825e-01 8.34331337e-01 8.32684825e-01\n",
      "  8.32684825e-01 8.32684825e-01 8.27450980e-01 8.32684825e-01\n",
      "  8.32684825e-01 8.32684825e-01 8.32684825e-01 8.31600832e-01\n",
      "  8.32684825e-01 8.32684825e-01 8.32684825e-01 8.32684825e-01\n",
      "  8.32684825e-01 8.35937500e-01 8.32684825e-01 8.37573386e-01\n",
      "  8.32684825e-01 8.37573386e-01]\n",
      " [5.00000000e-01 5.00000000e-01 5.00000000e-01 5.00000000e-01\n",
      "  5.00000000e-01 5.10432515e-01 5.05813953e-01 5.27874375e-01\n",
      "  5.25537927e-01 5.00000000e-01 5.00000000e-01 5.53466638e-01\n",
      "  5.00000000e-01 5.00000000e-01 5.00000000e-01 5.00000000e-01\n",
      "  5.00000000e-01 5.09291458e-01 5.46457292e-01 5.00000000e-01\n",
      "  5.00000000e-01 5.00000000e-01 5.00000000e-01 5.00000000e-01\n",
      "  5.00000000e-01 5.31351880e-01 5.00000000e-01 5.00000000e-01\n",
      "  5.00000000e-01 5.00000000e-01 5.34829385e-01 5.00000000e-01\n",
      "  5.00000000e-01 5.00000000e-01 4.98804608e-01 5.00000000e-01\n",
      "  5.00000000e-01 5.00000000e-01 5.00000000e-01 5.77754836e-01\n",
      "  5.00000000e-01 5.00000000e-01 5.00000000e-01 5.00000000e-01\n",
      "  5.00000000e-01 5.11627907e-01 5.00000000e-01 5.17441860e-01\n",
      "  5.00000000e-01 5.17441860e-01]]\n"
     ]
    }
   ],
   "source": [
    "empty = np.array([[0],[0],[0],[0],[0],[0],[0],[0],[0],[0],[0],[0],[0]])\n",
    "n=1\n",
    "while n < 51:\n",
    "    \n",
    "    X_train, X_test, y_train, y_test = train_test_split(X, Y, test_size = 0.2, random_state = n)\n",
    "    sc = StandardScaler()\n",
    "    X_train = sc.fit_transform(X_train)\n",
    "    X_test = sc.transform(X_test)\n",
    "    \n",
    "    classifier = AdaBoostClassifier(algorithm='SAMME', learning_rate=0.6, n_estimators=10,\n",
    "                   random_state=420)\n",
    "    classifier.fit(X_train, Y_train)\n",
    "    \n",
    "    y_pred = classifier.predict(X_test)   \n",
    "    y_updatapred = classifier.predict(X_train)\n",
    "    from sklearn.metrics import confusion_matrix, roc_auc_score\n",
    "    cm = confusion_matrix(Y_test, y_pred)   \n",
    "    cm_updata = confusion_matrix(Y_train, y_updatapred)\n",
    "    auc = roc_auc_score(Y_test, y_pred)\n",
    "    auc_updata = roc_auc_score(Y_train, y_updatapred)\n",
    "    a = cm[0,0]\n",
    "    b = cm[0,1]\n",
    "    c = cm[1,0]\n",
    "    d = cm[1,1]\n",
    "    sen = d/(d+c)\n",
    "    sep = a/(a+b)\n",
    "    acc = (a+d)/(a+b+c+d)\n",
    "    pre = a/(a+c)\n",
    "    F1 = (2*a)/(2*a+c+b)\n",
    "    \n",
    "    a_updata = cm_updata[0,0]\n",
    "    b_updata = cm_updata[0,1]\n",
    "    c_updata = cm_updata[1,0]\n",
    "    d_updata = cm_updata[1,1]\n",
    "    \n",
    "    sen_updata = d_updata/(d_updata + c_updata)\n",
    "    sep_updata = a_updata/(a_updata + b_updata)\n",
    "    acc_updata = (a_updata+d_updata)/(a_updata+b_updata+c_updata+d_updata)\n",
    "    pre_updata = a_updata/(a_updata + c_updata)\n",
    "    F1_updata = (2*a_updata)/(2*a_updata+c_updata+b_updata)\n",
    "    \n",
    "    first = np.array([[n],[sen],[sep],[acc],[pre],[F1],[auc],[sen_updata],[sep_updata],[acc_updata],[pre_updata],[F1_updata],[auc_updata]])\n",
    "    second = np.hstack((empty,first))\n",
    "    empty = second\n",
    "    n = n + 1\n",
    "    print(n)\n",
    "final_par = np.delete(second,0,axis=1)\n",
    "print (final_par)\n",
    "final_parT = final_par.T\n",
    "np.savetxt('AdaBoostClassifier_Cocr',final_parT,delimiter=',')"
   ]
  },
  {
   "cell_type": "code",
   "execution_count": null,
   "id": "3cfc3459",
   "metadata": {},
   "outputs": [],
   "source": []
  }
 ],
 "metadata": {
  "kernelspec": {
   "display_name": "base",
   "language": "python",
   "name": "base"
  },
  "language_info": {
   "codemirror_mode": {
    "name": "ipython",
    "version": 3
   },
   "file_extension": ".py",
   "mimetype": "text/x-python",
   "name": "python",
   "nbconvert_exporter": "python",
   "pygments_lexer": "ipython3",
   "version": "3.7.16"
  }
 },
 "nbformat": 4,
 "nbformat_minor": 5
}
