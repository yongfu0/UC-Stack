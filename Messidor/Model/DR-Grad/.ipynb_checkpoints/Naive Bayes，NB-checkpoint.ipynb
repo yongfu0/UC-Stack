{
 "cells": [
  {
   "cell_type": "code",
   "execution_count": null,
   "id": "e95f3be8",
   "metadata": {},
   "outputs": [],
   "source": [
    "import numpy as np\n",
    "import matplotlib.pyplot as plt\n",
    "import pandas as pd\n",
    "from sklearn.metrics import confusion_matrix\n",
    "from sklearn.naive_bayes import GaussianNB\n",
    "from sklearn.preprocessing import StandardScaler\n",
    "from sklearn.model_selection import train_test_split\n",
    "from sklearn.metrics import accuracy_score, recall_score, f1_score, precision_score,roc_curve, auc \n",
    "import sklearn.metrics as sm"
   ]
  },
  {
   "cell_type": "code",
   "execution_count": 2,
   "id": "9b6af710",
   "metadata": {},
   "outputs": [],
   "source": [
    "dataset = pd.read_csv('output_2_ori.csv')\n",
    "X= dataset.drop(['label'], axis=1)   # 取出用于建模的特征列X\n",
    "Y = dataset['state']   # 取出标签列Y\n",
    "\n",
    "X_train, X_test, Y_train, Y_test = train_test_split(X, Y, test_size=0.2, random_state=420)"
   ]
  },
  {
   "cell_type": "code",
   "execution_count": 3,
   "id": "db2383b7",
   "metadata": {},
   "outputs": [],
   "source": [
    "sc = StandardScaler()\n",
    "X_train = sc.fit_transform(X_train)\n",
    "X_test = sc.transform(X_test)"
   ]
  },
  {
   "cell_type": "code",
   "execution_count": 4,
   "id": "aab35df7",
   "metadata": {},
   "outputs": [],
   "source": [
    "param_grid=[{\n",
    "             'var_smoothing': [1e-10,1e-9,1e-8,1e-6,1e-4,1e-3,1e-2,1,10,100],\n",
    "           },\n",
    "           ]"
   ]
  },
  {
   "cell_type": "code",
   "execution_count": 5,
   "id": "71851228",
   "metadata": {},
   "outputs": [
    {
     "name": "stdout",
     "output_type": "stream",
     "text": [
      "Fitting 10 folds for each of 10 candidates, totalling 100 fits\n"
     ]
    },
    {
     "data": {
      "text/html": [
       "<style>#sk-container-id-1 {color: black;background-color: white;}#sk-container-id-1 pre{padding: 0;}#sk-container-id-1 div.sk-toggleable {background-color: white;}#sk-container-id-1 label.sk-toggleable__label {cursor: pointer;display: block;width: 100%;margin-bottom: 0;padding: 0.3em;box-sizing: border-box;text-align: center;}#sk-container-id-1 label.sk-toggleable__label-arrow:before {content: \"▸\";float: left;margin-right: 0.25em;color: #696969;}#sk-container-id-1 label.sk-toggleable__label-arrow:hover:before {color: black;}#sk-container-id-1 div.sk-estimator:hover label.sk-toggleable__label-arrow:before {color: black;}#sk-container-id-1 div.sk-toggleable__content {max-height: 0;max-width: 0;overflow: hidden;text-align: left;background-color: #f0f8ff;}#sk-container-id-1 div.sk-toggleable__content pre {margin: 0.2em;color: black;border-radius: 0.25em;background-color: #f0f8ff;}#sk-container-id-1 input.sk-toggleable__control:checked~div.sk-toggleable__content {max-height: 200px;max-width: 100%;overflow: auto;}#sk-container-id-1 input.sk-toggleable__control:checked~label.sk-toggleable__label-arrow:before {content: \"▾\";}#sk-container-id-1 div.sk-estimator input.sk-toggleable__control:checked~label.sk-toggleable__label {background-color: #d4ebff;}#sk-container-id-1 div.sk-label input.sk-toggleable__control:checked~label.sk-toggleable__label {background-color: #d4ebff;}#sk-container-id-1 input.sk-hidden--visually {border: 0;clip: rect(1px 1px 1px 1px);clip: rect(1px, 1px, 1px, 1px);height: 1px;margin: -1px;overflow: hidden;padding: 0;position: absolute;width: 1px;}#sk-container-id-1 div.sk-estimator {font-family: monospace;background-color: #f0f8ff;border: 1px dotted black;border-radius: 0.25em;box-sizing: border-box;margin-bottom: 0.5em;}#sk-container-id-1 div.sk-estimator:hover {background-color: #d4ebff;}#sk-container-id-1 div.sk-parallel-item::after {content: \"\";width: 100%;border-bottom: 1px solid gray;flex-grow: 1;}#sk-container-id-1 div.sk-label:hover label.sk-toggleable__label {background-color: #d4ebff;}#sk-container-id-1 div.sk-serial::before {content: \"\";position: absolute;border-left: 1px solid gray;box-sizing: border-box;top: 0;bottom: 0;left: 50%;z-index: 0;}#sk-container-id-1 div.sk-serial {display: flex;flex-direction: column;align-items: center;background-color: white;padding-right: 0.2em;padding-left: 0.2em;position: relative;}#sk-container-id-1 div.sk-item {position: relative;z-index: 1;}#sk-container-id-1 div.sk-parallel {display: flex;align-items: stretch;justify-content: center;background-color: white;position: relative;}#sk-container-id-1 div.sk-item::before, #sk-container-id-1 div.sk-parallel-item::before {content: \"\";position: absolute;border-left: 1px solid gray;box-sizing: border-box;top: 0;bottom: 0;left: 50%;z-index: -1;}#sk-container-id-1 div.sk-parallel-item {display: flex;flex-direction: column;z-index: 1;position: relative;background-color: white;}#sk-container-id-1 div.sk-parallel-item:first-child::after {align-self: flex-end;width: 50%;}#sk-container-id-1 div.sk-parallel-item:last-child::after {align-self: flex-start;width: 50%;}#sk-container-id-1 div.sk-parallel-item:only-child::after {width: 0;}#sk-container-id-1 div.sk-dashed-wrapped {border: 1px dashed gray;margin: 0 0.4em 0.5em 0.4em;box-sizing: border-box;padding-bottom: 0.4em;background-color: white;}#sk-container-id-1 div.sk-label label {font-family: monospace;font-weight: bold;display: inline-block;line-height: 1.2em;}#sk-container-id-1 div.sk-label-container {text-align: center;}#sk-container-id-1 div.sk-container {/* jupyter's `normalize.less` sets `[hidden] { display: none; }` but bootstrap.min.css set `[hidden] { display: none !important; }` so we also need the `!important` here to be able to override the default hidden behavior on the sphinx rendered scikit-learn.org. See: https://github.com/scikit-learn/scikit-learn/issues/21755 */display: inline-block !important;position: relative;}#sk-container-id-1 div.sk-text-repr-fallback {display: none;}</style><div id=\"sk-container-id-1\" class=\"sk-top-container\"><div class=\"sk-text-repr-fallback\"><pre>GaussianNB(var_smoothing=10)</pre><b>In a Jupyter environment, please rerun this cell to show the HTML representation or trust the notebook. <br />On GitHub, the HTML representation is unable to render, please try loading this page with nbviewer.org.</b></div><div class=\"sk-container\" hidden><div class=\"sk-item\"><div class=\"sk-estimator sk-toggleable\"><input class=\"sk-toggleable__control sk-hidden--visually\" id=\"sk-estimator-id-1\" type=\"checkbox\" checked><label for=\"sk-estimator-id-1\" class=\"sk-toggleable__label sk-toggleable__label-arrow\">GaussianNB</label><div class=\"sk-toggleable__content\"><pre>GaussianNB(var_smoothing=10)</pre></div></div></div></div></div>"
      ],
      "text/plain": [
       "GaussianNB(var_smoothing=10)"
      ]
     },
     "execution_count": 5,
     "metadata": {},
     "output_type": "execute_result"
    }
   ],
   "source": [
    "classifier = GaussianNB()\n",
    "from sklearn.model_selection import GridSearchCV\n",
    "grid_search = GridSearchCV(classifier, param_grid, n_jobs = -1, verbose = 1, cv=10)     \n",
    "grid_search.fit(X_train, Y_train)   \n",
    "grid_search.best_estimator_ "
   ]
  },
  {
   "cell_type": "code",
   "execution_count": 6,
   "id": "096c0715",
   "metadata": {},
   "outputs": [],
   "source": [
    "classifier = grid_search.best_estimator_ "
   ]
  },
  {
   "cell_type": "code",
   "execution_count": 7,
   "id": "54642bc5",
   "metadata": {},
   "outputs": [
    {
     "data": {
      "text/html": [
       "<style>#sk-container-id-2 {color: black;background-color: white;}#sk-container-id-2 pre{padding: 0;}#sk-container-id-2 div.sk-toggleable {background-color: white;}#sk-container-id-2 label.sk-toggleable__label {cursor: pointer;display: block;width: 100%;margin-bottom: 0;padding: 0.3em;box-sizing: border-box;text-align: center;}#sk-container-id-2 label.sk-toggleable__label-arrow:before {content: \"▸\";float: left;margin-right: 0.25em;color: #696969;}#sk-container-id-2 label.sk-toggleable__label-arrow:hover:before {color: black;}#sk-container-id-2 div.sk-estimator:hover label.sk-toggleable__label-arrow:before {color: black;}#sk-container-id-2 div.sk-toggleable__content {max-height: 0;max-width: 0;overflow: hidden;text-align: left;background-color: #f0f8ff;}#sk-container-id-2 div.sk-toggleable__content pre {margin: 0.2em;color: black;border-radius: 0.25em;background-color: #f0f8ff;}#sk-container-id-2 input.sk-toggleable__control:checked~div.sk-toggleable__content {max-height: 200px;max-width: 100%;overflow: auto;}#sk-container-id-2 input.sk-toggleable__control:checked~label.sk-toggleable__label-arrow:before {content: \"▾\";}#sk-container-id-2 div.sk-estimator input.sk-toggleable__control:checked~label.sk-toggleable__label {background-color: #d4ebff;}#sk-container-id-2 div.sk-label input.sk-toggleable__control:checked~label.sk-toggleable__label {background-color: #d4ebff;}#sk-container-id-2 input.sk-hidden--visually {border: 0;clip: rect(1px 1px 1px 1px);clip: rect(1px, 1px, 1px, 1px);height: 1px;margin: -1px;overflow: hidden;padding: 0;position: absolute;width: 1px;}#sk-container-id-2 div.sk-estimator {font-family: monospace;background-color: #f0f8ff;border: 1px dotted black;border-radius: 0.25em;box-sizing: border-box;margin-bottom: 0.5em;}#sk-container-id-2 div.sk-estimator:hover {background-color: #d4ebff;}#sk-container-id-2 div.sk-parallel-item::after {content: \"\";width: 100%;border-bottom: 1px solid gray;flex-grow: 1;}#sk-container-id-2 div.sk-label:hover label.sk-toggleable__label {background-color: #d4ebff;}#sk-container-id-2 div.sk-serial::before {content: \"\";position: absolute;border-left: 1px solid gray;box-sizing: border-box;top: 0;bottom: 0;left: 50%;z-index: 0;}#sk-container-id-2 div.sk-serial {display: flex;flex-direction: column;align-items: center;background-color: white;padding-right: 0.2em;padding-left: 0.2em;position: relative;}#sk-container-id-2 div.sk-item {position: relative;z-index: 1;}#sk-container-id-2 div.sk-parallel {display: flex;align-items: stretch;justify-content: center;background-color: white;position: relative;}#sk-container-id-2 div.sk-item::before, #sk-container-id-2 div.sk-parallel-item::before {content: \"\";position: absolute;border-left: 1px solid gray;box-sizing: border-box;top: 0;bottom: 0;left: 50%;z-index: -1;}#sk-container-id-2 div.sk-parallel-item {display: flex;flex-direction: column;z-index: 1;position: relative;background-color: white;}#sk-container-id-2 div.sk-parallel-item:first-child::after {align-self: flex-end;width: 50%;}#sk-container-id-2 div.sk-parallel-item:last-child::after {align-self: flex-start;width: 50%;}#sk-container-id-2 div.sk-parallel-item:only-child::after {width: 0;}#sk-container-id-2 div.sk-dashed-wrapped {border: 1px dashed gray;margin: 0 0.4em 0.5em 0.4em;box-sizing: border-box;padding-bottom: 0.4em;background-color: white;}#sk-container-id-2 div.sk-label label {font-family: monospace;font-weight: bold;display: inline-block;line-height: 1.2em;}#sk-container-id-2 div.sk-label-container {text-align: center;}#sk-container-id-2 div.sk-container {/* jupyter's `normalize.less` sets `[hidden] { display: none; }` but bootstrap.min.css set `[hidden] { display: none !important; }` so we also need the `!important` here to be able to override the default hidden behavior on the sphinx rendered scikit-learn.org. See: https://github.com/scikit-learn/scikit-learn/issues/21755 */display: inline-block !important;position: relative;}#sk-container-id-2 div.sk-text-repr-fallback {display: none;}</style><div id=\"sk-container-id-2\" class=\"sk-top-container\"><div class=\"sk-text-repr-fallback\"><pre>GaussianNB(var_smoothing=10)</pre><b>In a Jupyter environment, please rerun this cell to show the HTML representation or trust the notebook. <br />On GitHub, the HTML representation is unable to render, please try loading this page with nbviewer.org.</b></div><div class=\"sk-container\" hidden><div class=\"sk-item\"><div class=\"sk-estimator sk-toggleable\"><input class=\"sk-toggleable__control sk-hidden--visually\" id=\"sk-estimator-id-2\" type=\"checkbox\" checked><label for=\"sk-estimator-id-2\" class=\"sk-toggleable__label sk-toggleable__label-arrow\">GaussianNB</label><div class=\"sk-toggleable__content\"><pre>GaussianNB(var_smoothing=10)</pre></div></div></div></div></div>"
      ],
      "text/plain": [
       "GaussianNB(var_smoothing=10)"
      ]
     },
     "execution_count": 7,
     "metadata": {},
     "output_type": "execute_result"
    }
   ],
   "source": [
    "classifier.fit(X_train, Y_train)"
   ]
  },
  {
   "cell_type": "code",
   "execution_count": 8,
   "id": "157341e1",
   "metadata": {},
   "outputs": [
    {
     "ename": "AttributeError",
     "evalue": "'GaussianNB' object has no attribute 'feature_importances_'",
     "output_type": "error",
     "traceback": [
      "\u001b[1;31m---------------------------------------------------------------------------\u001b[0m",
      "\u001b[1;31mAttributeError\u001b[0m                            Traceback (most recent call last)",
      "Input \u001b[1;32mIn [8]\u001b[0m, in \u001b[0;36m<cell line: 1>\u001b[1;34m()\u001b[0m\n\u001b[1;32m----> 1\u001b[0m importances \u001b[38;5;241m=\u001b[39m\u001b[43mclassifier\u001b[49m\u001b[38;5;241;43m.\u001b[39;49m\u001b[43mfeature_importances_\u001b[49m\n\u001b[0;32m      2\u001b[0m \u001b[38;5;28mprint\u001b[39m(importances)\n",
      "\u001b[1;31mAttributeError\u001b[0m: 'GaussianNB' object has no attribute 'feature_importances_'"
     ]
    }
   ],
   "source": [
    "importances =classifier.feature_importances_\n",
    "print(importances)"
   ]
  },
  {
   "cell_type": "code",
   "execution_count": null,
   "id": "26964e59",
   "metadata": {},
   "outputs": [],
   "source": []
  },
  {
   "cell_type": "code",
   "execution_count": null,
   "id": "b56a3cdb",
   "metadata": {},
   "outputs": [],
   "source": []
  },
  {
   "cell_type": "code",
   "execution_count": null,
   "id": "e459fa7b",
   "metadata": {},
   "outputs": [],
   "source": []
  },
  {
   "cell_type": "code",
   "execution_count": 8,
   "id": "f0da9142",
   "metadata": {},
   "outputs": [],
   "source": [
    "y_pred = classifier.predict(X_test)"
   ]
  },
  {
   "cell_type": "code",
   "execution_count": 9,
   "id": "1129ac7e",
   "metadata": {},
   "outputs": [
    {
     "name": "stdout",
     "output_type": "stream",
     "text": [
      "[[52  0]\n",
      " [23  0]]\n"
     ]
    }
   ],
   "source": [
    "cm = confusion_matrix(Y_test, y_pred)\n",
    "print(cm)"
   ]
  },
  {
   "cell_type": "code",
   "execution_count": 10,
   "id": "567844b2",
   "metadata": {
    "scrolled": true
   },
   "outputs": [
    {
     "name": "stdout",
     "output_type": "stream",
     "text": [
      "---------------分类报告\n",
      "               precision    recall  f1-score   support\n",
      "\n",
      "           0       0.69      1.00      0.82        52\n",
      "           1       0.00      0.00      0.00        23\n",
      "\n",
      "    accuracy                           0.69        75\n",
      "   macro avg       0.35      0.50      0.41        75\n",
      "weighted avg       0.48      0.69      0.57        75\n",
      "\n"
     ]
    },
    {
     "name": "stderr",
     "output_type": "stream",
     "text": [
      "E:\\Anaconda1\\lib\\site-packages\\sklearn\\metrics\\_classification.py:1334: UndefinedMetricWarning: Precision and F-score are ill-defined and being set to 0.0 in labels with no predicted samples. Use `zero_division` parameter to control this behavior.\n",
      "  _warn_prf(average, modifier, msg_start, len(result))\n",
      "E:\\Anaconda1\\lib\\site-packages\\sklearn\\metrics\\_classification.py:1334: UndefinedMetricWarning: Precision and F-score are ill-defined and being set to 0.0 in labels with no predicted samples. Use `zero_division` parameter to control this behavior.\n",
      "  _warn_prf(average, modifier, msg_start, len(result))\n",
      "E:\\Anaconda1\\lib\\site-packages\\sklearn\\metrics\\_classification.py:1334: UndefinedMetricWarning: Precision and F-score are ill-defined and being set to 0.0 in labels with no predicted samples. Use `zero_division` parameter to control this behavior.\n",
      "  _warn_prf(average, modifier, msg_start, len(result))\n"
     ]
    }
   ],
   "source": [
    "cp = sm.classification_report(Y_test, y_pred)\n",
    "print(\"---------------分类报告\\n\", cp)"
   ]
  },
  {
   "cell_type": "code",
   "execution_count": 11,
   "id": "d67a3774",
   "metadata": {},
   "outputs": [
    {
     "name": "stdout",
     "output_type": "stream",
     "text": [
      "Accuracy score: 0.6933333333333334\n",
      "Recall: 0.6933333333333334\n",
      "F1-score: 0.5677690288713911\n",
      "Precision score: 0.48071111111111114\n",
      "0.5\n"
     ]
    },
    {
     "name": "stderr",
     "output_type": "stream",
     "text": [
      "E:\\Anaconda1\\lib\\site-packages\\sklearn\\metrics\\_classification.py:1334: UndefinedMetricWarning: Precision is ill-defined and being set to 0.0 in labels with no predicted samples. Use `zero_division` parameter to control this behavior.\n",
      "  _warn_prf(average, modifier, msg_start, len(result))\n"
     ]
    }
   ],
   "source": [
    "from sklearn.metrics import accuracy_score, recall_score, f1_score, precision_score\n",
    "print('Accuracy score:', accuracy_score(Y_test, y_pred))\n",
    "print('Recall:', recall_score(Y_test, y_pred, average='weighted'))\n",
    "print('F1-score:', f1_score(Y_test, y_pred, average='weighted'))\n",
    "print('Precision score:', precision_score(Y_test, y_pred, average='weighted'))\n",
    "y_test_proba_rfc =classifier.predict_proba(X_test)\n",
    "false_positive_rate_rfc, recall_rfc, thresholds_rfc = roc_curve(Y_test, y_test_proba_rfc[:, 1])  \n",
    "roc_auc_rfc = auc(false_positive_rate_rfc, recall_rfc)   \n",
    "print(roc_auc_rfc )"
   ]
  },
  {
   "cell_type": "code",
   "execution_count": 13,
   "id": "c3149659",
   "metadata": {
    "scrolled": false
   },
   "outputs": [
    {
     "name": "stdout",
     "output_type": "stream",
     "text": [
      "2\n",
      "3\n",
      "4\n",
      "5\n",
      "6\n",
      "7\n",
      "8\n",
      "9\n",
      "10\n",
      "11\n",
      "12\n",
      "13\n",
      "14\n",
      "15\n",
      "16\n",
      "17\n",
      "18\n",
      "19\n",
      "20\n",
      "21\n",
      "22\n",
      "23\n",
      "24\n",
      "25\n",
      "26\n",
      "27\n",
      "28\n",
      "29\n",
      "30\n",
      "31\n",
      "32\n",
      "33\n",
      "34\n",
      "35\n",
      "36\n",
      "37\n",
      "38\n",
      "39\n",
      "40\n",
      "41\n",
      "42\n",
      "43\n",
      "44\n",
      "45\n",
      "46\n",
      "47\n",
      "48\n",
      "49\n",
      "50\n",
      "51\n",
      "[[ 1.          2.          3.          4.          5.          6.\n",
      "   7.          8.          9.         10.         11.         12.\n",
      "  13.         14.         15.         16.         17.         18.\n",
      "  19.         20.         21.         22.         23.         24.\n",
      "  25.         26.         27.         28.         29.         30.\n",
      "  31.         32.         33.         34.         35.         36.\n",
      "  37.         38.         39.         40.         41.         42.\n",
      "  43.         44.         45.         46.         47.         48.\n",
      "  49.         50.        ]\n",
      " [ 0.          0.          0.          0.          0.          0.\n",
      "   0.          0.          0.          0.          0.          0.\n",
      "   0.          0.          0.          0.          0.          0.\n",
      "   0.          0.          0.          0.          0.          0.\n",
      "   0.          0.          0.          0.          0.          0.\n",
      "   0.          0.          0.          0.          0.          0.\n",
      "   0.          0.          0.          0.          0.          0.\n",
      "   0.          0.          0.          0.          0.          0.\n",
      "   0.          0.        ]\n",
      " [ 1.          1.          1.          1.          1.          1.\n",
      "   1.          1.          1.          1.          1.          1.\n",
      "   1.          1.          1.          1.          1.          1.\n",
      "   1.          1.          1.          1.          1.          1.\n",
      "   1.          1.          1.          1.          1.          1.\n",
      "   1.          1.          1.          1.          1.          1.\n",
      "   1.          1.          1.          1.          1.          1.\n",
      "   1.          1.          1.          1.          1.          1.\n",
      "   1.          1.        ]\n",
      " [ 0.69333333  0.69333333  0.69333333  0.69333333  0.69333333  0.69333333\n",
      "   0.69333333  0.69333333  0.69333333  0.69333333  0.69333333  0.69333333\n",
      "   0.69333333  0.69333333  0.69333333  0.69333333  0.69333333  0.69333333\n",
      "   0.69333333  0.69333333  0.69333333  0.69333333  0.69333333  0.69333333\n",
      "   0.69333333  0.69333333  0.69333333  0.69333333  0.69333333  0.69333333\n",
      "   0.69333333  0.69333333  0.69333333  0.69333333  0.69333333  0.69333333\n",
      "   0.69333333  0.69333333  0.69333333  0.69333333  0.69333333  0.69333333\n",
      "   0.69333333  0.69333333  0.69333333  0.69333333  0.69333333  0.69333333\n",
      "   0.69333333  0.69333333]\n",
      " [ 0.69333333  0.69333333  0.69333333  0.69333333  0.69333333  0.69333333\n",
      "   0.69333333  0.69333333  0.69333333  0.69333333  0.69333333  0.69333333\n",
      "   0.69333333  0.69333333  0.69333333  0.69333333  0.69333333  0.69333333\n",
      "   0.69333333  0.69333333  0.69333333  0.69333333  0.69333333  0.69333333\n",
      "   0.69333333  0.69333333  0.69333333  0.69333333  0.69333333  0.69333333\n",
      "   0.69333333  0.69333333  0.69333333  0.69333333  0.69333333  0.69333333\n",
      "   0.69333333  0.69333333  0.69333333  0.69333333  0.69333333  0.69333333\n",
      "   0.69333333  0.69333333  0.69333333  0.69333333  0.69333333  0.69333333\n",
      "   0.69333333  0.69333333]\n",
      " [ 0.81889764  0.81889764  0.81889764  0.81889764  0.81889764  0.81889764\n",
      "   0.81889764  0.81889764  0.81889764  0.81889764  0.81889764  0.81889764\n",
      "   0.81889764  0.81889764  0.81889764  0.81889764  0.81889764  0.81889764\n",
      "   0.81889764  0.81889764  0.81889764  0.81889764  0.81889764  0.81889764\n",
      "   0.81889764  0.81889764  0.81889764  0.81889764  0.81889764  0.81889764\n",
      "   0.81889764  0.81889764  0.81889764  0.81889764  0.81889764  0.81889764\n",
      "   0.81889764  0.81889764  0.81889764  0.81889764  0.81889764  0.81889764\n",
      "   0.81889764  0.81889764  0.81889764  0.81889764  0.81889764  0.81889764\n",
      "   0.81889764  0.81889764]\n",
      " [ 0.5         0.5         0.5         0.5         0.5         0.5\n",
      "   0.5         0.5         0.5         0.5         0.5         0.5\n",
      "   0.5         0.5         0.5         0.5         0.5         0.5\n",
      "   0.5         0.5         0.5         0.5         0.5         0.5\n",
      "   0.5         0.5         0.5         0.5         0.5         0.5\n",
      "   0.5         0.5         0.5         0.5         0.5         0.5\n",
      "   0.5         0.5         0.5         0.5         0.5         0.5\n",
      "   0.5         0.5         0.5         0.5         0.5         0.5\n",
      "   0.5         0.5       ]\n",
      " [ 0.          0.          0.          0.          0.          0.\n",
      "   0.          0.          0.          0.          0.          0.\n",
      "   0.          0.          0.          0.          0.          0.\n",
      "   0.          0.          0.          0.          0.          0.\n",
      "   0.          0.          0.          0.          0.          0.\n",
      "   0.          0.          0.          0.          0.          0.\n",
      "   0.          0.          0.          0.          0.          0.\n",
      "   0.          0.          0.          0.          0.          0.\n",
      "   0.          0.        ]\n",
      " [ 1.          1.          1.          1.          1.          1.\n",
      "   1.          1.          1.          1.          1.          1.\n",
      "   1.          1.          1.          1.          1.          1.\n",
      "   1.          1.          1.          1.          1.          1.\n",
      "   1.          1.          1.          1.          1.          1.\n",
      "   1.          1.          1.          1.          1.          1.\n",
      "   1.          1.          1.          1.          1.          1.\n",
      "   1.          1.          1.          1.          1.          1.\n",
      "   1.          1.        ]\n",
      " [ 0.71333333  0.71333333  0.71333333  0.71333333  0.71333333  0.71333333\n",
      "   0.71333333  0.71333333  0.71333333  0.71333333  0.71333333  0.71333333\n",
      "   0.71333333  0.71333333  0.71333333  0.71333333  0.71333333  0.71333333\n",
      "   0.71333333  0.71333333  0.71333333  0.71333333  0.71333333  0.71333333\n",
      "   0.71333333  0.71333333  0.71333333  0.71333333  0.71333333  0.71333333\n",
      "   0.71333333  0.71333333  0.71333333  0.71333333  0.71333333  0.71333333\n",
      "   0.71333333  0.71333333  0.71333333  0.71333333  0.71333333  0.71333333\n",
      "   0.71333333  0.71333333  0.71333333  0.71333333  0.71333333  0.71333333\n",
      "   0.71333333  0.71333333]\n",
      " [ 0.71333333  0.71333333  0.71333333  0.71333333  0.71333333  0.71333333\n",
      "   0.71333333  0.71333333  0.71333333  0.71333333  0.71333333  0.71333333\n",
      "   0.71333333  0.71333333  0.71333333  0.71333333  0.71333333  0.71333333\n",
      "   0.71333333  0.71333333  0.71333333  0.71333333  0.71333333  0.71333333\n",
      "   0.71333333  0.71333333  0.71333333  0.71333333  0.71333333  0.71333333\n",
      "   0.71333333  0.71333333  0.71333333  0.71333333  0.71333333  0.71333333\n",
      "   0.71333333  0.71333333  0.71333333  0.71333333  0.71333333  0.71333333\n",
      "   0.71333333  0.71333333  0.71333333  0.71333333  0.71333333  0.71333333\n",
      "   0.71333333  0.71333333]\n",
      " [ 0.83268482  0.83268482  0.83268482  0.83268482  0.83268482  0.83268482\n",
      "   0.83268482  0.83268482  0.83268482  0.83268482  0.83268482  0.83268482\n",
      "   0.83268482  0.83268482  0.83268482  0.83268482  0.83268482  0.83268482\n",
      "   0.83268482  0.83268482  0.83268482  0.83268482  0.83268482  0.83268482\n",
      "   0.83268482  0.83268482  0.83268482  0.83268482  0.83268482  0.83268482\n",
      "   0.83268482  0.83268482  0.83268482  0.83268482  0.83268482  0.83268482\n",
      "   0.83268482  0.83268482  0.83268482  0.83268482  0.83268482  0.83268482\n",
      "   0.83268482  0.83268482  0.83268482  0.83268482  0.83268482  0.83268482\n",
      "   0.83268482  0.83268482]\n",
      " [ 0.5         0.5         0.5         0.5         0.5         0.5\n",
      "   0.5         0.5         0.5         0.5         0.5         0.5\n",
      "   0.5         0.5         0.5         0.5         0.5         0.5\n",
      "   0.5         0.5         0.5         0.5         0.5         0.5\n",
      "   0.5         0.5         0.5         0.5         0.5         0.5\n",
      "   0.5         0.5         0.5         0.5         0.5         0.5\n",
      "   0.5         0.5         0.5         0.5         0.5         0.5\n",
      "   0.5         0.5         0.5         0.5         0.5         0.5\n",
      "   0.5         0.5       ]]\n"
     ]
    }
   ],
   "source": [
    "empty = np.array([[0],[0],[0],[0],[0],[0],[0],[0],[0],[0],[0],[0],[0]])\n",
    "n=1\n",
    "while n < 51:\n",
    "    \n",
    "    X_train, X_test, y_train, y_test = train_test_split(X, Y, test_size = 0.2, random_state = n)\n",
    "    sc = StandardScaler()\n",
    "    X_train = sc.fit_transform(X_train)\n",
    "    X_test = sc.transform(X_test)\n",
    "    \n",
    "    classifier = GaussianNB(var_smoothing=10)\n",
    "    classifier.fit(X_train, Y_train)\n",
    "    \n",
    "    \n",
    "    y_pred = classifier.predict(X_test)   \n",
    "    y_updatapred = classifier.predict(X_train)\n",
    "    from sklearn.metrics import confusion_matrix, roc_auc_score\n",
    "    cm = confusion_matrix(Y_test, y_pred)   \n",
    "    cm_updata = confusion_matrix(Y_train, y_updatapred)\n",
    "    auc = roc_auc_score(Y_test, y_pred)\n",
    "    auc_updata = roc_auc_score(Y_train, y_updatapred)\n",
    "    a = cm[0,0]\n",
    "    b = cm[0,1]\n",
    "    c = cm[1,0]\n",
    "    d = cm[1,1]\n",
    "    sen = d/(d+c)\n",
    "    sep = a/(a+b)\n",
    "    acc = (a+d)/(a+b+c+d)\n",
    "    pre = a/(a+c)\n",
    "    F1 = (2*a)/(2*a+c+b)\n",
    "    \n",
    "    a_updata = cm_updata[0,0]\n",
    "    b_updata = cm_updata[0,1]\n",
    "    c_updata = cm_updata[1,0]\n",
    "    d_updata = cm_updata[1,1]\n",
    "    \n",
    "    sen_updata = d_updata/(d_updata + c_updata)\n",
    "    sep_updata = a_updata/(a_updata + b_updata)\n",
    "    acc_updata = (a_updata+d_updata)/(a_updata+b_updata+c_updata+d_updata)\n",
    "    pre_updata = a_updata/(a_updata + c_updata)\n",
    "    F1_updata = (2*a_updata)/(2*a_updata+c_updata+b_updata)\n",
    "    \n",
    "    first = np.array([[n],[sen],[sep],[acc],[pre],[F1],[auc],[sen_updata],[sep_updata],[acc_updata],[pre_updata],[F1_updata],[auc_updata]])\n",
    "    second = np.hstack((empty,first))\n",
    "    empty = second\n",
    "    n = n + 1\n",
    "    print(n)\n",
    "final_par = np.delete(second,0,axis=1)\n",
    "print (final_par)\n",
    "final_parT = final_par.T\n",
    "np.savetxt('GaussianNB_Cocr',final_parT,delimiter=',')"
   ]
  },
  {
   "cell_type": "code",
   "execution_count": null,
   "id": "8e0e277b",
   "metadata": {},
   "outputs": [],
   "source": []
  },
  {
   "cell_type": "code",
   "execution_count": null,
   "id": "b63d68c7",
   "metadata": {},
   "outputs": [],
   "source": []
  }
 ],
 "metadata": {
  "kernelspec": {
   "display_name": "sklearn",
   "language": "python",
   "name": "sklearn"
  },
  "language_info": {
   "codemirror_mode": {
    "name": "ipython",
    "version": 3
   },
   "file_extension": ".py",
   "mimetype": "text/x-python",
   "name": "python",
   "nbconvert_exporter": "python",
   "pygments_lexer": "ipython3",
   "version": "3.9.12"
  }
 },
 "nbformat": 4,
 "nbformat_minor": 5
}
